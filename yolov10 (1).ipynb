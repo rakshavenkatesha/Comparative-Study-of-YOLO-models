{
  "nbformat": 4,
  "nbformat_minor": 0,
  "metadata": {
    "colab": {
      "provenance": [],
      "gpuType": "T4"
    },
    "kernelspec": {
      "name": "python3",
      "display_name": "Python 3"
    },
    "language_info": {
      "name": "python"
    },
    "accelerator": "GPU"
  },
  "cells": [
    {
      "cell_type": "code",
      "execution_count": 6,
      "metadata": {
        "colab": {
          "base_uri": "https://localhost:8080/"
        },
        "id": "o1QjqbkE0pLB",
        "outputId": "19067902-ccc6-40d2-cb8c-850cc6e4d4e9"
      },
      "outputs": [
        {
          "output_type": "stream",
          "name": "stdout",
          "text": [
            "Cloning into 'ultralytics'...\n",
            "remote: Enumerating objects: 59193, done.\u001b[K\n",
            "remote: Counting objects: 100% (882/882), done.\u001b[K\n",
            "remote: Compressing objects: 100% (446/446), done.\u001b[K\n",
            "remote: Total 59193 (delta 724), reused 437 (delta 436), pack-reused 58311 (from 2)\u001b[K\n",
            "Receiving objects: 100% (59193/59193), 32.47 MiB | 22.54 MiB/s, done.\n",
            "Resolving deltas: 100% (43905/43905), done.\n",
            "/content/yolov10/ultralytics/ultralytics\n",
            "Obtaining file:///content/yolov10/ultralytics/ultralytics\n",
            "  Installing build dependencies ... \u001b[?25l\u001b[?25hdone\n",
            "  Checking if build backend supports build_editable ... \u001b[?25l\u001b[?25hdone\n",
            "  Getting requirements to build editable ... \u001b[?25l\u001b[?25hdone\n",
            "  Preparing editable metadata (pyproject.toml) ... \u001b[?25l\u001b[?25hdone\n",
            "Requirement already satisfied: numpy>=1.23.0 in /usr/local/lib/python3.11/dist-packages (from ultralytics==8.3.133) (1.26.4)\n",
            "Requirement already satisfied: matplotlib>=3.3.0 in /usr/local/lib/python3.11/dist-packages (from ultralytics==8.3.133) (3.10.0)\n",
            "Requirement already satisfied: opencv-python>=4.6.0 in /usr/local/lib/python3.11/dist-packages (from ultralytics==8.3.133) (4.9.0.80)\n",
            "Requirement already satisfied: pillow>=7.1.2 in /usr/local/lib/python3.11/dist-packages (from ultralytics==8.3.133) (10.4.0)\n",
            "Requirement already satisfied: pyyaml>=5.3.1 in /usr/local/lib/python3.11/dist-packages (from ultralytics==8.3.133) (6.0.1)\n",
            "Requirement already satisfied: requests>=2.23.0 in /usr/local/lib/python3.11/dist-packages (from ultralytics==8.3.133) (2.32.3)\n",
            "Requirement already satisfied: scipy>=1.4.1 in /usr/local/lib/python3.11/dist-packages (from ultralytics==8.3.133) (1.13.0)\n",
            "Requirement already satisfied: torch>=1.8.0 in /usr/local/lib/python3.11/dist-packages (from ultralytics==8.3.133) (2.0.1)\n",
            "Requirement already satisfied: torchvision>=0.9.0 in /usr/local/lib/python3.11/dist-packages (from ultralytics==8.3.133) (0.15.2)\n",
            "Requirement already satisfied: tqdm>=4.64.0 in /usr/local/lib/python3.11/dist-packages (from ultralytics==8.3.133) (4.67.1)\n",
            "Requirement already satisfied: psutil in /usr/local/lib/python3.11/dist-packages (from ultralytics==8.3.133) (5.9.8)\n",
            "Requirement already satisfied: py-cpuinfo in /usr/local/lib/python3.11/dist-packages (from ultralytics==8.3.133) (9.0.0)\n",
            "Requirement already satisfied: pandas>=1.1.4 in /usr/local/lib/python3.11/dist-packages (from ultralytics==8.3.133) (2.2.2)\n",
            "Requirement already satisfied: seaborn>=0.11.0 in /usr/local/lib/python3.11/dist-packages (from ultralytics==8.3.133) (0.13.2)\n",
            "Collecting ultralytics-thop>=2.0.0 (from ultralytics==8.3.133)\n",
            "  Downloading ultralytics_thop-2.0.14-py3-none-any.whl.metadata (9.4 kB)\n",
            "Requirement already satisfied: contourpy>=1.0.1 in /usr/local/lib/python3.11/dist-packages (from matplotlib>=3.3.0->ultralytics==8.3.133) (1.3.2)\n",
            "Requirement already satisfied: cycler>=0.10 in /usr/local/lib/python3.11/dist-packages (from matplotlib>=3.3.0->ultralytics==8.3.133) (0.12.1)\n",
            "Requirement already satisfied: fonttools>=4.22.0 in /usr/local/lib/python3.11/dist-packages (from matplotlib>=3.3.0->ultralytics==8.3.133) (4.57.0)\n",
            "Requirement already satisfied: kiwisolver>=1.3.1 in /usr/local/lib/python3.11/dist-packages (from matplotlib>=3.3.0->ultralytics==8.3.133) (1.4.8)\n",
            "Requirement already satisfied: packaging>=20.0 in /usr/local/lib/python3.11/dist-packages (from matplotlib>=3.3.0->ultralytics==8.3.133) (24.2)\n",
            "Requirement already satisfied: pyparsing>=2.3.1 in /usr/local/lib/python3.11/dist-packages (from matplotlib>=3.3.0->ultralytics==8.3.133) (3.2.3)\n",
            "Requirement already satisfied: python-dateutil>=2.7 in /usr/local/lib/python3.11/dist-packages (from matplotlib>=3.3.0->ultralytics==8.3.133) (2.9.0.post0)\n",
            "Requirement already satisfied: pytz>=2020.1 in /usr/local/lib/python3.11/dist-packages (from pandas>=1.1.4->ultralytics==8.3.133) (2025.2)\n",
            "Requirement already satisfied: tzdata>=2022.7 in /usr/local/lib/python3.11/dist-packages (from pandas>=1.1.4->ultralytics==8.3.133) (2025.2)\n",
            "Requirement already satisfied: charset-normalizer<4,>=2 in /usr/local/lib/python3.11/dist-packages (from requests>=2.23.0->ultralytics==8.3.133) (3.4.2)\n",
            "Requirement already satisfied: idna<4,>=2.5 in /usr/local/lib/python3.11/dist-packages (from requests>=2.23.0->ultralytics==8.3.133) (3.10)\n",
            "Requirement already satisfied: urllib3<3,>=1.21.1 in /usr/local/lib/python3.11/dist-packages (from requests>=2.23.0->ultralytics==8.3.133) (2.4.0)\n",
            "Requirement already satisfied: certifi>=2017.4.17 in /usr/local/lib/python3.11/dist-packages (from requests>=2.23.0->ultralytics==8.3.133) (2025.4.26)\n",
            "Requirement already satisfied: filelock in /usr/local/lib/python3.11/dist-packages (from torch>=1.8.0->ultralytics==8.3.133) (3.18.0)\n",
            "Requirement already satisfied: typing-extensions in /usr/local/lib/python3.11/dist-packages (from torch>=1.8.0->ultralytics==8.3.133) (4.13.2)\n",
            "Requirement already satisfied: sympy in /usr/local/lib/python3.11/dist-packages (from torch>=1.8.0->ultralytics==8.3.133) (1.13.1)\n",
            "Requirement already satisfied: networkx in /usr/local/lib/python3.11/dist-packages (from torch>=1.8.0->ultralytics==8.3.133) (3.4.2)\n",
            "Requirement already satisfied: jinja2 in /usr/local/lib/python3.11/dist-packages (from torch>=1.8.0->ultralytics==8.3.133) (3.1.6)\n",
            "Requirement already satisfied: nvidia-cuda-nvrtc-cu11==11.7.99 in /usr/local/lib/python3.11/dist-packages (from torch>=1.8.0->ultralytics==8.3.133) (11.7.99)\n",
            "Requirement already satisfied: nvidia-cuda-runtime-cu11==11.7.99 in /usr/local/lib/python3.11/dist-packages (from torch>=1.8.0->ultralytics==8.3.133) (11.7.99)\n",
            "Requirement already satisfied: nvidia-cuda-cupti-cu11==11.7.101 in /usr/local/lib/python3.11/dist-packages (from torch>=1.8.0->ultralytics==8.3.133) (11.7.101)\n",
            "Requirement already satisfied: nvidia-cudnn-cu11==8.5.0.96 in /usr/local/lib/python3.11/dist-packages (from torch>=1.8.0->ultralytics==8.3.133) (8.5.0.96)\n",
            "Requirement already satisfied: nvidia-cublas-cu11==11.10.3.66 in /usr/local/lib/python3.11/dist-packages (from torch>=1.8.0->ultralytics==8.3.133) (11.10.3.66)\n",
            "Requirement already satisfied: nvidia-cufft-cu11==10.9.0.58 in /usr/local/lib/python3.11/dist-packages (from torch>=1.8.0->ultralytics==8.3.133) (10.9.0.58)\n",
            "Requirement already satisfied: nvidia-curand-cu11==10.2.10.91 in /usr/local/lib/python3.11/dist-packages (from torch>=1.8.0->ultralytics==8.3.133) (10.2.10.91)\n",
            "Requirement already satisfied: nvidia-cusolver-cu11==11.4.0.1 in /usr/local/lib/python3.11/dist-packages (from torch>=1.8.0->ultralytics==8.3.133) (11.4.0.1)\n",
            "Requirement already satisfied: nvidia-cusparse-cu11==11.7.4.91 in /usr/local/lib/python3.11/dist-packages (from torch>=1.8.0->ultralytics==8.3.133) (11.7.4.91)\n",
            "Requirement already satisfied: nvidia-nccl-cu11==2.14.3 in /usr/local/lib/python3.11/dist-packages (from torch>=1.8.0->ultralytics==8.3.133) (2.14.3)\n",
            "Requirement already satisfied: nvidia-nvtx-cu11==11.7.91 in /usr/local/lib/python3.11/dist-packages (from torch>=1.8.0->ultralytics==8.3.133) (11.7.91)\n",
            "Requirement already satisfied: triton==2.0.0 in /usr/local/lib/python3.11/dist-packages (from torch>=1.8.0->ultralytics==8.3.133) (2.0.0)\n",
            "Requirement already satisfied: setuptools in /usr/local/lib/python3.11/dist-packages (from nvidia-cublas-cu11==11.10.3.66->torch>=1.8.0->ultralytics==8.3.133) (75.2.0)\n",
            "Requirement already satisfied: wheel in /usr/local/lib/python3.11/dist-packages (from nvidia-cublas-cu11==11.10.3.66->torch>=1.8.0->ultralytics==8.3.133) (0.45.1)\n",
            "Requirement already satisfied: cmake in /usr/local/lib/python3.11/dist-packages (from triton==2.0.0->torch>=1.8.0->ultralytics==8.3.133) (3.31.6)\n",
            "Requirement already satisfied: lit in /usr/local/lib/python3.11/dist-packages (from triton==2.0.0->torch>=1.8.0->ultralytics==8.3.133) (18.1.8)\n",
            "Requirement already satisfied: six>=1.5 in /usr/local/lib/python3.11/dist-packages (from python-dateutil>=2.7->matplotlib>=3.3.0->ultralytics==8.3.133) (1.17.0)\n",
            "Requirement already satisfied: MarkupSafe>=2.0 in /usr/local/lib/python3.11/dist-packages (from jinja2->torch>=1.8.0->ultralytics==8.3.133) (2.1.5)\n",
            "Requirement already satisfied: mpmath<1.4,>=1.1.0 in /usr/local/lib/python3.11/dist-packages (from sympy->torch>=1.8.0->ultralytics==8.3.133) (1.3.0)\n",
            "Downloading ultralytics_thop-2.0.14-py3-none-any.whl (26 kB)\n",
            "Building wheels for collected packages: ultralytics\n",
            "  Building editable for ultralytics (pyproject.toml) ... \u001b[?25l\u001b[?25hdone\n",
            "  Created wheel for ultralytics: filename=ultralytics-8.3.133-0.editable-py3-none-any.whl size=23103 sha256=a25e363c10ad985f980f3cc1aa6e0f628aaf31f3aeb7ed1787c69611b89423ec\n",
            "  Stored in directory: /tmp/pip-ephem-wheel-cache-b2xjatjh/wheels/c5/9e/db/9b09072ef292a0ff44fc261c9fd8af426516d3e58729dadf3d\n",
            "Successfully built ultralytics\n",
            "Installing collected packages: ultralytics-thop, ultralytics\n",
            "Successfully installed ultralytics-8.3.133 ultralytics-thop-2.0.14\n"
          ]
        }
      ],
      "source": [
        "# Clone YOLOv10 (Ultralytics-style, includes YOLOv8/9/10/11 under one interface)\n",
        "!git clone https://github.com/ultralytics/ultralytics.git\n",
        "%cd ultralytics\n",
        "!pip install -e .\n",
        "\n"
      ]
    },
    {
      "cell_type": "code",
      "source": [
        "from google.colab import drive\n",
        "drive.mount('/content/drive')\n"
      ],
      "metadata": {
        "colab": {
          "base_uri": "https://localhost:8080/"
        },
        "id": "r2o9uXmHgpuq",
        "outputId": "6ac29583-9f03-49e9-a6e7-64a66c1cd540"
      },
      "execution_count": 2,
      "outputs": [
        {
          "output_type": "stream",
          "name": "stdout",
          "text": [
            "Drive already mounted at /content/drive; to attempt to forcibly remount, call drive.mount(\"/content/drive\", force_remount=True).\n"
          ]
        }
      ]
    },
    {
      "cell_type": "code",
      "source": [
        "import os\n",
        "\n",
        "# YOLOv10-like config compatible with Ultralytics YOLO, using standard 'Detect' and SE-compatible backbone\n",
        "config_text = \"\"\"\n",
        "# YOLOv10-C Custom Config (GELAN-C style) with SE Attention\n",
        "# Adjust 'nc' and class names manually\n",
        "\n",
        "nc: 2  # number of classes\n",
        "depth_multiple: 1.0\n",
        "width_multiple: 1.0\n",
        "\n",
        "backbone:\n",
        "  [\n",
        "    [-1, 1, Conv, [64, 3, 2]],\n",
        "    [-1, 1, Conv, [128, 3, 2]],\n",
        "    [-1, 1, RepNCSPELAN4, [256, 128, 64, 1]],\n",
        "    [-1, 1, ADown, [256]],\n",
        "    [-1, 1, RepNCSPELAN4, [512, 256, 128, 1]],\n",
        "    [-1, 1, ADown, [512]],\n",
        "    [-1, 1, RepNCSPELAN4, [512, 512, 256, 1]],\n",
        "    [-1, 1, ADown, [512]],\n",
        "    [-1, 1, RepNCSPELAN4, [512, 512, 256, 1]],\n",
        "  ]\n",
        "\n",
        "head:\n",
        "  [\n",
        "    [-1, 1, SPPELAN, [512, 256]],\n",
        "    [-1, 1, nn.Upsample, [None, 2, \"nearest\"]],\n",
        "    [[-1, 6], 1, Concat, [1]],\n",
        "    [-1, 1, RepNCSPELAN4, [512, 512, 256, 1]],\n",
        "    [-1, 1, nn.Upsample, [None, 2, \"nearest\"]],\n",
        "    [[-1, 4], 1, Concat, [1]],\n",
        "    [-1, 1, RepNCSPELAN4, [256, 256, 128, 1]],\n",
        "    [-1, 1, ADown, [256]],\n",
        "    [[-1, 12], 1, Concat, [1]],\n",
        "    [-1, 1, RepNCSPELAN4, [512, 512, 256, 1]],\n",
        "    [-1, 1, ADown, [512]],\n",
        "    [[-1, 9], 1, Concat, [1]],\n",
        "    [-1, 1, RepNCSPELAN4, [512, 512, 256, 1]],\n",
        "    [[6, 9, 12], 1, Detect, [nc]],\n",
        "  ]\n",
        "\"\"\"\n",
        "\n",
        "# Save config to expected path\n",
        "config_path = \"ultralytics/models/v10/yolov10c.yaml\"\n",
        "os.makedirs(os.path.dirname(config_path), exist_ok=True)\n",
        "with open(config_path, \"w\") as f:\n",
        "    f.write(config_text)\n",
        "\n",
        "print(f\"✅ YOLOv10-C config created at: {config_path}\")\n"
      ],
      "metadata": {
        "colab": {
          "base_uri": "https://localhost:8080/"
        },
        "id": "zAGcouZgnhnR",
        "outputId": "12e04097-9f4d-40c9-fd1d-02106404afca"
      },
      "execution_count": 14,
      "outputs": [
        {
          "output_type": "stream",
          "name": "stdout",
          "text": [
            "✅ YOLOv10-C config created at: ultralytics/models/v10/yolov10c.yaml\n"
          ]
        }
      ]
    },
    {
      "cell_type": "code",
      "source": [
        "from ultralytics import YOLO\n",
        "\n",
        "model = YOLO(\"ultralytics/models/v10/yolov10c.yaml\")\n",
        "model.train(data=\"/content/drive/MyDrive/PlantDec/data.yaml\", epochs=10, imgsz=640, batch=16, name=\"plantdec_yolov10c\")\n"
      ],
      "metadata": {
        "colab": {
          "base_uri": "https://localhost:8080/"
        },
        "id": "cMy5A3Ft1Iv4",
        "outputId": "ec80b228-3483-4617-b808-0ee20e925131"
      },
      "execution_count": 15,
      "outputs": [
        {
          "output_type": "stream",
          "name": "stdout",
          "text": [
            "Ultralytics 8.3.133 🚀 Python-3.11.12 torch-2.0.1+cu117 CUDA:0 (Tesla T4, 15095MiB)\n",
            "\u001b[34m\u001b[1mengine/trainer: \u001b[0magnostic_nms=False, amp=True, augment=False, auto_augment=randaugment, batch=16, bgr=0.0, box=7.5, cache=False, cfg=None, classes=None, close_mosaic=10, cls=0.5, conf=None, copy_paste=0.0, copy_paste_mode=flip, cos_lr=False, cutmix=0.0, data=/content/drive/MyDrive/PlantDec/data.yaml, degrees=0.0, deterministic=True, device=None, dfl=1.5, dnn=False, dropout=0.0, dynamic=False, embed=None, epochs=10, erasing=0.4, exist_ok=False, fliplr=0.5, flipud=0.0, format=torchscript, fraction=1.0, freeze=None, half=False, hsv_h=0.015, hsv_s=0.7, hsv_v=0.4, imgsz=640, int8=False, iou=0.7, keras=False, kobj=1.0, line_width=None, lr0=0.01, lrf=0.01, mask_ratio=4, max_det=300, mixup=0.0, mode=train, model=ultralytics/models/v10/yolov10c.yaml, momentum=0.937, mosaic=1.0, multi_scale=False, name=plantdec_yolov10c, nbs=64, nms=False, opset=None, optimize=False, optimizer=auto, overlap_mask=True, patience=100, perspective=0.0, plots=True, pose=12.0, pretrained=True, profile=False, project=None, rect=False, resume=False, retina_masks=False, save=True, save_conf=False, save_crop=False, save_dir=/content/yolov10/ultralytics/ultralytics/runs/detect/plantdec_yolov10c, save_frames=False, save_json=False, save_period=-1, save_txt=False, scale=0.5, seed=0, shear=0.0, show=False, show_boxes=True, show_conf=True, show_labels=True, simplify=True, single_cls=False, source=None, split=val, stream_buffer=False, task=detect, time=None, tracker=botsort.yaml, translate=0.1, val=True, verbose=True, vid_stride=1, visualize=False, warmup_bias_lr=0.1, warmup_epochs=3.0, warmup_momentum=0.8, weight_decay=0.0005, workers=8, workspace=None\n",
            "Downloading https://ultralytics.com/assets/Arial.ttf to '/root/.config/Ultralytics/Arial.ttf'...\n"
          ]
        },
        {
          "output_type": "stream",
          "name": "stderr",
          "text": [
            "100%|██████████| 755k/755k [00:00<00:00, 21.0MB/s]"
          ]
        },
        {
          "output_type": "stream",
          "name": "stdout",
          "text": [
            "Overriding model.yaml nc=2 with nc=30\n",
            "\n",
            "                   from  n    params  module                                       arguments                     \n",
            "  0                  -1  1      1856  ultralytics.nn.modules.conv.Conv             [3, 64, 3, 2]                 \n",
            "  1                  -1  1     73984  ultralytics.nn.modules.conv.Conv             [64, 128, 3, 2]               \n",
            "  2                  -1  1    212864  ultralytics.nn.modules.block.RepNCSPELAN4    [128, 256, 128, 64, 1]        \n",
            "  3                  -1  1    164352  ultralytics.nn.modules.block.ADown           [256, 256]                    \n",
            "  4                  -1  1    847616  ultralytics.nn.modules.block.RepNCSPELAN4    [256, 512, 256, 128, 1]       \n",
            "  5                  -1  1    656384  ultralytics.nn.modules.block.ADown           [512, 512]                    \n",
            "  6                  -1  1   2857472  ultralytics.nn.modules.block.RepNCSPELAN4    [512, 512, 512, 256, 1]       \n",
            "  7                  -1  1    656384  ultralytics.nn.modules.block.ADown           [512, 512]                    \n",
            "  8                  -1  1   2857472  ultralytics.nn.modules.block.RepNCSPELAN4    [512, 512, 512, 256, 1]       \n",
            "  9                  -1  1    656896  ultralytics.nn.modules.block.SPPELAN         [512, 512, 256]               \n",
            " 10                  -1  1         0  torch.nn.modules.upsampling.Upsample         [None, 2, 'nearest']          \n",
            " 11             [-1, 6]  1         0  ultralytics.nn.modules.conv.Concat           [1]                           \n",
            " 12                  -1  1   3119616  ultralytics.nn.modules.block.RepNCSPELAN4    [1024, 512, 512, 256, 1]      \n",
            " 13                  -1  1         0  torch.nn.modules.upsampling.Upsample         [None, 2, 'nearest']          \n",
            " 14             [-1, 4]  1         0  ultralytics.nn.modules.conv.Concat           [1]                           \n",
            " 15                  -1  1    912640  ultralytics.nn.modules.block.RepNCSPELAN4    [1024, 256, 256, 128, 1]      \n"
          ]
        },
        {
          "output_type": "stream",
          "name": "stderr",
          "text": [
            "\n"
          ]
        },
        {
          "output_type": "stream",
          "name": "stdout",
          "text": [
            " 16                  -1  1    164352  ultralytics.nn.modules.block.ADown           [256, 256]                    \n",
            " 17            [-1, 12]  1         0  ultralytics.nn.modules.conv.Concat           [1]                           \n",
            " 18                  -1  1   2988544  ultralytics.nn.modules.block.RepNCSPELAN4    [768, 512, 512, 256, 1]       \n",
            " 19                  -1  1    656384  ultralytics.nn.modules.block.ADown           [512, 512]                    \n",
            " 20             [-1, 9]  1         0  ultralytics.nn.modules.conv.Concat           [1]                           \n",
            " 21                  -1  1   3119616  ultralytics.nn.modules.block.RepNCSPELAN4    [1024, 512, 512, 256, 1]      \n",
            " 22          [6, 9, 12]  1  16446250  ultralytics.nn.modules.head.Detect           [30, [512, 512, 512]]         \n",
            "YOLOv10c summary: 358 layers, 36,392,682 parameters, 36,392,666 gradients, 117.2 GFLOPs\n",
            "\n",
            "Freezing layer 'model.22.dfl.conv.weight'\n",
            "\u001b[34m\u001b[1mAMP: \u001b[0mrunning Automatic Mixed Precision (AMP) checks...\n",
            "Downloading https://github.com/ultralytics/assets/releases/download/v8.3.0/yolo11n.pt to 'yolo11n.pt'...\n"
          ]
        },
        {
          "output_type": "stream",
          "name": "stderr",
          "text": [
            "100%|██████████| 5.35M/5.35M [00:00<00:00, 102MB/s]\n"
          ]
        },
        {
          "output_type": "stream",
          "name": "stdout",
          "text": [
            "\u001b[34m\u001b[1mAMP: \u001b[0mchecks passed ✅\n",
            "\u001b[34m\u001b[1mtrain: \u001b[0mFast image access ✅ (ping: 0.4±0.2 ms, read: 0.1±0.0 MB/s, size: 28.2 KB)\n"
          ]
        },
        {
          "output_type": "stream",
          "name": "stderr",
          "text": [
            "\u001b[34m\u001b[1mtrain: \u001b[0mScanning /content/drive/MyDrive/PlantDec/labels/train... 1979 images, 9 backgrounds, 0 corrupt: 100%|██████████| 1979/1979 [12:12<00:00,  2.70it/s]\n"
          ]
        },
        {
          "output_type": "stream",
          "name": "stdout",
          "text": [
            "\u001b[34m\u001b[1mtrain: \u001b[0mNew cache created: /content/drive/MyDrive/PlantDec/labels/train.cache\n",
            "\u001b[34m\u001b[1malbumentations: \u001b[0mBlur(p=0.01, blur_limit=(3, 7)), MedianBlur(p=0.01, blur_limit=(3, 7)), ToGray(p=0.01, method='weighted_average', num_output_channels=3), CLAHE(p=0.01, clip_limit=(1.0, 4.0), tile_grid_size=(8, 8))\n",
            "\u001b[34m\u001b[1mval: \u001b[0mFast image access ✅ (ping: 0.6±0.2 ms, read: 0.1±0.0 MB/s, size: 34.0 KB)\n"
          ]
        },
        {
          "output_type": "stream",
          "name": "stderr",
          "text": [
            "\u001b[34m\u001b[1mval: \u001b[0mScanning /content/drive/MyDrive/PlantDec/labels/val.cache... 347 images, 1 backgrounds, 333 corrupt: 100%|██████████| 347/347 [00:00<?, ?it/s]"
          ]
        },
        {
          "output_type": "stream",
          "name": "stdout",
          "text": [
            "\u001b[34m\u001b[1mval: \u001b[0m/content/drive/MyDrive/PlantDec/images/val/02gb_jpg.rf.8598a751c6f42b81660d994fcf1b01f2.jpg: ignoring corrupt image/label: Label class 29 exceeds dataset class count 1. Possible class labels are 0-0\n",
            "\u001b[34m\u001b[1mval: \u001b[0m/content/drive/MyDrive/PlantDec/images/val/04c_jpg.rf.da8f95c8ff42c4c29d409104605b17bc.jpg: ignoring corrupt image/label: Label class 8 exceeds dataset class count 1. Possible class labels are 0-0\n",
            "\u001b[34m\u001b[1mval: \u001b[0m/content/drive/MyDrive/PlantDec/images/val/0pe_jpg.rf.c8d6587d8194aec12f6dd80408037e95.jpg: ignoring corrupt image/label: Label class 10 exceeds dataset class count 1. Possible class labels are 0-0\n",
            "\u001b[34m\u001b[1mval: \u001b[0m/content/drive/MyDrive/PlantDec/images/val/100367_max_jpg.rf.fd66750c56c48165aa41285b947aabcf.jpg: ignoring corrupt image/label: Label class 17 exceeds dataset class count 1. Possible class labels are 0-0\n",
            "\u001b[34m\u001b[1mval: \u001b[0m/content/drive/MyDrive/PlantDec/images/val/110608_01_8356c_lg_jpg.rf.138a68c2a8e88774ac973607bb17b6bd.jpg: ignoring corrupt image/label: Label class 22 exceeds dataset class count 1. Possible class labels are 0-0\n",
            "\u001b[34m\u001b[1mval: \u001b[0m/content/drive/MyDrive/PlantDec/images/val/13582051_f520_jpg.rf.d2d20e47d71544c3bca784140484de14.jpg: ignoring corrupt image/label: Label class 22 exceeds dataset class count 1. Possible class labels are 0-0\n",
            "\u001b[34m\u001b[1mval: \u001b[0m/content/drive/MyDrive/PlantDec/images/val/14321627273_58d893c3e2_b_jpg.rf.d9d414017715b39ac7b6eb83aeb32399.jpg: ignoring corrupt image/label: Label class 13 exceeds dataset class count 1. Possible class labels are 0-0\n",
            "\u001b[34m\u001b[1mval: \u001b[0m/content/drive/MyDrive/PlantDec/images/val/15_20CHOKE_20CHERRY_jpg.rf.076abbdb378e4d718f4da42b3c3dc544.jpg: ignoring corrupt image/label: Label class 6 exceeds dataset class count 1. Possible class labels are 0-0\n",
            "\u001b[34m\u001b[1mval: \u001b[0m/content/drive/MyDrive/PlantDec/images/val/1688_jpg.rf.8695d7d36f28dca9871b9c4248920599.jpg: ignoring corrupt image/label: Label class 21 exceeds dataset class count 1. Possible class labels are 0-0\n",
            "\u001b[34m\u001b[1mval: \u001b[0m/content/drive/MyDrive/PlantDec/images/val/17371378_tomato_leaf_jpg.rf.6a32253cbf3c11b2388db4e14d61017e.jpg: ignoring corrupt image/label: Label class 21 exceeds dataset class count 1. Possible class labels are 0-0\n",
            "\u001b[34m\u001b[1mval: \u001b[0m/content/drive/MyDrive/PlantDec/images/val/1788724_spring_leaves_of_garden_strawberry_macro_background_isolated_jpg.rf.50d1b0888e1bf5136cbc39428b6ec0f8.jpg: ignoring corrupt image/label: Label class 18 exceeds dataset class count 1. Possible class labels are 0-0\n",
            "\u001b[34m\u001b[1mval: \u001b[0m/content/drive/MyDrive/PlantDec/images/val/20080710_early_2Bblight_2Blesions_2Bwith_2Byellow_2Bhaloes_jpg.rf.44b92118f2bf79650445006feac2d30b.jpg: ignoring corrupt image/label: Label class 12 exceeds dataset class count 1. Possible class labels are 0-0\n",
            "\u001b[34m\u001b[1mval: \u001b[0m/content/drive/MyDrive/PlantDec/images/val/2013_08_20_04_jpg.rf.75511d46c18f8cb881b28a184796e596.jpg: ignoring corrupt image/label: Label class 21 exceeds dataset class count 1. Possible class labels are 0-0\n",
            "\u001b[34m\u001b[1mval: \u001b[0m/content/drive/MyDrive/PlantDec/images/val/20140818_tomato_sauce_vicky_wasik_1_jpg.rf.e8d2fc43098ad376f049269496662877.jpg: ignoring corrupt image/label: Label class 21 exceeds dataset class count 1. Possible class labels are 0-0\n",
            "\u001b[34m\u001b[1mval: \u001b[0m/content/drive/MyDrive/PlantDec/images/val/2159_0_jpeg_itok_eBFRbolm_jpg.rf.3458acabdb16ee7669b9033105aa8ec8.jpg: ignoring corrupt image/label: Label class 8 exceeds dataset class count 1. Possible class labels are 0-0\n",
            "\u001b[34m\u001b[1mval: \u001b[0m/content/drive/MyDrive/PlantDec/images/val/23600077_1572609202782510_2145699867_o_jpg.rf.5b2f5bf666ad258a4dbd583986c66e7d.jpg: ignoring corrupt image/label: Label class 26 exceeds dataset class count 1. Possible class labels are 0-0\n",
            "\u001b[34m\u001b[1mval: \u001b[0m/content/drive/MyDrive/PlantDec/images/val/23601051_1572608349449262_2029169498_o_jpg.rf.b559d3ec260f2a5eed33c0047fef374e.jpg: ignoring corrupt image/label: Label class 26 exceeds dataset class count 1. Possible class labels are 0-0\n",
            "\u001b[34m\u001b[1mval: \u001b[0m/content/drive/MyDrive/PlantDec/images/val/24049d1216854408_spots_raspberry_leaves_dscf1561_jpg.rf.94329960fcd7069579865fdacf584db3.jpg: ignoring corrupt image/label: Label class 14 exceeds dataset class count 1. Possible class labels are 0-0\n",
            "\u001b[34m\u001b[1mval: \u001b[0m/content/drive/MyDrive/PlantDec/images/val/2976_1600_jpg.rf.7873c5804d7d5be29dfabfb66574594c.jpg: ignoring corrupt image/label: Label class 13 exceeds dataset class count 1. Possible class labels are 0-0\n",
            "\u001b[34m\u001b[1mval: \u001b[0m/content/drive/MyDrive/PlantDec/images/val/2f73110f80014a25a53f9551c94bf164_png_jpg.rf.1e529743be3ffcd4c596150aaeb29d6a.jpg: ignoring corrupt image/label: Label class 7 exceeds dataset class count 1. Possible class labels are 0-0\n",
            "\u001b[34m\u001b[1mval: \u001b[0m/content/drive/MyDrive/PlantDec/images/val/30290_jpg.rf.4b4a840b83d6eaa6074e2d128bc0ccc3.jpg: ignoring corrupt image/label: Label class 22 exceeds dataset class count 1. Possible class labels are 0-0\n",
            "\u001b[34m\u001b[1mval: \u001b[0m/content/drive/MyDrive/PlantDec/images/val/36_early_blight_concentric_rings_jpg.rf.e5df47b49c517df45bf0f4deae693dc2.jpg: ignoring corrupt image/label: Label class 12 exceeds dataset class count 1. Possible class labels are 0-0\n",
            "\u001b[34m\u001b[1mval: \u001b[0m/content/drive/MyDrive/PlantDec/images/val/3761_400x400_0_0_jpeg_jpg.rf.260b1cd3509bd723b334025a8c9b2e10.jpg: ignoring corrupt image/label: Label class 17 exceeds dataset class count 1. Possible class labels are 0-0\n",
            "\u001b[34m\u001b[1mval: \u001b[0m/content/drive/MyDrive/PlantDec/images/val/3785483636_d888419c98_o_jpg.rf.bf79f7f5c362a9396ce0a32b9b58d8ff.jpg: ignoring corrupt image/label: Label class 12 exceeds dataset class count 1. Possible class labels are 0-0\n",
            "\u001b[34m\u001b[1mval: \u001b[0m/content/drive/MyDrive/PlantDec/images/val/4633813_sweet_apple_with_leaf_jpg.rf.5a9628c185273a8f174388e98f54607f.jpg: ignoring corrupt image/label: Label class 1 exceeds dataset class count 1. Possible class labels are 0-0\n",
            "\u001b[34m\u001b[1mval: \u001b[0m/content/drive/MyDrive/PlantDec/images/val/487977347_jpg.rf.f20f65e483827da07487fa35a007eba9.jpg: ignoring corrupt image/label: Label class 15 exceeds dataset class count 1. Possible class labels are 0-0\n",
            "\u001b[34m\u001b[1mval: \u001b[0m/content/drive/MyDrive/PlantDec/images/val/4cffdc67492014fcf2c5f34b0565fad7_jpg.rf.84c479e820134df6cf3497eb5bbfdc03.jpg: ignoring corrupt image/label: Label class 14 exceeds dataset class count 1. Possible class labels are 0-0\n",
            "\u001b[34m\u001b[1mval: \u001b[0m/content/drive/MyDrive/PlantDec/images/val/5336411888680960_600x272_jpeg_jpg.rf.1dd745adc7579e2a473510c45c09c260.jpg: ignoring corrupt image/label: Label class 20 exceeds dataset class count 1. Possible class labels are 0-0\n",
            "\u001b[34m\u001b[1mval: \u001b[0m/content/drive/MyDrive/PlantDec/images/val/5454635393351680_jpeg_jpg.rf.ebb4cd2e03db549c562d394ebbe263e4.jpg: ignoring corrupt image/label: Label class 20 exceeds dataset class count 1. Possible class labels are 0-0\n",
            "\u001b[34m\u001b[1mval: \u001b[0m/content/drive/MyDrive/PlantDec/images/val/5516100468998144_600x272_jpeg_jpg.rf.5b2c72935762e08d35de3f2e2081e162.jpg: ignoring corrupt image/label: Label class 20 exceeds dataset class count 1. Possible class labels are 0-0\n",
            "\u001b[34m\u001b[1mval: \u001b[0m/content/drive/MyDrive/PlantDec/images/val/5516100468998144_jpeg_jpg.rf.de6fae36d67b26d7f459e36cee93301b.jpg: ignoring corrupt image/label: Label class 20 exceeds dataset class count 1. Possible class labels are 0-0\n",
            "\u001b[34m\u001b[1mval: \u001b[0m/content/drive/MyDrive/PlantDec/images/val/5579e3247db73_image_jpg.rf.6d5d168c30ebb55bd99bc3efccbefaf4.jpg: ignoring corrupt image/label: Label class 20 exceeds dataset class count 1. Possible class labels are 0-0\n",
            "\u001b[34m\u001b[1mval: \u001b[0m/content/drive/MyDrive/PlantDec/images/val/5775225744523264_jpeg_jpg.rf.af5ed0a41f0b70456a8ac00cf8ec86c2.jpg: ignoring corrupt image/label: Label class 21 exceeds dataset class count 1. Possible class labels are 0-0\n",
            "\u001b[34m\u001b[1mval: \u001b[0m/content/drive/MyDrive/PlantDec/images/val/5787ab74428a5fdc70e3defda7f00f0a4623876d_jpeg_jpg.rf.cf303d721b1522319a2d216d7aa6ac1b.jpg: ignoring corrupt image/label: Label class 18 exceeds dataset class count 1. Possible class labels are 0-0\n",
            "\u001b[34m\u001b[1mval: \u001b[0m/content/drive/MyDrive/PlantDec/images/val/5816170621_e1cce08736_z_jpg.rf.5b07b21660b5e46db8aaa80e47177050.jpg: ignoring corrupt image/label: Label class 23 exceeds dataset class count 1. Possible class labels are 0-0\n",
            "\u001b[34m\u001b[1mval: \u001b[0m/content/drive/MyDrive/PlantDec/images/val/5HttOvj_jpg.rf.9c34b2ede573664cf2f65d04978e1a6f.jpg: ignoring corrupt image/label: Label class 17 exceeds dataset class count 1. Possible class labels are 0-0\n",
            "\u001b[34m\u001b[1mval: \u001b[0m/content/drive/MyDrive/PlantDec/images/val/601fbee78c62e32a76e768a92ee40193_jpg.rf.cddfaa7cc7bbb4b535574af8a5483c0a.jpg: ignoring corrupt image/label: Label class 2 exceeds dataset class count 1. Possible class labels are 0-0\n",
            "\u001b[34m\u001b[1mval: \u001b[0m/content/drive/MyDrive/PlantDec/images/val/607_155_0_jpg.rf.fa6efb6d31514f0817dec449fcbd94db.jpg: ignoring corrupt image/label: Label class 26 exceeds dataset class count 1. Possible class labels are 0-0\n",
            "\u001b[34m\u001b[1mval: \u001b[0m/content/drive/MyDrive/PlantDec/images/val/608e975059eb73da53ec9bf95362b153_jpg.rf.34d59f222656fdbdd2cb7b66fc0160d9.jpg: ignoring corrupt image/label: Label class 14 exceeds dataset class count 1. Possible class labels are 0-0\n",
            "\u001b[34m\u001b[1mval: \u001b[0m/content/drive/MyDrive/PlantDec/images/val/66e7583ebe11cf0bd06435e4167bd4fd_jpg.rf.38a12eabcaec6fc8adf10ad820fb94f2.jpg: ignoring corrupt image/label: Label class 20 exceeds dataset class count 1. Possible class labels are 0-0\n",
            "\u001b[34m\u001b[1mval: \u001b[0m/content/drive/MyDrive/PlantDec/images/val/6_14_11_20ANNEMIEK_20blkRotSp_jpg.rf.c5c503929e31ec116c1901b17595e8ba.jpg: ignoring corrupt image/label: Label class 29 exceeds dataset class count 1. Possible class labels are 0-0\n",
            "\u001b[34m\u001b[1mval: \u001b[0m/content/drive/MyDrive/PlantDec/images/val/6_15_12_Soybeans_V3_JPG_jpg.rf.a35f32845b5a193165c55eb768713ff8.jpg: ignoring corrupt image/label: Label class 15 exceeds dataset class count 1. Possible class labels are 0-0\n",
            "\u001b[34m\u001b[1mval: \u001b[0m/content/drive/MyDrive/PlantDec/images/val/80109626_jpg.rf.ee44ea4867da5bb242d65570363e1904.jpg: ignoring corrupt image/label: Label class 12 exceeds dataset class count 1. Possible class labels are 0-0\n",
            "\u001b[34m\u001b[1mval: \u001b[0m/content/drive/MyDrive/PlantDec/images/val/9_Folia_Myrtilli_Blueberry_Leaves_Gjethe_Boronice_1_jpg.rf.13b25f152fa3f0acdbe20e3c7bea9740.jpg: ignoring corrupt image/label: Label class 5 exceeds dataset class count 1. Possible class labels are 0-0\n",
            "\u001b[34m\u001b[1mval: \u001b[0m/content/drive/MyDrive/PlantDec/images/val/B2650214_Potato_leaf_blight_SPL_jpg.rf.e19f47a1fbc1962cf962c5b7ee2eb945.jpg: ignoring corrupt image/label: Label class 12 exceeds dataset class count 1. Possible class labels are 0-0\n",
            "\u001b[34m\u001b[1mval: \u001b[0m/content/drive/MyDrive/PlantDec/images/val/BCH_20medium_20thumbnail_20for_20upload_20_2814_29_jpg.rf.29960c51d43dd43f197e996daa40bcc1.jpg: ignoring corrupt image/label: Label class 22 exceeds dataset class count 1. Possible class labels are 0-0\n",
            "\u001b[34m\u001b[1mval: \u001b[0m/content/drive/MyDrive/PlantDec/images/val/BCH_20medium_20thumbnail_20for_20upload_20_2861_29_jpg.rf.789d698c92605c231a88090f4c0d0afd.jpg: ignoring corrupt image/label: Label class 20 exceeds dataset class count 1. Possible class labels are 0-0\n",
            "\u001b[34m\u001b[1mval: \u001b[0m/content/drive/MyDrive/PlantDec/images/val/Black_20raspberry_20late_20leaf_20rust_2008F_JPG_jpg.rf.7fa111f3b3ab1286a80610fb7dd5ceb7.jpg: ignoring corrupt image/label: Label class 14 exceeds dataset class count 1. Possible class labels are 0-0\n",
            "\u001b[34m\u001b[1mval: \u001b[0m/content/drive/MyDrive/PlantDec/images/val/Blackberry_black_raspberry2_1024x606_jpg.rf.32e1d82c52f07747a3e6ac67578c956b.jpg: ignoring corrupt image/label: Label class 14 exceeds dataset class count 1. Possible class labels are 0-0\n",
            "\u001b[34m\u001b[1mval: \u001b[0m/content/drive/MyDrive/PlantDec/images/val/Blueberry_Damage_2_original_JPG_1431126657_jpg.rf.1c028d99edb0babb818f915e3c759fa7.jpg: ignoring corrupt image/label: Label class 5 exceeds dataset class count 1. Possible class labels are 0-0\n",
            "\u001b[34m\u001b[1mval: \u001b[0m/content/drive/MyDrive/PlantDec/images/val/Botrytis_Tomato_Seedlings_2_copy_50QUALITY_17wck0d_jpg.rf.b42c2e74425f1bd031d9a13450869637.jpg: ignoring corrupt image/label: Label class 26 exceeds dataset class count 1. Possible class labels are 0-0\n",
            "\u001b[34m\u001b[1mval: \u001b[0m/content/drive/MyDrive/PlantDec/images/val/Brown_20Spot_20__20dark_20spots_jpg.rf.acae533739559aa6e22e9bc1c8f2034f.jpg: ignoring corrupt image/label: Label class 15 exceeds dataset class count 1. Possible class labels are 0-0\n",
            "\u001b[34m\u001b[1mval: \u001b[0m/content/drive/MyDrive/PlantDec/images/val/C11_11_jpg.rf.709b47ecc2f09d8cb2adc8d47891a877.jpg: ignoring corrupt image/label: Label class 2 exceeds dataset class count 1. Possible class labels are 0-0\n",
            "\u001b[34m\u001b[1mval: \u001b[0m/content/drive/MyDrive/PlantDec/images/val/CHERRY_CHOKE_leaves_jpg.rf.ee2fd0ce2453d2afce1128887d2dec07.jpg: ignoring corrupt image/label: Label class 6 exceeds dataset class count 1. Possible class labels are 0-0\n",
            "\u001b[34m\u001b[1mval: \u001b[0m/content/drive/MyDrive/PlantDec/images/val/CRABAPPLE2_leaves_jpg.rf.87170caf7f1710cfadc68ddc25d93105.jpg: ignoring corrupt image/label: Label class 1 exceeds dataset class count 1. Possible class labels are 0-0\n",
            "\u001b[34m\u001b[1mval: \u001b[0m/content/drive/MyDrive/PlantDec/images/val/Canker_GHTom_CAG_leaf_collapse_copy_50_QUALITY_1ur7cyk_jpg.rf.63c934ec9d390d563cbce7ced1230b18.jpg: ignoring corrupt image/label: Label class 22 exceeds dataset class count 1. Possible class labels are 0-0\n",
            "\u001b[34m\u001b[1mval: \u001b[0m/content/drive/MyDrive/PlantDec/images/val/Cedar_Apple_rust_on_Crab_apple_leaf_jpg.rf.bcb056a9d2e7e6fa41bbbc6a8cf56cc8.jpg: ignoring corrupt image/label: Label class 2 exceeds dataset class count 1. Possible class labels are 0-0\n",
            "\u001b[34m\u001b[1mval: \u001b[0m/content/drive/MyDrive/PlantDec/images/val/Cedar_apple_rust_on_crab_apple_leaf_showing_underside_cup_jpg.rf.d72a640049a18d156358ce1ae907ac30.jpg: ignoring corrupt image/label: Label class 2 exceeds dataset class count 1. Possible class labels are 0-0\n",
            "\u001b[34m\u001b[1mval: \u001b[0m/content/drive/MyDrive/PlantDec/images/val/Chlorotic_Blueberry_Leaf_jpg.rf.1403e37b9f48842db91827c59caedd08.jpg: ignoring corrupt image/label: Label class 5 exceeds dataset class count 1. Possible class labels are 0-0\n",
            "\u001b[34m\u001b[1mval: \u001b[0m/content/drive/MyDrive/PlantDec/images/val/Common_rust_of_corn_Tedford_jpg.rf.80d698d4360dc9ca8bcab0c0836b84a7.jpg: ignoring corrupt image/label: Label class 9 exceeds dataset class count 1. Possible class labels are 0-0\n",
            "\u001b[34m\u001b[1mval: \u001b[0m/content/drive/MyDrive/PlantDec/images/val/CornRustFS1_jpg.rf.6e31ac599d0b30233b8081f0489def47.jpg: ignoring corrupt image/label: Label class 9 exceeds dataset class count 1. Possible class labels are 0-0\n",
            "\u001b[34m\u001b[1mval: \u001b[0m/content/drive/MyDrive/PlantDec/images/val/Corn_Fig10_jpg.rf.17f679fb21a394ac6b22d5f9df003397.jpg: ignoring corrupt image/label: Label class 8 exceeds dataset class count 1. Possible class labels are 0-0\n",
            "\u001b[34m\u001b[1mval: \u001b[0m/content/drive/MyDrive/PlantDec/images/val/Corn_Southern_Rust_7_17_F1_jpg.rf.dc2b9c1b1bd8a0373241abf229555ac7.jpg: ignoring corrupt image/label: Label class 9 exceeds dataset class count 1. Possible class labels are 0-0\n",
            "\u001b[34m\u001b[1mval: \u001b[0m/content/drive/MyDrive/PlantDec/images/val/Corn_gray_leaf_spot_8_21_jpg.rf.c012067ba7e2e74da4315da5a54aaa27.jpg: ignoring corrupt image/label: Label class 8 exceeds dataset class count 1. Possible class labels are 0-0\n",
            "\u001b[34m\u001b[1mval: \u001b[0m/content/drive/MyDrive/PlantDec/images/val/DSC05432_JPG_jpg.rf.82061f5eb603629cfe32cf796754ee5e.jpg: ignoring corrupt image/label: Label class 17 exceeds dataset class count 1. Possible class labels are 0-0\n",
            "\u001b[34m\u001b[1mval: \u001b[0m/content/drive/MyDrive/PlantDec/images/val/DSCN1016_JPG_jpg.rf.cb870acb4e0c510de15476edbb9eeb1b.jpg: ignoring corrupt image/label: Label class 21 exceeds dataset class count 1. Possible class labels are 0-0\n",
            "\u001b[34m\u001b[1mval: \u001b[0m/content/drive/MyDrive/PlantDec/images/val/DSC_0183_JPG_jpg.rf.c946a9ab84c070657e82dacd4aef8b0f.jpg: ignoring corrupt image/label: Label class 17 exceeds dataset class count 1. Possible class labels are 0-0\n",
            "\u001b[34m\u001b[1mval: \u001b[0m/content/drive/MyDrive/PlantDec/images/val/Diseased_Tomato_Plant_jpg.rf.03a5120fdf3c584299491af9cb370f41.jpg: ignoring corrupt image/label: Label class 21 exceeds dataset class count 1. Possible class labels are 0-0\n",
            "\u001b[34m\u001b[1mval: \u001b[0m/content/drive/MyDrive/PlantDec/images/val/Dwarf_Red_Leaf_Peach_leaves_closeup_jpg.rf.ff512235f8cfd828854645dbc46ef8df.jpg: ignoring corrupt image/label: Label class 10 exceeds dataset class count 1. Possible class labels are 0-0\n",
            "\u001b[34m\u001b[1mval: \u001b[0m/content/drive/MyDrive/PlantDec/images/val/EB_20lesions1_opt_jpeg_jpg.rf.41c609e66255c56799400af39338a4e3.jpg: ignoring corrupt image/label: Label class 12 exceeds dataset class count 1. Possible class labels are 0-0\n",
            "\u001b[34m\u001b[1mval: \u001b[0m/content/drive/MyDrive/PlantDec/images/val/Early_blight_jpg.rf.d6a0ad679901d48250fbe7828658018e.jpg: ignoring corrupt image/label: Label class 19 exceeds dataset class count 1. Possible class labels are 0-0\n",
            "\u001b[34m\u001b[1mval: \u001b[0m/content/drive/MyDrive/PlantDec/images/val/F_294_jpg.rf.a424f02eddb4184095b5f8f875bff105.jpg: ignoring corrupt image/label: Label class 23 exceeds dataset class count 1. Possible class labels are 0-0\n",
            "\u001b[34m\u001b[1mval: \u001b[0m/content/drive/MyDrive/PlantDec/images/val/Fig_17_Apple_rust_on_lower_surface_on_leaf_at_extreme_jpg.rf.9951e8551760b2c00497597d5e9f205b.jpg: ignoring corrupt image/label: Label class 2 exceeds dataset class count 1. Possible class labels are 0-0\n",
            "\u001b[34m\u001b[1mval: \u001b[0m/content/drive/MyDrive/PlantDec/images/val/Fig_2_jpg.rf.cffa0d8e6957e4df9ce745be5b8c9f3d.jpg: ignoring corrupt image/label: Label class 24 exceeds dataset class count 1. Possible class labels are 0-0\n",
            "\u001b[34m\u001b[1mval: \u001b[0m/content/drive/MyDrive/PlantDec/images/val/Figure_201_20Common_20rust_20on_20a_20corn_jpg.rf.d98a6e285d146585cc68e4f62929c5c5.jpg: ignoring corrupt image/label: Label class 9 exceeds dataset class count 1. Possible class labels are 0-0\n",
            "\u001b[34m\u001b[1mval: \u001b[0m/content/drive/MyDrive/PlantDec/images/val/Figure_202_20Foliar_20symptoms_20of_20similar_20diseases_20to_20Goss_jpg.rf.c8a2e8e02b3ba9523b1db71ded7ce134.jpg: ignoring corrupt image/label: Label class 8 exceeds dataset class count 1. Possible class labels are 0-0\n",
            "\u001b[34m\u001b[1mval: \u001b[0m/content/drive/MyDrive/PlantDec/images/val/Figure_202_JPG_jpg.rf.1e56ac0d7dad080d4989771bcf4acf4f.jpg: ignoring corrupt image/label: Label class 8 exceeds dataset class count 1. Possible class labels are 0-0\n",
            "\u001b[34m\u001b[1mval: \u001b[0m/content/drive/MyDrive/PlantDec/images/val/Fragaria_virginiana_6_jpg.rf.d9d0328b8636931c77d94d5b99fccac8.jpg: ignoring corrupt image/label: Label class 18 exceeds dataset class count 1. Possible class labels are 0-0\n",
            "\u001b[34m\u001b[1mval: \u001b[0m/content/drive/MyDrive/PlantDec/images/val/G3O1I_jpg.rf.2544d1c35118f2b1611b0a6f240fdb50.jpg: ignoring corrupt image/label: Label class 4 exceeds dataset class count 1. Possible class labels are 0-0\n",
            "\u001b[34m\u001b[1mval: \u001b[0m/content/drive/MyDrive/PlantDec/images/val/Gray_20Leaf_20SpotCORN039_JPG_jpg.rf.a40d81624cd7cc768e72d57541e923b5.jpg: ignoring corrupt image/label: Label class 7 exceeds dataset class count 1. Possible class labels are 0-0\n",
            "\u001b[34m\u001b[1mval: \u001b[0m/content/drive/MyDrive/PlantDec/images/val/IMG_0002_original_JPG_1500100269_jpg.rf.a1e62572bf4bb337180b3816f6e0393e.jpg: ignoring corrupt image/label: Label class 5 exceeds dataset class count 1. Possible class labels are 0-0\n",
            "\u001b[34m\u001b[1mval: \u001b[0m/content/drive/MyDrive/PlantDec/images/val/IMG_0004_JPG_itok_tv_vWPMi_jpg.rf.152512f839140b052a86f4d95ac047c7.jpg: ignoring corrupt image/label: Label class 7 exceeds dataset class count 1. Possible class labels are 0-0\n",
            "\u001b[34m\u001b[1mval: \u001b[0m/content/drive/MyDrive/PlantDec/images/val/IMG_0019_jpg.rf.ce9991d9cd7f66a63869fca3f891fde5.jpg: ignoring corrupt image/label: Label class 13 exceeds dataset class count 1. Possible class labels are 0-0\n",
            "\u001b[34m\u001b[1mval: \u001b[0m/content/drive/MyDrive/PlantDec/images/val/IMG_1725_JPG_jpg.rf.8c28464ac7fb037e92c42d9377750a7f.jpg: ignoring corrupt image/label: Label class 17 exceeds dataset class count 1. Possible class labels are 0-0\n",
            "\u001b[34m\u001b[1mval: \u001b[0m/content/drive/MyDrive/PlantDec/images/val/IMG_4280_JPG_jpg.rf.6d35e1663b417eae36b33da3024dbe4b.jpg: ignoring corrupt image/label: Label class 6 exceeds dataset class count 1. Possible class labels are 0-0\n",
            "\u001b[34m\u001b[1mval: \u001b[0m/content/drive/MyDrive/PlantDec/images/val/IMG_4695_jpg.rf.ae512b04d32fd4b40832870610a10604.jpg: ignoring corrupt image/label: Label class 18 exceeds dataset class count 1. Possible class labels are 0-0\n",
            "\u001b[34m\u001b[1mval: \u001b[0m/content/drive/MyDrive/PlantDec/images/val/IMG_5011_15vruqb_jpg.rf.e61d5e7ac5933572778fad0880dcfd19.jpg: ignoring corrupt image/label: Label class 9 exceeds dataset class count 1. Possible class labels are 0-0\n",
            "\u001b[34m\u001b[1mval: \u001b[0m/content/drive/MyDrive/PlantDec/images/val/IMG_5368_jpg.rf.81ca8a3ba2619dc458e6b056768c25f8.jpg: ignoring corrupt image/label: Label class 23 exceeds dataset class count 1. Possible class labels are 0-0\n",
            "\u001b[34m\u001b[1mval: \u001b[0m/content/drive/MyDrive/PlantDec/images/val/IMG_5813_1024x768_jpg.rf.7d2e22e7e1d5ee2d0a445fcb28cc736a.jpg: ignoring corrupt image/label: Label class 13 exceeds dataset class count 1. Possible class labels are 0-0\n",
            "\u001b[34m\u001b[1mval: \u001b[0m/content/drive/MyDrive/PlantDec/images/val/IMG_5937_jpg.rf.ad219d41b16cbb74ba830e55ea1571e9.jpg: ignoring corrupt image/label: Label class 17 exceeds dataset class count 1. Possible class labels are 0-0\n",
            "\u001b[34m\u001b[1mval: \u001b[0m/content/drive/MyDrive/PlantDec/images/val/IMG_8698_JPG_jpg.rf.c56da18e78222fbb8b567dd851e42772.jpg: ignoring corrupt image/label: Label class 5 exceeds dataset class count 1. Possible class labels are 0-0\n",
            "\u001b[34m\u001b[1mval: \u001b[0m/content/drive/MyDrive/PlantDec/images/val/IW000047_jpg.rf.709af768bfafd92406777328f96508ed.jpg: ignoring corrupt image/label: Label class 17 exceeds dataset class count 1. Possible class labels are 0-0\n",
            "\u001b[34m\u001b[1mval: \u001b[0m/content/drive/MyDrive/PlantDec/images/val/LIFH3_jpg.rf.97a581f728fb7433d3444e5c0edd1a0e.jpg: ignoring corrupt image/label: Label class 2 exceeds dataset class count 1. Possible class labels are 0-0\n",
            "\u001b[34m\u001b[1mval: \u001b[0m/content/drive/MyDrive/PlantDec/images/val/LateBlt_FromRusinek_jpg.rf.54610441cb851995c8bde25351b85bd7.jpg: ignoring corrupt image/label: Label class 23 exceeds dataset class count 1. Possible class labels are 0-0\n",
            "\u001b[34m\u001b[1mval: \u001b[0m/content/drive/MyDrive/PlantDec/images/val/Late_Blight_of_Potato_and_Tomato_jpg.rf.365dab94ade91d4d74179c6d2ff57d31.jpg: ignoring corrupt image/label: Label class 13 exceeds dataset class count 1. Possible class labels are 0-0\n",
            "\u001b[34m\u001b[1mval: \u001b[0m/content/drive/MyDrive/PlantDec/images/val/Late_blight_on_potato_jpg.rf.1f190154a93e1e605b9730ed8e32b7ea.jpg: ignoring corrupt image/label: Label class 13 exceeds dataset class count 1. Possible class labels are 0-0\n",
            "\u001b[34m\u001b[1mval: \u001b[0m/content/drive/MyDrive/PlantDec/images/val/Late_blight_on_potato_leaf_jpg.rf.6f6bca846fd7e2cc61fe048d1d2c3b25.jpg: ignoring corrupt image/label: Label class 13 exceeds dataset class count 1. Possible class labels are 0-0\n",
            "\u001b[34m\u001b[1mval: \u001b[0m/content/drive/MyDrive/PlantDec/images/val/Late_blight_symptoms_on_tomato_leaves_1r3uhy2_jpg.rf.c29ff2383aefeda5bcb10a7bd4264326.jpg: ignoring corrupt image/label: Label class 23 exceeds dataset class count 1. Possible class labels are 0-0\n",
            "\u001b[34m\u001b[1mval: \u001b[0m/content/drive/MyDrive/PlantDec/images/val/Leaf_Mold_upper_leaf_surface_jpg.rf.479de279f5a4e18ba91e190a3922b089.jpg: ignoring corrupt image/label: Label class 26 exceeds dataset class count 1. Possible class labels are 0-0\n",
            "\u001b[34m\u001b[1mval: \u001b[0m/content/drive/MyDrive/PlantDec/images/val/Leaves_of_Tomato_jpg.rf.eac56ad8710db16f9d20bf9f665240d6.jpg: ignoring corrupt image/label: Label class 21 exceeds dataset class count 1. Possible class labels are 0-0\n",
            "\u001b[34m\u001b[1mval: \u001b[0m/content/drive/MyDrive/PlantDec/images/val/Lexicon_Raspberry_jpg.rf.91033dcda2ca4b05c945b6e67db9efe1.jpg: ignoring corrupt image/label: Label class 14 exceeds dataset class count 1. Possible class labels are 0-0\n",
            "\u001b[34m\u001b[1mval: \u001b[0m/content/drive/MyDrive/PlantDec/images/val/Malus_sylvestris___Crab_Apple_04_jpg.rf.0956fd60c1e804acd9c2f0425193b2b5.jpg: ignoring corrupt image/label: Label class 1 exceeds dataset class count 1. Possible class labels are 0-0\n",
            "\u001b[34m\u001b[1mval: \u001b[0m/content/drive/MyDrive/PlantDec/images/val/Mildew_on_cucumber_leaf_1024x768_jpg.rf.59a90551d0da8be39c179013a4e856cc.jpg: ignoring corrupt image/label: Label class 17 exceeds dataset class count 1. Possible class labels are 0-0\n",
            "\u001b[34m\u001b[1mval: \u001b[0m/content/drive/MyDrive/PlantDec/images/val/NCLB6_jpg.rf.0200119534bc7ca383dccb23486a52e3.jpg: ignoring corrupt image/label: Label class 8 exceeds dataset class count 1. Possible class labels are 0-0\n",
            "\u001b[34m\u001b[1mval: \u001b[0m/content/drive/MyDrive/PlantDec/images/val/Northern_Corn_Leaf_Blight4_jpg.rf.9906272ae6381c2eb25080547db33c3f.jpg: ignoring corrupt image/label: Label class 8 exceeds dataset class count 1. Possible class labels are 0-0\n",
            "\u001b[34m\u001b[1mval: \u001b[0m/content/drive/MyDrive/PlantDec/images/val/Northern_Corn_Leaf_Blight_in_Sweet_Corn_jpg.rf.e75f93ab70e7caa3ec59e8245576321d.jpg: ignoring corrupt image/label: Label class 8 exceeds dataset class count 1. Possible class labels are 0-0\n",
            "\u001b[34m\u001b[1mval: \u001b[0m/content/drive/MyDrive/PlantDec/images/val/Northern_corn_leafblight_jpg.rf.f2b8739ccf63ffe8f5909a2102449f4a.jpg: ignoring corrupt image/label: Label class 8 exceeds dataset class count 1. Possible class labels are 0-0\n",
            "\u001b[34m\u001b[1mval: \u001b[0m/content/drive/MyDrive/PlantDec/images/val/Northern_leaf_blight_in_corn_jpg.rf.e4714c40ce14c038f3a32b08a611dad0.jpg: ignoring corrupt image/label: Label class 8 exceeds dataset class count 1. Possible class labels are 0-0\n",
            "\u001b[34m\u001b[1mval: \u001b[0m/content/drive/MyDrive/PlantDec/images/val/OLU13_jpg.rf.7ce4cd9f2104ce849d6b6615aaec4d7b.jpg: ignoring corrupt image/label: Label class 26 exceeds dataset class count 1. Possible class labels are 0-0\n",
            "\u001b[34m\u001b[1mval: \u001b[0m/content/drive/MyDrive/PlantDec/images/val/Original_e_blight_JPG_rend_hgtvcom_966_725_jpeg_jpg.rf.ac67263006710421e3e8f33b59dc983b.jpg: ignoring corrupt image/label: Label class 19 exceeds dataset class count 1. Possible class labels are 0-0\n",
            "\u001b[34m\u001b[1mval: \u001b[0m/content/drive/MyDrive/PlantDec/images/val/P1110947_Rubus_idaeus_fr_St__Joe_River_JPG_jpg.rf.b56bda7c1f411037e3f6f9b2b4b2e44d.jpg: ignoring corrupt image/label: Label class 14 exceeds dataset class count 1. Possible class labels are 0-0\n",
            "\u001b[34m\u001b[1mval: \u001b[0m/content/drive/MyDrive/PlantDec/images/val/PLPATH_FRU_24_Fig1_black_rot_spots_on_grape_leaf_Page_1_jpg.rf.1154df24e518524a21548142ae0e8be1.jpg: ignoring corrupt image/label: Label class 29 exceeds dataset class count 1. Possible class labels are 0-0\n",
            "\u001b[34m\u001b[1mval: \u001b[0m/content/drive/MyDrive/PlantDec/images/val/Paret_Fig_1_tomato_bacterial_leaf_spot_jpg.rf.e62867135acf5d6fc5476fb681974116.jpg: ignoring corrupt image/label: Label class 22 exceeds dataset class count 1. Possible class labels are 0-0\n",
            "\u001b[34m\u001b[1mval: \u001b[0m/content/drive/MyDrive/PlantDec/images/val/Pest2369_jpg.rf.719b8d7d143a087262154dd043cac55c.jpg: ignoring corrupt image/label: Label class 23 exceeds dataset class count 1. Possible class labels are 0-0\n",
            "\u001b[34m\u001b[1mval: \u001b[0m/content/drive/MyDrive/PlantDec/images/val/Potato_Late_Blight_3_06202014_jpeg_jpg.rf.ca15edce41a2aeca4b4c8b6eda3db53b.jpg: ignoring corrupt image/label: Label class 13 exceeds dataset class count 1. Possible class labels are 0-0\n",
            "\u001b[34m\u001b[1mval: \u001b[0m/content/drive/MyDrive/PlantDec/images/val/Potato_earlyblight2_jpg.rf.288edd110d486804f154a90a6ac00aac.jpg: ignoring corrupt image/label: Label class 12 exceeds dataset class count 1. Possible class labels are 0-0\n",
            "\u001b[34m\u001b[1mval: \u001b[0m/content/drive/MyDrive/PlantDec/images/val/Potato_late_blight_caused_by_Phytophthora_infestans_Q320_jpg.rf.a0e6f53ca0bd561ce543862810096484.jpg: ignoring corrupt image/label: Label class 13 exceeds dataset class count 1. Possible class labels are 0-0\n",
            "\u001b[34m\u001b[1mval: \u001b[0m/content/drive/MyDrive/PlantDec/images/val/Potato_late_blight_in_field_trial_1_jpg.rf.03e2595e4c36970491ffba21a0c32e34.jpg: ignoring corrupt image/label: Label class 13 exceeds dataset class count 1. Possible class labels are 0-0\n",
            "\u001b[34m\u001b[1mval: \u001b[0m/content/drive/MyDrive/PlantDec/images/val/Powdery1_jpg.rf.70fb7a3e9d000734ca5e35ccdb20b385.jpg: ignoring corrupt image/label: Label class 17 exceeds dataset class count 1. Possible class labels are 0-0\n",
            "\u001b[34m\u001b[1mval: \u001b[0m/content/drive/MyDrive/PlantDec/images/val/Powdery_Mildew_Squash_jpg.rf.187e93426b987ea010c63c24879bab8d.jpg: ignoring corrupt image/label: Label class 17 exceeds dataset class count 1. Possible class labels are 0-0\n",
            "\u001b[34m\u001b[1mval: \u001b[0m/content/drive/MyDrive/PlantDec/images/val/Raspberry41_JPG_jpg.rf.780ed60197237b04f291e97a26ce2c64.jpg: ignoring corrupt image/label: Label class 14 exceeds dataset class count 1. Possible class labels are 0-0\n",
            "\u001b[34m\u001b[1mval: \u001b[0m/content/drive/MyDrive/PlantDec/images/val/Raspberry_leaf_and_thimbleberry_leaf_jpg.rf.2e6c95298e1855cfb1e0de2cc02923dd.jpg: ignoring corrupt image/label: Label class 14 exceeds dataset class count 1. Possible class labels are 0-0\n",
            "\u001b[34m\u001b[1mval: \u001b[0m/content/drive/MyDrive/PlantDec/images/val/Rust__CA_jpg.rf.535dd3e319bf83f11633ecd8d4f0ca19.jpg: ignoring corrupt image/label: Label class 2 exceeds dataset class count 1. Possible class labels are 0-0\n",
            "\u001b[34m\u001b[1mval: \u001b[0m/content/drive/MyDrive/PlantDec/images/val/RyBx7MH_jpg.rf.be437e0433f291323fccbda31566fc7a.jpg: ignoring corrupt image/label: Label class 22 exceeds dataset class count 1. Possible class labels are 0-0\n",
            "\u001b[34m\u001b[1mval: \u001b[0m/content/drive/MyDrive/PlantDec/images/val/SAM_0376_JPG_jpg.rf.6c02610edfe2e36f9f1523c55706bf4f.jpg: ignoring corrupt image/label: Label class 8 exceeds dataset class count 1. Possible class labels are 0-0\n",
            "\u001b[34m\u001b[1mval: \u001b[0m/content/drive/MyDrive/PlantDec/images/val/Seminis_Turnpike_Bell_Pepper_1024x756_jpg.rf.563e85a3d4a114f7cb5db8bb57ea6ea9.jpg: ignoring corrupt image/label: Label class 3 exceeds dataset class count 1. Possible class labels are 0-0\n",
            "\u001b[34m\u001b[1mval: \u001b[0m/content/drive/MyDrive/PlantDec/images/val/Septoria_2Bleaf_2Bspot_tomato_JPG_jpg.rf.869dadc7b0e525733eb6a06d6e5e5628.jpg: ignoring corrupt image/label: Label class 20 exceeds dataset class count 1. Possible class labels are 0-0\n",
            "\u001b[34m\u001b[1mval: \u001b[0m/content/drive/MyDrive/PlantDec/images/val/Septoria_Leaf_Spot_jpg.rf.72581ce30c0b28d73d329c4affbd5e83.jpg: ignoring corrupt image/label: Label class 20 exceeds dataset class count 1. Possible class labels are 0-0\n",
            "\u001b[34m\u001b[1mval: \u001b[0m/content/drive/MyDrive/PlantDec/images/val/SmzpflTl_jpg.rf.5e3d442be8b998dcb148327f14b11d13.jpg: ignoring corrupt image/label: Label class 5 exceeds dataset class count 1. Possible class labels are 0-0\n",
            "\u001b[34m\u001b[1mval: \u001b[0m/content/drive/MyDrive/PlantDec/images/val/Southern_Corn_Leaf_Blight_USDA_ashx_w_770_jpg.rf.c9eefd7d2fe0e87c7f88b28944687204.jpg: ignoring corrupt image/label: Label class 8 exceeds dataset class count 1. Possible class labels are 0-0\n",
            "\u001b[34m\u001b[1mval: \u001b[0m/content/drive/MyDrive/PlantDec/images/val/Soybean_20tofu_20leaf_JPG_jpg.rf.5f7fa67a9287e5e8349c778c4e0b296d.jpg: ignoring corrupt image/label: Label class 15 exceeds dataset class count 1. Possible class labels are 0-0\n",
            "\u001b[34m\u001b[1mval: \u001b[0m/content/drive/MyDrive/PlantDec/images/val/Strawberry_leaves_jpg.rf.68310e7e4111bb780120ea4885433795.jpg: ignoring corrupt image/label: Label class 18 exceeds dataset class count 1. Possible class labels are 0-0\n",
            "\u001b[34m\u001b[1mval: \u001b[0m/content/drive/MyDrive/PlantDec/images/val/Sweet_September_Yellow_Peach_jpg.rf.3fc889f8c4c35fb63feb2076a8adf833.jpg: ignoring corrupt image/label: Label class 10 exceeds dataset class count 1. Possible class labels are 0-0\n",
            "\u001b[34m\u001b[1mval: \u001b[0m/content/drive/MyDrive/PlantDec/images/val/TNRV2_jpg.rf.50a0dbfdd5a885528890b00e053253c4.jpg: ignoring corrupt image/label: Label class 24 exceeds dataset class count 1. Possible class labels are 0-0\n",
            "\u001b[34m\u001b[1mval: \u001b[0m/content/drive/MyDrive/PlantDec/images/val/TYLCV_tomate_DB_441_170_jpg.rf.85ec97cd38b1c22f1739c4821f848b35.jpg: ignoring corrupt image/label: Label class 25 exceeds dataset class count 1. Possible class labels are 0-0\n",
            "\u001b[34m\u001b[1mval: \u001b[0m/content/drive/MyDrive/PlantDec/images/val/Tom_Sept4_jpg.rf.62505ea2a3ac638ce6f12a0c05d7771d.jpg: ignoring corrupt image/label: Label class 20 exceeds dataset class count 1. Possible class labels are 0-0\n",
            "\u001b[34m\u001b[1mval: \u001b[0m/content/drive/MyDrive/PlantDec/images/val/Tomato2_jpg.rf.b55d046f46aa3d329538bd896293ede0.jpg: ignoring corrupt image/label: Label class 25 exceeds dataset class count 1. Possible class labels are 0-0\n",
            "\u001b[34m\u001b[1mval: \u001b[0m/content/drive/MyDrive/PlantDec/images/val/Tomato_20bacterial_20canker_JPG_jpg.rf.15a25e4df95dfb0bebf191048fba978e.jpg: ignoring corrupt image/label: Label class 22 exceeds dataset class count 1. Possible class labels are 0-0\n",
            "\u001b[34m\u001b[1mval: \u001b[0m/content/drive/MyDrive/PlantDec/images/val/Tomato_20bacterial_20spot_20closeup_050S_JPG_jpg.rf.8a41a1553b1da0cb25eaca7184addcce.jpg: ignoring corrupt image/label: Label class 20 exceeds dataset class count 1. Possible class labels are 0-0\n",
            "\u001b[34m\u001b[1mval: \u001b[0m/content/drive/MyDrive/PlantDec/images/val/Tomato_20greenhouse_20phythotoxicity03F_JPG_jpg.rf.fcb0e434967bb6d2f07359642b1fd40c.jpg: ignoring corrupt image/label: Label class 22 exceeds dataset class count 1. Possible class labels are 0-0\n",
            "\u001b[34m\u001b[1mval: \u001b[0m/content/drive/MyDrive/PlantDec/images/val/Tomato_Blight_Leaves_JPG_jpg.rf.e5da73ec550fe6e74dfabd3d27115bcf.jpg: ignoring corrupt image/label: Label class 23 exceeds dataset class count 1. Possible class labels are 0-0\n",
            "\u001b[34m\u001b[1mval: \u001b[0m/content/drive/MyDrive/PlantDec/images/val/Tomato_Problems_Septoria_Leaf_Spot_jpg.rf.a6a6281ac639309c5ac6679d4bf7b8e0.jpg: ignoring corrupt image/label: Label class 20 exceeds dataset class count 1. Possible class labels are 0-0\n",
            "\u001b[34m\u001b[1mval: \u001b[0m/content/drive/MyDrive/PlantDec/images/val/Tomato_early_blight_1_1_12wmver_jpg.rf.801ac48c39b273ef40fbd4b6e2cf6f6a.jpg: ignoring corrupt image/label: Label class 19 exceeds dataset class count 1. Possible class labels are 0-0\n",
            "\u001b[34m\u001b[1mval: \u001b[0m/content/drive/MyDrive/PlantDec/images/val/a_solani_jpg.rf.ee35359dac56683316055fe37b3fe538.jpg: ignoring corrupt image/label: Label class 12 exceeds dataset class count 1. Possible class labels are 0-0\n",
            "\u001b[34m\u001b[1mval: \u001b[0m/content/drive/MyDrive/PlantDec/images/val/apple_leaf_rust_and_cedar_apple_roestella_pirata_report_of_the_of_picture_id629456105_s_612x612_jpg.rf.7fbc00a5647bfa93ed372e8e72bb054f.jpg: ignoring corrupt image/label: Label class 2 exceeds dataset class count 1. Possible class labels are 0-0\n",
            "\u001b[34m\u001b[1mval: \u001b[0m/content/drive/MyDrive/PlantDec/images/val/apple_rust_disease_10_845384767_jpg.rf.8c054636ec1a0b6c9bf4c289bdd9d9f9.jpg: ignoring corrupt image/label: Label class 2 exceeds dataset class count 1. Possible class labels are 0-0\n",
            "\u001b[34m\u001b[1mval: \u001b[0m/content/drive/MyDrive/PlantDec/images/val/apple_tree_branch_green_leaves_fresh_isolated_white_background_33032922_jpg.rf.ff02ac9d9eddf92557c2aef24f4a9b73.jpg: ignoring corrupt image/label: Label class 1 exceeds dataset class count 1. Possible class labels are 0-0\n",
            "\u001b[34m\u001b[1mval: \u001b[0m/content/drive/MyDrive/PlantDec/images/val/apple_tree_branch_green_leaves_fresh_isolated_white_background_33032924_jpg.rf.1102462712ee66c1754d3da315b36923.jpg: ignoring corrupt image/label: Label class 1 exceeds dataset class count 1. Possible class labels are 0-0\n",
            "\u001b[34m\u001b[1mval: \u001b[0m/content/drive/MyDrive/PlantDec/images/val/applerust_500x383_jpg.rf.d8e4274ea72af0a7ff58dd8f492b1ccb.jpg: ignoring corrupt image/label: Label class 2 exceeds dataset class count 1. Possible class labels are 0-0\n",
            "\u001b[34m\u001b[1mval: \u001b[0m/content/drive/MyDrive/PlantDec/images/val/asoybeanleafcloseup_JPG_jpg.rf.bb73a4b1bae9ec2d911ac95ed8802908.jpg: ignoring corrupt image/label: Label class 15 exceeds dataset class count 1. Possible class labels are 0-0\n",
            "\u001b[34m\u001b[1mval: \u001b[0m/content/drive/MyDrive/PlantDec/images/val/b_speck_jpg.rf.c96d4110b503cf22048cc32f4e6aa6e0.jpg: ignoring corrupt image/label: Label class 22 exceeds dataset class count 1. Possible class labels are 0-0\n",
            "\u001b[34m\u001b[1mval: \u001b[0m/content/drive/MyDrive/PlantDec/images/val/bacterialCanker08_129kre6_on_pepper_50_QUALITY_1tzxf2r_jpg.rf.a4172484cc93552d33f0ec6720e55f26.jpg: ignoring corrupt image/label: Label class 4 exceeds dataset class count 1. Possible class labels are 0-0\n",
            "\u001b[34m\u001b[1mval: \u001b[0m/content/drive/MyDrive/PlantDec/images/val/bacterial_canker4x640_1nz1vm7_jpg.rf.46d6108b90ff8a0311119bcc1a8fcc82.jpg: ignoring corrupt image/label: Label class 22 exceeds dataset class count 1. Possible class labels are 0-0\n",
            "\u001b[34m\u001b[1mval: \u001b[0m/content/drive/MyDrive/PlantDec/images/val/bell_20pepper_20rain_20590x330_jpg.rf.aa6d34b37df2c5dffd90bdb1943ab70e.jpg: ignoring corrupt image/label: Label class 3 exceeds dataset class count 1. Possible class labels are 0-0\n",
            "\u001b[34m\u001b[1mval: \u001b[0m/content/drive/MyDrive/PlantDec/images/val/berry_strawberry_leaf_flower_set_isolated_white_background_47595687_jpg.rf.a58424ed8cb35723b779205e372b309e.jpg: ignoring corrupt image/label: Label class 18 exceeds dataset class count 1. Possible class labels are 0-0\n",
            "\u001b[34m\u001b[1mval: \u001b[0m/content/drive/MyDrive/PlantDec/images/val/black_20leaf_20mold_20_283_29_JPG_itok_u5TDHCSM_jpg.rf.22188af0fa827b7458da210e7169b693.jpg: ignoring corrupt image/label: Label class 26 exceeds dataset class count 1. Possible class labels are 0-0\n",
            "\u001b[34m\u001b[1mval: \u001b[0m/content/drive/MyDrive/PlantDec/images/val/black_rot_1_jpg.rf.f83545f0b4aa09dcf0dbaf2d6f04c119.jpg: ignoring corrupt image/label: Label class 29 exceeds dataset class count 1. Possible class labels are 0-0\n",
            "\u001b[34m\u001b[1mval: \u001b[0m/content/drive/MyDrive/PlantDec/images/val/black_rot_guignardia_bidwellii_leaf_spot_lesions_on_muscadine_grape_BY9J7B_jpg.rf.247b0484a917d623d0d4a7e8be46be18.jpg: ignoring corrupt image/label: Label class 29 exceeds dataset class count 1. Possible class labels are 0-0\n",
            "\u001b[34m\u001b[1mval: \u001b[0m/content/drive/MyDrive/PlantDec/images/val/blight_2x_jpg.rf.2943983c23fcaf8b2b1b49793dbeca4d.jpg: ignoring corrupt image/label: Label class 12 exceeds dataset class count 1. Possible class labels are 0-0\n",
            "\u001b[34m\u001b[1mval: \u001b[0m/content/drive/MyDrive/PlantDec/images/val/blueberry_bushes_clipart_16_jpg.rf.6c9d98d01b97c2fa4bbf82a8c551f1ba.jpg: ignoring corrupt image/label: Label class 5 exceeds dataset class count 1. Possible class labels are 0-0\n",
            "\u001b[34m\u001b[1mval: \u001b[0m/content/drive/MyDrive/PlantDec/images/val/blueberry_chlorotic_leaves_2_jpg.rf.b3ee523196665059beb37b38084b03d9.jpg: ignoring corrupt image/label: Label class 5 exceeds dataset class count 1. Possible class labels are 0-0\n",
            "\u001b[34m\u001b[1mval: \u001b[0m/content/drive/MyDrive/PlantDec/images/val/blueberry_leaf_isolated_white_background_blueberry_leaf_isolated_99227523_jpg.rf.00a825930e9396a34d6c3fc5cf86686e.jpg: ignoring corrupt image/label: Label class 5 exceeds dataset class count 1. Possible class labels are 0-0\n",
            "\u001b[34m\u001b[1mval: \u001b[0m/content/drive/MyDrive/PlantDec/images/val/blueberry_leaf_set_collection_isolated_white_58283965_jpg.rf.e78cc195e672ca3aba6a293210802eb4.jpg: ignoring corrupt image/label: Label class 5 exceeds dataset class count 1. Possible class labels are 0-0\n",
            "\u001b[34m\u001b[1mval: \u001b[0m/content/drive/MyDrive/PlantDec/images/val/blueberry_leaves_5931369_jpg.rf.fdc96230eb33772e9772901bdcbde9c3.jpg: ignoring corrupt image/label: Label class 5 exceeds dataset class count 1. Possible class labels are 0-0\n",
            "\u001b[34m\u001b[1mval: \u001b[0m/content/drive/MyDrive/PlantDec/images/val/blueberry_leaves_berries_fresh_wood_1280x960_hd_wallpaper_1763513_jpg.rf.7dc059fffd6da1a3f3971b60e412ac5c.jpg: ignoring corrupt image/label: Label class 5 exceeds dataset class count 1. Possible class labels are 0-0\n",
            "\u001b[34m\u001b[1mval: \u001b[0m/content/drive/MyDrive/PlantDec/images/val/c_204_raspberry_jpg.rf.2234bb0ba84c342c510d6a0c8d7d2b44.jpg: ignoring corrupt image/label: Label class 14 exceeds dataset class count 1. Possible class labels are 0-0\n",
            "\u001b[34m\u001b[1mval: \u001b[0m/content/drive/MyDrive/PlantDec/images/val/canada_red_cherry_leaves_jpg.rf.ca6562dd853975f45e8cb686e808ece3.jpg: ignoring corrupt image/label: Label class 6 exceeds dataset class count 1. Possible class labels are 0-0\n",
            "\u001b[34m\u001b[1mval: \u001b[0m/content/drive/MyDrive/PlantDec/images/val/cedar_20apple_20rust_20lower_20leaf_20haw_20S_202_20ne_20OH_20RA_209_2_16_jpg.rf.61107c25f4a8679051258ccd436b679c.jpg: ignoring corrupt image/label: Label class 2 exceeds dataset class count 1. Possible class labels are 0-0\n",
            "\u001b[34m\u001b[1mval: \u001b[0m/content/drive/MyDrive/PlantDec/images/val/cedar_apple_rust_3_JPG_1362772840_jpg.rf.4f2fa9438fdeb95aae2808d76d283a8f.jpg: ignoring corrupt image/label: Label class 2 exceeds dataset class count 1. Possible class labels are 0-0\n",
            "\u001b[34m\u001b[1mval: \u001b[0m/content/drive/MyDrive/PlantDec/images/val/common_rust3_jpg.rf.baf0f56562d5c75a375819966a110be8.jpg: ignoring corrupt image/label: Label class 9 exceeds dataset class count 1. Possible class labels are 0-0\n",
            "\u001b[34m\u001b[1mval: \u001b[0m/content/drive/MyDrive/PlantDec/images/val/confused_bacterial_canker_early_blight_zoom_JPG_jpg.rf.5470ecbb3d367d6de0e678e168d5dac8.jpg: ignoring corrupt image/label: Label class 19 exceeds dataset class count 1. Possible class labels are 0-0\n",
            "\u001b[34m\u001b[1mval: \u001b[0m/content/drive/MyDrive/PlantDec/images/val/cornGLS2_jpg.rf.d77d53d4c1ae6425f64e8a40ca1d716d.jpg: ignoring corrupt image/label: Label class 7 exceeds dataset class count 1. Possible class labels are 0-0\n",
            "\u001b[34m\u001b[1mval: \u001b[0m/content/drive/MyDrive/PlantDec/images/val/corn_BLS_irregular_lesions_jpg.rf.55f1d78a1f24a826d105af6ed3027952.jpg: ignoring corrupt image/label: Label class 8 exceeds dataset class count 1. Possible class labels are 0-0\n",
            "\u001b[34m\u001b[1mval: \u001b[0m/content/drive/MyDrive/PlantDec/images/val/corn_rust_4_jpg.rf.14247fac2384abf137c3d99cd5fcfb3c.jpg: ignoring corrupt image/label: Label class 9 exceeds dataset class count 1. Possible class labels are 0-0\n",
            "\u001b[34m\u001b[1mval: \u001b[0m/content/drive/MyDrive/PlantDec/images/val/corn_southern_rust_2_jpg.rf.b15a60382020b08ab1dd435aec1057cd.jpg: ignoring corrupt image/label: Label class 9 exceeds dataset class count 1. Possible class labels are 0-0\n",
            "\u001b[34m\u001b[1mval: \u001b[0m/content/drive/MyDrive/PlantDec/images/val/corn_stalk_rot_leaf_symptoms_F1_jpg_jpeg.rf.fb902ac173ecf566fcc9ff73b808ac0a.jpg: ignoring corrupt image/label: Label class 8 exceeds dataset class count 1. Possible class labels are 0-0\n",
            "\u001b[34m\u001b[1mval: \u001b[0m/content/drive/MyDrive/PlantDec/images/val/curcurbit_powdery_mildew_erysiphe_or_sphaerotheca_on_cucumber_leaf_B5NP51_jpg.rf.ee37b872042573b392149156086bd6b7.jpg: ignoring corrupt image/label: Label class 17 exceeds dataset class count 1. Possible class labels are 0-0\n",
            "\u001b[34m\u001b[1mval: \u001b[0m/content/drive/MyDrive/PlantDec/images/val/d41c86a650e49b8066d6b347d8e9d3ad_jpg.rf.f9b3926ab7e55134958e3313fe00e5fe.jpg: ignoring corrupt image/label: Label class 24 exceeds dataset class count 1. Possible class labels are 0-0\n",
            "\u001b[34m\u001b[1mval: \u001b[0m/content/drive/MyDrive/PlantDec/images/val/depositphotos_140609182_stock_photo_beauty_peach_with_leaf_jpg.rf.e56ee9a461f9a5029e1c145cf90058bc.jpg: ignoring corrupt image/label: Label class 10 exceeds dataset class count 1. Possible class labels are 0-0\n",
            "\u001b[34m\u001b[1mval: \u001b[0m/content/drive/MyDrive/PlantDec/images/val/depositphotos_30057617_Green_leaf_of_apple_tree_jpg.rf.78997bd0c11d2036d4fa76b5490f61e5.jpg: ignoring corrupt image/label: Label class 1 exceeds dataset class count 1. Possible class labels are 0-0\n",
            "\u001b[34m\u001b[1mval: \u001b[0m/content/drive/MyDrive/PlantDec/images/val/depositphotos_45748597_stock_photo_ripe_apple_with_leaf_jpg.rf.0b2186761dfd51db01afa099cff4732c.jpg: ignoring corrupt image/label: Label class 1 exceeds dataset class count 1. Possible class labels are 0-0\n",
            "\u001b[34m\u001b[1mval: \u001b[0m/content/drive/MyDrive/PlantDec/images/val/depositphotos_50812601_stock_photo_peach_leaf_isolated_on_white_jpg.rf.fc4790ee46a3b10c4498799cd2cce293.jpg: ignoring corrupt image/label: Label class 10 exceeds dataset class count 1. Possible class labels are 0-0\n",
            "\u001b[34m\u001b[1mval: \u001b[0m/content/drive/MyDrive/PlantDec/images/val/depositphotos_6570354_Strawberry_leaf_jpg.rf.dd8e971df8c7c7463b05549225d1c121.jpg: ignoring corrupt image/label: Label class 18 exceeds dataset class count 1. Possible class labels are 0-0\n",
            "\u001b[34m\u001b[1mval: \u001b[0m/content/drive/MyDrive/PlantDec/images/val/depositphotos_6870648_stock_photo_ripe_peach_fruit_with_leaves_jpg.rf.d5e25b43b755ad475855696f3f04ee13.jpg: ignoring corrupt image/label: Label class 10 exceeds dataset class count 1. Possible class labels are 0-0\n",
            "\u001b[34m\u001b[1mval: \u001b[0m/content/drive/MyDrive/PlantDec/images/val/depositphotos_7182856_stock_photo_tomato_leaf_jpg.rf.6044ffc326dde5983ff2664241a22f48.jpg: ignoring corrupt image/label: Label class 21 exceeds dataset class count 1. Possible class labels are 0-0\n",
            "\u001b[34m\u001b[1mval: \u001b[0m/content/drive/MyDrive/PlantDec/images/val/depositphotos_8078382_stock_photo_strawberry_leaf_jpg.rf.618edd2ddec44d194401ea4257828ab9.jpg: ignoring corrupt image/label: Label class 18 exceeds dataset class count 1. Possible class labels are 0-0\n",
            "\u001b[34m\u001b[1mval: \u001b[0m/content/drive/MyDrive/PlantDec/images/val/detailed_view_single_soybean_leaf_very_green_crop_growing_field_43444691_jpg.rf.28d7f05ba2c9126ae75a274d41a36a50.jpg: ignoring corrupt image/label: Label class 15 exceeds dataset class count 1. Possible class labels are 0-0\n",
            "\u001b[34m\u001b[1mval: \u001b[0m/content/drive/MyDrive/PlantDec/images/val/disease_JPG_jpg.rf.ef0c2013306acbbb5bd3b04a860d2a90.jpg: ignoring corrupt image/label: Label class 9 exceeds dataset class count 1. Possible class labels are 0-0\n",
            "\u001b[34m\u001b[1mval: \u001b[0m/content/drive/MyDrive/PlantDec/images/val/dsc5270_jpg.rf.954a7cf1041fd817e3bc26e9eb937d8a.jpg: ignoring corrupt image/label: Label class 8 exceeds dataset class count 1. Possible class labels are 0-0\n",
            "\u001b[34m\u001b[1mval: \u001b[0m/content/drive/MyDrive/PlantDec/images/val/dsc5582_jpg.rf.ef09ba1764cabb6a10f25bfbb92307d6.jpg: ignoring corrupt image/label: Label class 8 exceeds dataset class count 1. Possible class labels are 0-0\n",
            "\u001b[34m\u001b[1mval: \u001b[0m/content/drive/MyDrive/PlantDec/images/val/dsc_0127_jpg.rf.96ce0b5aaf01ab8e71ecaaad93a1657d.jpg: ignoring corrupt image/label: Label class 14 exceeds dataset class count 1. Possible class labels are 0-0\n",
            "\u001b[34m\u001b[1mval: \u001b[0m/content/drive/MyDrive/PlantDec/images/val/dscf9033_jpg.rf.7d7518bdd7dcccbfef1b265bb57e5233.jpg: ignoring corrupt image/label: Label class 5 exceeds dataset class count 1. Possible class labels are 0-0\n",
            "\u001b[34m\u001b[1mval: \u001b[0m/content/drive/MyDrive/PlantDec/images/val/dscf9038_jpg.rf.83e640749a1f4705998549da84991718.jpg: ignoring corrupt image/label: Label class 5 exceeds dataset class count 1. Possible class labels are 0-0\n",
            "\u001b[34m\u001b[1mval: \u001b[0m/content/drive/MyDrive/PlantDec/images/val/dscn2512_jpg.rf.a7e745143652249a224e44b0752a5da5.jpg: ignoring corrupt image/label: Label class 17 exceeds dataset class count 1. Possible class labels are 0-0\n",
            "\u001b[34m\u001b[1mval: \u001b[0m/content/drive/MyDrive/PlantDec/images/val/dusty_mildew_on_plants_powdery_mildew_on_a_courgette_leaf_treat_downy_mildew_plants_controlling_powdery_mildew_on_squash_plants_jpg.rf.a99df56ac420f80fc9f6f98cb5f8ec58.jpg: ignoring corrupt image/label: Label class 17 exceeds dataset class count 1. Possible class labels are 0-0\n",
            "\u001b[34m\u001b[1mval: \u001b[0m/content/drive/MyDrive/PlantDec/images/val/ealryblight_jpg.rf.32d38b88464a814660ac533f346fbb1e.jpg: ignoring corrupt image/label: Label class 19 exceeds dataset class count 1. Possible class labels are 0-0\n",
            "\u001b[34m\u001b[1mval: \u001b[0m/content/drive/MyDrive/PlantDec/images/val/early_tomato_blight_jpg.rf.21570419b11ba08204259eb0227b3c27.jpg: ignoring corrupt image/label: Label class 19 exceeds dataset class count 1. Possible class labels are 0-0\n",
            "\u001b[34m\u001b[1mval: \u001b[0m/content/drive/MyDrive/PlantDec/images/val/earlyblightresize_jpg.rf.d9058df80f927eab703d1f6762b507eb.jpg: ignoring corrupt image/label: Label class 19 exceeds dataset class count 1. Possible class labels are 0-0\n",
            "\u001b[34m\u001b[1mval: \u001b[0m/content/drive/MyDrive/PlantDec/images/val/eb2_jpg.rf.8c5dc221db56571e73b2862214b386d3.jpg: ignoring corrupt image/label: Label class 12 exceeds dataset class count 1. Possible class labels are 0-0\n",
            "\u001b[34m\u001b[1mval: \u001b[0m/content/drive/MyDrive/PlantDec/images/val/ed8e20_jpg.rf.370bc2b5a67b0b40df0854e5f800af95.jpg: ignoring corrupt image/label: Label class 4 exceeds dataset class count 1. Possible class labels are 0-0\n",
            "\u001b[34m\u001b[1mval: \u001b[0m/content/drive/MyDrive/PlantDec/images/val/f1078eef6945e3430829706f84bf70c0_jpg.rf.fbc176e7f0eeff00ecff8c07858e7c68.jpg: ignoring corrupt image/label: Label class 12 exceeds dataset class count 1. Possible class labels are 0-0\n",
            "\u001b[34m\u001b[1mval: \u001b[0m/content/drive/MyDrive/PlantDec/images/val/foodjuly2011_026_jpg.rf.724197b2abe061fd36b7e03a3126035e.jpg: ignoring corrupt image/label: Label class 10 exceeds dataset class count 1. Possible class labels are 0-0\n",
            "\u001b[34m\u001b[1mval: \u001b[0m/content/drive/MyDrive/PlantDec/images/val/fotolia_4311376_XS_jpg.rf.37c0a547c9a09b1d791d447b45210e55.jpg: ignoring corrupt image/label: Label class 3 exceeds dataset class count 1. Possible class labels are 0-0\n",
            "\u001b[34m\u001b[1mval: \u001b[0m/content/drive/MyDrive/PlantDec/images/val/fresh_green_raspberry_leaf_isolated_on_white_background_with_clipping_KH37NJ_jpg.rf.4cf1a511d54240138441bb15df2bfa5c.jpg: ignoring corrupt image/label: Label class 14 exceeds dataset class count 1. Possible class labels are 0-0\n",
            "\u001b[34m\u001b[1mval: \u001b[0m/content/drive/MyDrive/PlantDec/images/val/fresh_green_strawberry_leaf_isolated_on_white_background_with_clipping_KH37KY_jpg.rf.2d10a661784ea8d9e3fd16605d7f6854.jpg: ignoring corrupt image/label: Label class 18 exceeds dataset class count 1. Possible class labels are 0-0\n",
            "\u001b[34m\u001b[1mval: \u001b[0m/content/drive/MyDrive/PlantDec/images/val/fresh_peach_fruits_green_leaves_15654533_jpg.rf.363bfe10e725469eb65dcf104b053245.jpg: ignoring corrupt image/label: Label class 10 exceeds dataset class count 1. Possible class labels are 0-0\n",
            "\u001b[34m\u001b[1mval: \u001b[0m/content/drive/MyDrive/PlantDec/images/val/fresh_soy_leaves_white_46020567_jpg.rf.0e82f990f3f09c1a4ec0e8d326d8028e.jpg: ignoring corrupt image/label: Label class 15 exceeds dataset class count 1. Possible class labels are 0-0\n",
            "\u001b[34m\u001b[1mval: \u001b[0m/content/drive/MyDrive/PlantDec/images/val/g14_1680_6_jpg.rf.41bfd250898a047394f805c0c0524b5e.jpg: ignoring corrupt image/label: Label class 9 exceeds dataset class count 1. Possible class labels are 0-0\n",
            "\u001b[34m\u001b[1mval: \u001b[0m/content/drive/MyDrive/PlantDec/images/val/gardening_moisture_lateblight_tomato_leaf_jpg.rf.21000417cd56f6dbc9b06221b7f10f4f.jpg: ignoring corrupt image/label: Label class 23 exceeds dataset class count 1. Possible class labels are 0-0\n",
            "\u001b[34m\u001b[1mval: \u001b[0m/content/drive/MyDrive/PlantDec/images/val/grape_leaves_picture_id108483523_k_6_m_108483523_s_612x612_w_0_h_hBDI_YPeBffgjjZzbHsAaCfARsflsveT1NbcncLft5Y__jpg.rf.1ed462803b77d410ec9237797b21daff.jpg: ignoring corrupt image/label: Label class 28 exceeds dataset class count 1. Possible class labels are 0-0\n",
            "\u001b[34m\u001b[1mval: \u001b[0m/content/drive/MyDrive/PlantDec/images/val/grape_leaves_up_close_jpg.rf.956c447776aed93b1f08b69e0c8e3f8b.jpg: ignoring corrupt image/label: Label class 28 exceeds dataset class count 1. Possible class labels are 0-0\n",
            "\u001b[34m\u001b[1mval: \u001b[0m/content/drive/MyDrive/PlantDec/images/val/green_apple_leaf_cut_white_ripe_background_clipping_path_42422046_jpg.rf.2c463f965aad82b9ba58b29ad9afc0a3.jpg: ignoring corrupt image/label: Label class 1 exceeds dataset class count 1. Possible class labels are 0-0\n",
            "\u001b[34m\u001b[1mval: \u001b[0m/content/drive/MyDrive/PlantDec/images/val/green_apple_leaf_slice_isolated_white_ripe_background_clipping_path_44598638_jpg.rf.0754e0f5b7493fd85eccaa930294a035.jpg: ignoring corrupt image/label: Label class 1 exceeds dataset class count 1. Possible class labels are 0-0\n",
            "\u001b[34m\u001b[1mval: \u001b[0m/content/drive/MyDrive/PlantDec/images/val/green_leaf_apple_tree_14300049_jpg.rf.c845eb7a836fbc45eaed7bd4996d10b1.jpg: ignoring corrupt image/label: Label class 1 exceeds dataset class count 1. Possible class labels are 0-0\n",
            "\u001b[34m\u001b[1mval: \u001b[0m/content/drive/MyDrive/PlantDec/images/val/grey_leaf_spot_jpg.rf.101043259d78aa1a042af16fa49431e7.jpg: ignoring corrupt image/label: Label class 7 exceeds dataset class count 1. Possible class labels are 0-0\n",
            "\u001b[34m\u001b[1mval: \u001b[0m/content/drive/MyDrive/PlantDec/images/val/home_design_jpg.rf.3eebd668035609df940b66b5601ecb84.jpg: ignoring corrupt image/label: Label class 12 exceeds dataset class count 1. Possible class labels are 0-0\n",
            "\u001b[34m\u001b[1mval: \u001b[0m/content/drive/MyDrive/PlantDec/images/val/image022_jpg.rf.6c771e2929e20565044ada8d097ad190.jpg: ignoring corrupt image/label: Label class 24 exceeds dataset class count 1. Possible class labels are 0-0\n",
            "\u001b[34m\u001b[1mval: \u001b[0m/content/drive/MyDrive/PlantDec/images/val/image024_jpg.rf.d21f7388b11015e9f5ff57c476f9f7c6.jpg: ignoring corrupt image/label: Label class 24 exceeds dataset class count 1. Possible class labels are 0-0\n",
            "\u001b[34m\u001b[1mval: \u001b[0m/content/drive/MyDrive/PlantDec/images/val/image_1500x1500_253E_jpeg_1467983528_jpg.rf.1b085d39763bcfe63e4f25ef86065fc0.jpg: ignoring corrupt image/label: Label class 4 exceeds dataset class count 1. Possible class labels are 0-0\n",
            "\u001b[34m\u001b[1mval: \u001b[0m/content/drive/MyDrive/PlantDec/images/val/image_1500x1500_253E_jpeg_1472959493_jpg.rf.ed8360272f0839d67a6318c90c91b5bd.jpg: ignoring corrupt image/label: Label class 3 exceeds dataset class count 1. Possible class labels are 0-0\n",
            "\u001b[34m\u001b[1mval: \u001b[0m/content/drive/MyDrive/PlantDec/images/val/image_1500x1500_253E_jpeg_1473988931_jpg.rf.fd714be1321c76182a87a559d2115b29.jpg: ignoring corrupt image/label: Label class 8 exceeds dataset class count 1. Possible class labels are 0-0\n",
            "\u001b[34m\u001b[1mval: \u001b[0m/content/drive/MyDrive/PlantDec/images/val/image_300x300_2523_jpeg_1472603885_jpg.rf.351481711356f58cab8b938f8fb65a50.jpg: ignoring corrupt image/label: Label class 4 exceeds dataset class count 1. Possible class labels are 0-0\n",
            "\u001b[34m\u001b[1mval: \u001b[0m/content/drive/MyDrive/PlantDec/images/val/image_original_jpeg_1472603886_jpg.rf.2f0c3935057051c57ee522b5f8005c0d.jpg: ignoring corrupt image/label: Label class 4 exceeds dataset class count 1. Possible class labels are 0-0\n",
            "\u001b[34m\u001b[1mval: \u001b[0m/content/drive/MyDrive/PlantDec/images/val/image_original_jpeg_1495058317_jpg.rf.2e35dbd1f0053035e7f1d3daa1681813.jpg: ignoring corrupt image/label: Label class 29 exceeds dataset class count 1. Possible class labels are 0-0\n",
            "\u001b[34m\u001b[1mval: \u001b[0m/content/drive/MyDrive/PlantDec/images/val/img_0853_jpg.rf.e4ba2732c319a0d03a3570f8021497b5.jpg: ignoring corrupt image/label: Label class 17 exceeds dataset class count 1. Possible class labels are 0-0\n",
            "\u001b[34m\u001b[1mval: \u001b[0m/content/drive/MyDrive/PlantDec/images/val/img_4534_jpg.rf.63fa3b5dc377acbe5a94db4d07d37306.jpg: ignoring corrupt image/label: Label class 28 exceeds dataset class count 1. Possible class labels are 0-0\n",
            "\u001b[34m\u001b[1mval: \u001b[0m/content/drive/MyDrive/PlantDec/images/val/img_5593211e4bf88_49361_jpg.rf.d04c8817b3e4d5df17e7fc0917409221.jpg: ignoring corrupt image/label: Label class 8 exceeds dataset class count 1. Possible class labels are 0-0\n",
            "\u001b[34m\u001b[1mval: \u001b[0m/content/drive/MyDrive/PlantDec/images/val/kdeficiency2_jpg.rf.2851c30bd68239c37e726047553bb9b6.jpg: ignoring corrupt image/label: Label class 15 exceeds dataset class count 1. Possible class labels are 0-0\n",
            "\u001b[34m\u001b[1mval: \u001b[0m/content/drive/MyDrive/PlantDec/images/val/late_blight1_jpg.rf.a7d6b94d04d65f22f53da9ea9d586aa4.jpg: ignoring corrupt image/label: Label class 23 exceeds dataset class count 1. Possible class labels are 0-0\n",
            "\u001b[34m\u001b[1mval: \u001b[0m/content/drive/MyDrive/PlantDec/images/val/late_blight_2013_longisland2x1200_jpg.rf.58a03956f870d566573f332c9baa328f.jpg: ignoring corrupt image/label: Label class 23 exceeds dataset class count 1. Possible class labels are 0-0\n",
            "\u001b[34m\u001b[1mval: \u001b[0m/content/drive/MyDrive/PlantDec/images/val/late_blight_drought_leavescuux1200_jpg.rf.af3ac7c17ac9ca40bda0f1072b45aae9.jpg: ignoring corrupt image/label: Label class 23 exceeds dataset class count 1. Possible class labels are 0-0\n",
            "\u001b[34m\u001b[1mval: \u001b[0m/content/drive/MyDrive/PlantDec/images/val/late_blight_leaf_figure1_jpg.rf.09a5f1b3cfe93d2eabffba4b22308327.jpg: ignoring corrupt image/label: Label class 13 exceeds dataset class count 1. Possible class labels are 0-0\n",
            "\u001b[34m\u001b[1mval: \u001b[0m/content/drive/MyDrive/PlantDec/images/val/late_blight_tomato_leaf1x1200_jpg.rf.a66cf14549103b528db1a798c213af09.jpg: ignoring corrupt image/label: Label class 23 exceeds dataset class count 1. Possible class labels are 0-0\n",
            "\u001b[34m\u001b[1mval: \u001b[0m/content/drive/MyDrive/PlantDec/images/val/late_blight_tomato_leaf5x12001_650x305_jpg.rf.f024d783cd5680632501c307511e5afc.jpg: ignoring corrupt image/label: Label class 23 exceeds dataset class count 1. Possible class labels are 0-0\n",
            "\u001b[34m\u001b[1mval: \u001b[0m/content/drive/MyDrive/PlantDec/images/val/lateblight2_JPG_jpg.rf.e6d776eefe99a174c73be669809dba76.jpg: ignoring corrupt image/label: Label class 13 exceeds dataset class count 1. Possible class labels are 0-0\n",
            "\u001b[34m\u001b[1mval: \u001b[0m/content/drive/MyDrive/PlantDec/images/val/lateblightTom_lesion_jpg.rf.43ce1da7b087d697fc6e608b0396997d.jpg: ignoring corrupt image/label: Label class 23 exceeds dataset class count 1. Possible class labels are 0-0\n",
            "\u001b[34m\u001b[1mval: \u001b[0m/content/drive/MyDrive/PlantDec/images/val/lb4_l_jpg.rf.dae33028ddc0a259041950ff50e7dfd8.jpg: ignoring corrupt image/label: Label class 13 exceeds dataset class count 1. Possible class labels are 0-0\n",
            "\u001b[34m\u001b[1mval: \u001b[0m/content/drive/MyDrive/PlantDec/images/val/lb_leaf_lesions4x1200_jpg.rf.ef12f1d2fa01901acf11769242d51260.jpg: ignoring corrupt image/label: Label class 23 exceeds dataset class count 1. Possible class labels are 0-0\n",
            "\u001b[34m\u001b[1mval: \u001b[0m/content/drive/MyDrive/PlantDec/images/val/lbleaf_jpg.rf.33efac7c51c1643a5c7a39965f40e5cc.jpg: ignoring corrupt image/label: Label class 23 exceeds dataset class count 1. Possible class labels are 0-0\n",
            "\u001b[34m\u001b[1mval: \u001b[0m/content/drive/MyDrive/PlantDec/images/val/leaf_mold_tomato4x1200_jpg.rf.11a8cd4f52dd0e68eeaf6d77499809e0.jpg: ignoring corrupt image/label: Label class 26 exceeds dataset class count 1. Possible class labels are 0-0\n",
            "\u001b[34m\u001b[1mval: \u001b[0m/content/drive/MyDrive/PlantDec/images/val/leaves_curling_on_tomato_plant_characteristic_symptoms_tomato_plants_leaves_curling_down_on_tomato_plant_jpg.rf.17eaffee7c3e8e8f95b99b7b60b51e3c.jpg: ignoring corrupt image/label: Label class 25 exceeds dataset class count 1. Possible class labels are 0-0\n",
            "\u001b[34m\u001b[1mval: \u001b[0m/content/drive/MyDrive/PlantDec/images/val/leaves_of_a_raspberry_stock_photo_1206396_jpg.rf.580553b5f55e271bb815aa5c2adb1b59.jpg: ignoring corrupt image/label: Label class 14 exceeds dataset class count 1. Possible class labels are 0-0\n",
            "\u001b[34m\u001b[1mval: \u001b[0m/content/drive/MyDrive/PlantDec/images/val/may27pepleaes001_jpg.rf.fb741c855a311e9401ae6f53e39757f2.jpg: ignoring corrupt image/label: Label class 4 exceeds dataset class count 1. Possible class labels are 0-0\n",
            "\u001b[34m\u001b[1mval: \u001b[0m/content/drive/MyDrive/PlantDec/images/val/mildewonbigleafmapleslowres_JPG_jpg.rf.0f50b63c5f3b0ac94f9124d3d3daa83f.jpg: ignoring corrupt image/label: Label class 17 exceeds dataset class count 1. Possible class labels are 0-0\n",
            "\u001b[34m\u001b[1mval: \u001b[0m/content/drive/MyDrive/PlantDec/images/val/my_plant_has_brown_spots_leaf_spot_and_canker_on_dogwood_jpg.rf.0889fe24df08db3ef087c47634822754.jpg: ignoring corrupt image/label: Label class 22 exceeds dataset class count 1. Possible class labels are 0-0\n",
            "\u001b[34m\u001b[1mval: \u001b[0m/content/drive/MyDrive/PlantDec/images/val/northern_corn_leaf_blight_exserohilum_turcicum_lesions_on_a_maize_BX3K2K_jpg.rf.85dc833e19b121c23a5571a062664fc5.jpg: ignoring corrupt image/label: Label class 8 exceeds dataset class count 1. Possible class labels are 0-0\n",
            "\u001b[34m\u001b[1mval: \u001b[0m/content/drive/MyDrive/PlantDec/images/val/northern_corn_leaf_blight_exserohilum_turcicum_lesions_on_a_maize_leaf_south_africa_xe3a7j_jpg.rf.2b6a6d67a6b70726b3aaa394490ee1ae.jpg: ignoring corrupt image/label: Label class 8 exceeds dataset class count 1. Possible class labels are 0-0\n",
            "\u001b[34m\u001b[1mval: \u001b[0m/content/drive/MyDrive/PlantDec/images/val/northern_corn_leaf_blight_jpg.rf.5aa37c485f4d8fe0fc0be52a95b0520b.jpg: ignoring corrupt image/label: Label class 8 exceeds dataset class count 1. Possible class labels are 0-0\n",
            "\u001b[34m\u001b[1mval: \u001b[0m/content/drive/MyDrive/PlantDec/images/val/peach_leaf_isolated_white_background_43668230_jpg.rf.223ef3ebd2bc19dd8c865fbf6fe166cf.jpg: ignoring corrupt image/label: Label class 10 exceeds dataset class count 1. Possible class labels are 0-0\n",
            "\u001b[34m\u001b[1mval: \u001b[0m/content/drive/MyDrive/PlantDec/images/val/pepperplantwithbacterialspotimg3206_jpg.rf.63618e08351254a3ded20e9dcd7e82de.jpg: ignoring corrupt image/label: Label class 4 exceeds dataset class count 1. Possible class labels are 0-0\n",
            "\u001b[34m\u001b[1mval: \u001b[0m/content/drive/MyDrive/PlantDec/images/val/peppers_bacterial_spot_onpeppertransplant_zoom_jpg.rf.93174c2bf831bee9c02924119aaa0fd5.jpg: ignoring corrupt image/label: Label class 4 exceeds dataset class count 1. Possible class labels are 0-0\n",
            "\u001b[34m\u001b[1mval: \u001b[0m/content/drive/MyDrive/PlantDec/images/val/peppers_bacterial_spot_zoom_jpg.rf.103774233083ff60774a83ba5fe6caf2.jpg: ignoring corrupt image/label: Label class 4 exceeds dataset class count 1. Possible class labels are 0-0\n",
            "\u001b[34m\u001b[1mval: \u001b[0m/content/drive/MyDrive/PlantDec/images/val/photo_764060_JPG_jpg.rf.355f4c0e5988524c7c62fe55de42dcde.jpg: ignoring corrupt image/label: Label class 22 exceeds dataset class count 1. Possible class labels are 0-0\n",
            "\u001b[34m\u001b[1mval: \u001b[0m/content/drive/MyDrive/PlantDec/images/val/photo_9_jpg.rf.2fdb1fc3bb6df895366ac1c1b9e3d7a7.jpg: ignoring corrupt image/label: Label class 23 exceeds dataset class count 1. Possible class labels are 0-0\n",
            "\u001b[34m\u001b[1mval: \u001b[0m/content/drive/MyDrive/PlantDec/images/val/pmild1_600px_jpg.rf.02cf41534eae5ae3e33f781ca5a49ea2.jpg: ignoring corrupt image/label: Label class 17 exceeds dataset class count 1. Possible class labels are 0-0\n",
            "\u001b[34m\u001b[1mval: \u001b[0m/content/drive/MyDrive/PlantDec/images/val/possible_northerncornleafspot_jpg.rf.e111b5f05d5cf3c966c90b5e84ebf216.jpg: ignoring corrupt image/label: Label class 8 exceeds dataset class count 1. Possible class labels are 0-0\n",
            "\u001b[34m\u001b[1mval: \u001b[0m/content/drive/MyDrive/PlantDec/images/val/potato_blight_showing_on_potato_plant_leaves_KJ70DB_jpg.rf.daf7ceca2d850360ead5af6e2ba800c3.jpg: ignoring corrupt image/label: Label class 12 exceeds dataset class count 1. Possible class labels are 0-0\n",
            "\u001b[34m\u001b[1mval: \u001b[0m/content/drive/MyDrive/PlantDec/images/val/potato_early_blight_alternaria_alternata_target_spot_lesion_on_a_potato_leaf_x63fwh_jpg.rf.4bc8edaa7926474ba7a3d757f7aca91c.jpg: ignoring corrupt image/label: Label class 12 exceeds dataset class count 1. Possible class labels are 0-0\n",
            "\u001b[34m\u001b[1mval: \u001b[0m/content/drive/MyDrive/PlantDec/images/val/potato_late_blight_phytophthora_infestans_lesions_on_potato_foliage_X4XJF4_jpg.rf.8744f4b09d33fab5a27eb072f8a3a0bd.jpg: ignoring corrupt image/label: Label class 13 exceeds dataset class count 1. Possible class labels are 0-0\n",
            "\u001b[34m\u001b[1mval: \u001b[0m/content/drive/MyDrive/PlantDec/images/val/potato_late_blight_phytophthora_infestans_necrotic_disease_lesions_B7G2EC_jpg.rf.1c46b6e85247e3677e04ba639dc2b575.jpg: ignoring corrupt image/label: Label class 13 exceeds dataset class count 1. Possible class labels are 0-0\n",
            "\u001b[34m\u001b[1mval: \u001b[0m/content/drive/MyDrive/PlantDec/images/val/potato_late_blight_symptom_on_leaves_PGB5H9_jpg.rf.664c994da77471b75fd37fd0509ed118.jpg: ignoring corrupt image/label: Label class 13 exceeds dataset class count 1. Possible class labels are 0-0\n",
            "\u001b[34m\u001b[1mval: \u001b[0m/content/drive/MyDrive/PlantDec/images/val/powdery_mildew_pea_leaf_jpg.rf.11b24c6e790c402250685e189a63dcf7.jpg: ignoring corrupt image/label: Label class 17 exceeds dataset class count 1. Possible class labels are 0-0\n",
            "\u001b[34m\u001b[1mval: \u001b[0m/content/drive/MyDrive/PlantDec/images/val/powderymildew_669x578_jpg.rf.9fffe7d1391f906b01551735dba8eb44.jpg: ignoring corrupt image/label: Label class 17 exceeds dataset class count 1. Possible class labels are 0-0\n",
            "\u001b[34m\u001b[1mval: \u001b[0m/content/drive/MyDrive/PlantDec/images/val/powderymildew_on_squash_jpg.rf.2164419c446bc31ce83c33faa7c7a137.jpg: ignoring corrupt image/label: Label class 17 exceeds dataset class count 1. Possible class labels are 0-0\n",
            "\u001b[34m\u001b[1mval: \u001b[0m/content/drive/MyDrive/PlantDec/images/val/prunus_pensylvanica_le_ahaines_a_jpg.rf.1347d6fec1dccb140ee719edc5f93d38.jpg: ignoring corrupt image/label: Label class 6 exceeds dataset class count 1. Possible class labels are 0-0\n",
            "\u001b[34m\u001b[1mval: \u001b[0m/content/drive/MyDrive/PlantDec/images/val/raspberry_bush_leaves_on_a_white_background_rubi_idaei_folium_D6NDCJ_jpg.rf.39b0b7d3a479f1a4583fd2dc03970b3c.jpg: ignoring corrupt image/label: Label class 14 exceeds dataset class count 1. Possible class labels are 0-0\n",
            "\u001b[34m\u001b[1mval: \u001b[0m/content/drive/MyDrive/PlantDec/images/val/raspberry_leaf_has_traditionally_been_used_during_the_later_stages_raspberry_leaf_jpg.rf.c91e4087a20bd59bddf1313e7b38cfe0.jpg: ignoring corrupt image/label: Label class 14 exceeds dataset class count 1. Possible class labels are 0-0\n",
            "\u001b[34m\u001b[1mval: \u001b[0m/content/drive/MyDrive/PlantDec/images/val/raspberry_leaf_isolated_white_18415125_jpg.rf.bfbd69a0b74142a194f62305d077411a.jpg: ignoring corrupt image/label: Label class 14 exceeds dataset class count 1. Possible class labels are 0-0\n",
            "\u001b[34m\u001b[1mval: \u001b[0m/content/drive/MyDrive/PlantDec/images/val/raspberry_leaves_JPG_JPG_jpg.rf.34f9936c2f65d29c70a899f9afa22b18.jpg: ignoring corrupt image/label: Label class 14 exceeds dataset class count 1. Possible class labels are 0-0\n",
            "\u001b[34m\u001b[1mval: \u001b[0m/content/drive/MyDrive/PlantDec/images/val/raspberry_leaves_JPG_jpg.rf.69f248c14d1136d4fa663e3d1c20e213.jpg: ignoring corrupt image/label: Label class 14 exceeds dataset class count 1. Possible class labels are 0-0\n",
            "\u001b[34m\u001b[1mval: \u001b[0m/content/drive/MyDrive/PlantDec/images/val/raspberry_leaves_stock_picture_3093023_jpg.rf.d92330450c3d0a411681222f908b53c2.jpg: ignoring corrupt image/label: Label class 14 exceeds dataset class count 1. Possible class labels are 0-0\n",
            "\u001b[34m\u001b[1mval: \u001b[0m/content/drive/MyDrive/PlantDec/images/val/ripe_raspberry_with_green_leaves_and_flowers_Download_Royalty_free_Vector_File_EPS_10297_jpg.rf.f0409528d2d3760c220efa014ab1b7c1.jpg: ignoring corrupt image/label: Label class 14 exceeds dataset class count 1. Possible class labels are 0-0\n",
            "\u001b[34m\u001b[1mval: \u001b[0m/content/drive/MyDrive/PlantDec/images/val/rubus_idaeus_8280814_9_jpg.rf.3913ba92d25775f58218a0faeba7996d.jpg: ignoring corrupt image/label: Label class 14 exceeds dataset class count 1. Possible class labels are 0-0\n",
            "\u001b[34m\u001b[1mval: \u001b[0m/content/drive/MyDrive/PlantDec/images/val/seeding_peppers_a_1024x768_jpg.rf.a1a0aa3a74252f5397247e046a68c576.jpg: ignoring corrupt image/label: Label class 3 exceeds dataset class count 1. Possible class labels are 0-0\n",
            "\u001b[34m\u001b[1mval: \u001b[0m/content/drive/MyDrive/PlantDec/images/val/septoria_leaf_spot_in_tomatoes_jpg.rf.ee518315c66814483e91cf764a5d5cf2.jpg: ignoring corrupt image/label: Label class 20 exceeds dataset class count 1. Possible class labels are 0-0\n",
            "\u001b[34m\u001b[1mval: \u001b[0m/content/drive/MyDrive/PlantDec/images/val/septoria_leaf_spot_of_tomato_1500x750_jpg.rf.ea5dfb49e6f01ff53ce6afd875b2e81f.jpg: ignoring corrupt image/label: Label class 20 exceeds dataset class count 1. Possible class labels are 0-0\n",
            "\u001b[34m\u001b[1mval: \u001b[0m/content/drive/MyDrive/PlantDec/images/val/septoria_lycopersici_ascomycota_common_fungal_leaf_disease_of_tomato_picture_id128110611_jpg.rf.b1d64ffd899766a4d9b32568f0fbd7ce.jpg: ignoring corrupt image/label: Label class 20 exceeds dataset class count 1. Possible class labels are 0-0\n",
            "\u001b[34m\u001b[1mval: \u001b[0m/content/drive/MyDrive/PlantDec/images/val/septoria_on_rudbeckia_jpg.rf.30d83e810c47fd746b2ee6f33a4b268d.jpg: ignoring corrupt image/label: Label class 20 exceeds dataset class count 1. Possible class labels are 0-0\n",
            "\u001b[34m\u001b[1mval: \u001b[0m/content/drive/MyDrive/PlantDec/images/val/septoria_tomato_leaf_jpg.rf.70dc8421ce5ca3f12e65f0b6802d91e4.jpg: ignoring corrupt image/label: Label class 20 exceeds dataset class count 1. Possible class labels are 0-0\n",
            "\u001b[34m\u001b[1mval: \u001b[0m/content/drive/MyDrive/PlantDec/images/val/septorialeafspot2_jpg.rf.b34d06ae07e72c3379435a3b445fc78a.jpg: ignoring corrupt image/label: Label class 20 exceeds dataset class count 1. Possible class labels are 0-0\n",
            "\u001b[34m\u001b[1mval: \u001b[0m/content/drive/MyDrive/PlantDec/images/val/show_picture_asp_id_aaaaaaaaaanoroz_w_524_jpg.rf.8aa3a21d050ef565756351e5c053561d.jpg: ignoring corrupt image/label: Label class 8 exceeds dataset class count 1. Possible class labels are 0-0\n",
            "\u001b[34m\u001b[1mval: \u001b[0m/content/drive/MyDrive/PlantDec/images/val/shutterstock_302160662_jpg.rf.430f52e0b76943e3f4fc0423e07bc18b.jpg: ignoring corrupt image/label: Label class 14 exceeds dataset class count 1. Possible class labels are 0-0\n",
            "\u001b[34m\u001b[1mval: \u001b[0m/content/drive/MyDrive/PlantDec/images/val/single_a_green_leaf_of_tomato_picture_id496662675_k_6_m_496662675_s_612x612_w_0_h_6zKfv022H_9cLQSIR_kpcOAlTeg1eIVtLBbc80PQA7Y__jpg.rf.3b3a5f8455a7cf063d36f7dd03fa1451.jpg: ignoring corrupt image/label: Label class 21 exceeds dataset class count 1. Possible class labels are 0-0\n",
            "\u001b[34m\u001b[1mval: \u001b[0m/content/drive/MyDrive/PlantDec/images/val/southern_rust_als_jpg.rf.89f89ff27860edff91a9583b35bd2be1.jpg: ignoring corrupt image/label: Label class 9 exceeds dataset class count 1. Possible class labels are 0-0\n",
            "\u001b[34m\u001b[1mval: \u001b[0m/content/drive/MyDrive/PlantDec/images/val/squash_powdery_mildew_3_jpg.rf.3a1a5bd4e6deea22c6a5f64364aaad29.jpg: ignoring corrupt image/label: Label class 17 exceeds dataset class count 1. Possible class labels are 0-0\n",
            "\u001b[34m\u001b[1mval: \u001b[0m/content/drive/MyDrive/PlantDec/images/val/squash_powdery_mildew_jpg.rf.3255168042797fcb95d6d085bfac0f24.jpg: ignoring corrupt image/label: Label class 17 exceeds dataset class count 1. Possible class labels are 0-0\n",
            "\u001b[34m\u001b[1mval: \u001b[0m/content/drive/MyDrive/PlantDec/images/val/stock_photo_apple_leaf_set_isolated_on_white_background_300957002_jpg.rf.69d8de007e8f5d29e6e3c9d6df93b8ef.jpg: ignoring corrupt image/label: Label class 1 exceeds dataset class count 1. Possible class labels are 0-0\n",
            "\u001b[34m\u001b[1mval: \u001b[0m/content/drive/MyDrive/PlantDec/images/val/stock_photo_apple_leaves_collection_isolated_on_white_background_373945045_jpg.rf.3111d5210a33e29332b27b9388fbf6c6.jpg: ignoring corrupt image/label: Label class 1 exceeds dataset class count 1. Possible class labels are 0-0\n",
            "\u001b[34m\u001b[1mval: \u001b[0m/content/drive/MyDrive/PlantDec/images/val/stock_photo_apple_leaves_set_isolated_on_white_271652246_jpg.rf.6e51747eccca72a4b288b38c781ccb07.jpg: ignoring corrupt image/label: Label class 1 exceeds dataset class count 1. Possible class labels are 0-0\n",
            "\u001b[34m\u001b[1mval: \u001b[0m/content/drive/MyDrive/PlantDec/images/val/stock_photo_bacterial_spot_on_tomato_559799107_jpg.rf.f93032740e7ab2241de9009a325db20f.jpg: ignoring corrupt image/label: Label class 22 exceeds dataset class count 1. Possible class labels are 0-0\n",
            "\u001b[34m\u001b[1mval: \u001b[0m/content/drive/MyDrive/PlantDec/images/val/stock_photo_fresh_green_strawberry_leaf_isolated_on_white_background_strawberry_leaf_with_clipping_path_630981155_jpg.rf.1bd014386582fcd4a3cc95abd434493e.jpg: ignoring corrupt image/label: Label class 18 exceeds dataset class count 1. Possible class labels are 0-0\n",
            "\u001b[34m\u001b[1mval: \u001b[0m/content/drive/MyDrive/PlantDec/images/val/stock_photo_fresh_ripe_blueberries_with_leaves_on_white_background_125173964_jpg.rf.cf7d55e58c61170c4a9f0a4c4717573b.jpg: ignoring corrupt image/label: Label class 5 exceeds dataset class count 1. Possible class labels are 0-0\n",
            "\u001b[34m\u001b[1mval: \u001b[0m/content/drive/MyDrive/PlantDec/images/val/stock_photo_fresh_soy_leaves_with_dew_isolated_on_white_416036248_jpg.rf.babe33d124162b388097d8d284960289.jpg: ignoring corrupt image/label: Label class 15 exceeds dataset class count 1. Possible class labels are 0-0\n",
            "\u001b[34m\u001b[1mval: \u001b[0m/content/drive/MyDrive/PlantDec/images/val/stock_photo_green_apple_leaf_isolated_on_white_with_clipping_path_195130079_jpg.rf.2639fdeb8405679419a21b4dd1461c51.jpg: ignoring corrupt image/label: Label class 1 exceeds dataset class count 1. Possible class labels are 0-0\n",
            "\u001b[34m\u001b[1mval: \u001b[0m/content/drive/MyDrive/PlantDec/images/val/stock_photo_leaf_strawberry_leaf_on_the_white_background_153348767_jpg.rf.80409951b38476dbcb432ee305c662b3.jpg: ignoring corrupt image/label: Label class 18 exceeds dataset class count 1. Possible class labels are 0-0\n",
            "\u001b[34m\u001b[1mval: \u001b[0m/content/drive/MyDrive/PlantDec/images/val/stock_photo_peach_fresh_peach_with_green_leaf_isolated_on_white_background_548680618_jpg.rf.f18a160b017b4f5037815a7e9b323204.jpg: ignoring corrupt image/label: Label class 10 exceeds dataset class count 1. Possible class labels are 0-0\n",
            "\u001b[34m\u001b[1mval: \u001b[0m/content/drive/MyDrive/PlantDec/images/val/stock_photo_peach_leaf_isolated_on_white_background_198744794_jpg.rf.b055fe221c307a15cd4463cc93b59ee7.jpg: ignoring corrupt image/label: Label class 10 exceeds dataset class count 1. Possible class labels are 0-0\n",
            "\u001b[34m\u001b[1mval: \u001b[0m/content/drive/MyDrive/PlantDec/images/val/stock_photo_peach_leaves_isolated_203326555_jpg.rf.d61ca8f9c8bc782e9ddc246185678604.jpg: ignoring corrupt image/label: Label class 10 exceeds dataset class count 1. Possible class labels are 0-0\n",
            "\u001b[34m\u001b[1mval: \u001b[0m/content/drive/MyDrive/PlantDec/images/val/stock_photo_peach_wet_fruit_with_leaf_isolated_on_white_248733745_jpg.rf.a1b55fb31c9586d1d7560da5211ffc7e.jpg: ignoring corrupt image/label: Label class 10 exceeds dataset class count 1. Possible class labels are 0-0\n",
            "\u001b[34m\u001b[1mval: \u001b[0m/content/drive/MyDrive/PlantDec/images/val/stock_photo_peach_with_leaves_isolated_on_white_246532954_jpg.rf.e11031ddf2ccb7c39ebfe97484557d5a.jpg: ignoring corrupt image/label: Label class 10 exceeds dataset class count 1. Possible class labels are 0-0\n",
            "\u001b[34m\u001b[1mval: \u001b[0m/content/drive/MyDrive/PlantDec/images/val/stock_photo_tomato_plants_infected_by_the_late_blight_plant_pathogen_phytophthora_infestans_macro_539209615_jpg.rf.bd5df2a5c6887d189352af1cd579c4c0.jpg: ignoring corrupt image/label: Label class 23 exceeds dataset class count 1. Possible class labels are 0-0\n",
            "\u001b[34m\u001b[1mval: \u001b[0m/content/drive/MyDrive/PlantDec/images/val/strawberry_005_jpg.rf.b94537bd46d4ea1ed2dc0fbe22048ac8.jpg: ignoring corrupt image/label: Label class 18 exceeds dataset class count 1. Possible class labels are 0-0\n",
            "\u001b[34m\u001b[1mval: \u001b[0m/content/drive/MyDrive/PlantDec/images/val/strawberry_leaf_eila_collage_obsession_jpg.rf.ebb1f58d02e9194d6cb6f97e1cfc8019.jpg: ignoring corrupt image/label: Label class 18 exceeds dataset class count 1. Possible class labels are 0-0\n",
            "\u001b[34m\u001b[1mval: \u001b[0m/content/drive/MyDrive/PlantDec/images/val/strawberry_leaf_stock_image_3662904_jpg.rf.1a529239e1068120254b893fff125832.jpg: ignoring corrupt image/label: Label class 18 exceeds dataset class count 1. Possible class labels are 0-0\n",
            "\u001b[34m\u001b[1mval: \u001b[0m/content/drive/MyDrive/PlantDec/images/val/strawberry_leaf_stock_picture_3646237_jpg.rf.4bac4b32a640a00e761921e5703d6c4f.jpg: ignoring corrupt image/label: Label class 18 exceeds dataset class count 1. Possible class labels are 0-0\n",
            "\u001b[34m\u001b[1mval: \u001b[0m/content/drive/MyDrive/PlantDec/images/val/strawberry_leaves_beautiful_shot_white_background_53944290_jpg.rf.a4fca29e37dfd459e89f0d5834faac4e.jpg: ignoring corrupt image/label: Label class 18 exceeds dataset class count 1. Possible class labels are 0-0\n",
            "\u001b[34m\u001b[1mval: \u001b[0m/content/drive/MyDrive/PlantDec/images/val/strawberry_plant_leaves_strawberry_red_spots_on_strawberry_plant_leaves_jpg.rf.69ad3973881b2d5645489ca27cba9fa4.jpg: ignoring corrupt image/label: Label class 18 exceeds dataset class count 1. Possible class labels are 0-0\n",
            "\u001b[34m\u001b[1mval: \u001b[0m/content/drive/MyDrive/PlantDec/images/val/sweetcorn_Northern_corn_leaf_blight_zoom_jpg.rf.7aade1f06e931769c8ef93b7aecc6cbb.jpg: ignoring corrupt image/label: Label class 8 exceeds dataset class count 1. Possible class labels are 0-0\n",
            "\u001b[34m\u001b[1mval: \u001b[0m/content/drive/MyDrive/PlantDec/images/val/sweetcorn_Rust_3_zoom_jpg.rf.1e2e6d861135078211157a1a1312a9e9.jpg: ignoring corrupt image/label: Label class 9 exceeds dataset class count 1. Possible class labels are 0-0\n",
            "\u001b[34m\u001b[1mval: \u001b[0m/content/drive/MyDrive/PlantDec/images/val/tdisease12_jpg.rf.43191f358b8ca7ce03d55091aab1f8f8.jpg: ignoring corrupt image/label: Label class 26 exceeds dataset class count 1. Possible class labels are 0-0\n",
            "\u001b[34m\u001b[1mval: \u001b[0m/content/drive/MyDrive/PlantDec/images/val/thumb_20130802_112143_jpg.rf.9f03364cb440c522b79684414e3f939d.jpg: ignoring corrupt image/label: Label class 2 exceeds dataset class count 1. Possible class labels are 0-0\n",
            "\u001b[34m\u001b[1mval: \u001b[0m/content/drive/MyDrive/PlantDec/images/val/tomato1A_jpg.rf.948b33da9c49169645caeca383df1a93.jpg: ignoring corrupt image/label: Label class 22 exceeds dataset class count 1. Possible class labels are 0-0\n",
            "\u001b[34m\u001b[1mval: \u001b[0m/content/drive/MyDrive/PlantDec/images/val/tomato_early_blightH_jpg.rf.2cc669aab52a25b1fc98c037263c24c5.jpg: ignoring corrupt image/label: Label class 23 exceeds dataset class count 1. Possible class labels are 0-0\n",
            "\u001b[34m\u001b[1mval: \u001b[0m/content/drive/MyDrive/PlantDec/images/val/tomato_early_blight_03_zoom_jpg.rf.e0fe62da2f0c5fd78c8092406f5ca183.jpg: ignoring corrupt image/label: Label class 19 exceeds dataset class count 1. Possible class labels are 0-0\n",
            "\u001b[34m\u001b[1mval: \u001b[0m/content/drive/MyDrive/PlantDec/images/val/tomato_late_blight_05_zoom_jpg.rf.58abcddc6cb7e77119e2731fc41859b3.jpg: ignoring corrupt image/label: Label class 23 exceeds dataset class count 1. Possible class labels are 0-0\n",
            "\u001b[34m\u001b[1mval: \u001b[0m/content/drive/MyDrive/PlantDec/images/val/tomato_late_blight_phytophthora_infestans_necrosis_sporulation_on_a_tomato_leaf_underside_X5YDDP_jpg.rf.e80c8bef0dd945f79334a4eb33cdfa3a.jpg: ignoring corrupt image/label: Label class 23 exceeds dataset class count 1. Possible class labels are 0-0\n",
            "\u001b[34m\u001b[1mval: \u001b[0m/content/drive/MyDrive/PlantDec/images/val/tomato_leaf_6291945_jpg.rf.6097051ae5d1f42593b56673d170d604.jpg: ignoring corrupt image/label: Label class 21 exceeds dataset class count 1. Possible class labels are 0-0\n",
            "\u001b[34m\u001b[1mval: \u001b[0m/content/drive/MyDrive/PlantDec/images/val/tomato_leaf_herbicide_damage_jpg.rf.1531e4e12287d8fe947dbfde85d55343.jpg: ignoring corrupt image/label: Label class 24 exceeds dataset class count 1. Possible class labels are 0-0\n",
            "\u001b[34m\u001b[1mval: \u001b[0m/content/drive/MyDrive/PlantDec/images/val/tomato_leaf_roll_JPG_jpg.rf.5083f90758f6b5b6e7e7dac68e871222.jpg: ignoring corrupt image/label: Label class 25 exceeds dataset class count 1. Possible class labels are 0-0\n",
            "\u001b[34m\u001b[1mval: \u001b[0m/content/drive/MyDrive/PlantDec/images/val/tomato_leaf_spot_septoria_lycopersici_leaf_spotting_on_tomato_at9jap_jpg.rf.bd13292329d233985594cee7e73280f9.jpg: ignoring corrupt image/label: Label class 20 exceeds dataset class count 1. Possible class labels are 0-0\n",
            "\u001b[34m\u001b[1mval: \u001b[0m/content/drive/MyDrive/PlantDec/images/val/tomato_mosaic_virus_disease_on_260nw_559799638_jpg.rf.b1891140e32df0b34846c9088065e59e.jpg: ignoring corrupt image/label: Label class 24 exceeds dataset class count 1. Possible class labels are 0-0\n",
            "\u001b[34m\u001b[1mval: \u001b[0m/content/drive/MyDrive/PlantDec/images/val/tomato_mosaic_virus_disease_on_260nw_625499777_jpg.rf.9afae8e048753d802b8606f2b5f77011.jpg: ignoring corrupt image/label: Label class 24 exceeds dataset class count 1. Possible class labels are 0-0\n",
            "\u001b[34m\u001b[1mval: \u001b[0m/content/drive/MyDrive/PlantDec/images/val/tomato_plant_diseases_identification_leaf_spot_tomato_disease_tomato_plant_fungus_identification_jpg.rf.be094963f3b44c454ced546aa2a1f7a3.jpg: ignoring corrupt image/label: Label class 22 exceeds dataset class count 1. Possible class labels are 0-0\n",
            "\u001b[34m\u001b[1mval: \u001b[0m/content/drive/MyDrive/PlantDec/images/val/tomato_plant_is_infected_with_septoria_leaf_spot_jpg.rf.def9856b0341f3c388b62cff9fc21c79.jpg: ignoring corrupt image/label: Label class 20 exceeds dataset class count 1. Possible class labels are 0-0\n",
            "\u001b[34m\u001b[1mval: \u001b[0m/content/drive/MyDrive/PlantDec/images/val/tomato_septoria_05_zoom_jpg.rf.fe39ad591165859d1f64cb8da20502a0.jpg: ignoring corrupt image/label: Label class 20 exceeds dataset class count 1. Possible class labels are 0-0\n",
            "\u001b[34m\u001b[1mval: \u001b[0m/content/drive/MyDrive/PlantDec/images/val/tomato_septoria_5_500x384_jpg.rf.27a6db496cb6d49122cc9e74d109f278.jpg: ignoring corrupt image/label: Label class 20 exceeds dataset class count 1. Possible class labels are 0-0\n",
            "\u001b[34m\u001b[1mval: \u001b[0m/content/drive/MyDrive/PlantDec/images/val/tomatoseptorialeafspotjpg_788d20798a3c74e7_jpg.rf.5099945f5c33bdcbb167611d47f789e4.jpg: ignoring corrupt image/label: Label class 20 exceeds dataset class count 1. Possible class labels are 0-0\n",
            "\u001b[34m\u001b[1mval: \u001b[0m/content/drive/MyDrive/PlantDec/images/val/tomatoyellowleafcurlcropped_jpg.rf.75c64338c94d2f173bf9cd3b61f2fe1f.jpg: ignoring corrupt image/label: Label class 25 exceeds dataset class count 1. Possible class labels are 0-0\n",
            "\u001b[34m\u001b[1mval: \u001b[0m/content/drive/MyDrive/PlantDec/images/val/vine_leaves_10824119_jpg.rf.bd81e993e58536948ca92cb3fed728d7.jpg: ignoring corrupt image/label: Label class 28 exceeds dataset class count 1. Possible class labels are 0-0\n",
            "\u001b[34m\u001b[1mval: \u001b[0m/content/drive/MyDrive/PlantDec/images/val/web1_cusoutherncornrust_jpg.rf.2407ca43804179f35bbc0b9ae21b7bf3.jpg: ignoring corrupt image/label: Label class 9 exceeds dataset class count 1. Possible class labels are 0-0\n",
            "\u001b[34m\u001b[1mval: \u001b[0m/content/drive/MyDrive/PlantDec/images/val/yellow_strawberry_leaves_jpg_1080x0_q100_crop_scale_jpg.rf.5352013525c57bdec82dfb5e873c4a93.jpg: ignoring corrupt image/label: Label class 18 exceeds dataset class count 1. Possible class labels are 0-0\n",
            "\u001b[34m\u001b[1mval: \u001b[0m/content/drive/MyDrive/PlantDec/images/val/yoshino_weeping_cherry_tree2_jpg.rf.416d47f13d91363394554c2732ea7972.jpg: ignoring corrupt image/label: Label class 6 exceeds dataset class count 1. Possible class labels are 0-0\n",
            "\u001b[34m\u001b[1mval: \u001b[0m/content/drive/MyDrive/PlantDec/images/val/young_fresh_grape_leaf_picture_id183867740_k_6_m_183867740_s_612x612_w_0_h_Q8_s3Yw7p_VKQjda_mZPl9rN4lDmpVjjbMUk95HtVFk__jpg.rf.927c8a0f585ea593f565988b635e0120.jpg: ignoring corrupt image/label: Label class 28 exceeds dataset class count 1. Possible class labels are 0-0\n"
          ]
        },
        {
          "output_type": "stream",
          "name": "stderr",
          "text": [
            "\n"
          ]
        },
        {
          "output_type": "stream",
          "name": "stdout",
          "text": [
            "Plotting labels to /content/yolov10/ultralytics/ultralytics/runs/detect/plantdec_yolov10c/labels.jpg... \n",
            "\u001b[34m\u001b[1moptimizer:\u001b[0m 'optimizer=auto' found, ignoring 'lr0=0.01' and 'momentum=0.937' and determining best 'optimizer', 'lr0' and 'momentum' automatically... \n",
            "\u001b[34m\u001b[1moptimizer:\u001b[0m AdamW(lr=0.000294, momentum=0.9) with parameter groups 154 weight(decay=0.0), 161 weight(decay=0.0005), 160 bias(decay=0.0)\n",
            "Image sizes 640 train, 640 val\n",
            "Using 2 dataloader workers\n",
            "Logging results to \u001b[1m/content/yolov10/ultralytics/ultralytics/runs/detect/plantdec_yolov10c\u001b[0m\n",
            "Starting training for 10 epochs...\n",
            "Closing dataloader mosaic\n",
            "\u001b[34m\u001b[1malbumentations: \u001b[0mBlur(p=0.01, blur_limit=(3, 7)), MedianBlur(p=0.01, blur_limit=(3, 7)), ToGray(p=0.01, method='weighted_average', num_output_channels=3), CLAHE(p=0.01, clip_limit=(1.0, 4.0), tile_grid_size=(8, 8))\n",
            "\n",
            "      Epoch    GPU_mem   box_loss   cls_loss   dfl_loss  Instances       Size\n"
          ]
        },
        {
          "output_type": "stream",
          "name": "stderr",
          "text": [
            "       1/10      9.43G      3.291       5.02      4.082         26        640: 100%|██████████| 124/124 [01:27<00:00,  1.41it/s]\n",
            "                 Class     Images  Instances      Box(P          R      mAP50  mAP50-95): 100%|██████████| 1/1 [00:01<00:00,  1.32s/it]"
          ]
        },
        {
          "output_type": "stream",
          "name": "stdout",
          "text": [
            "                   all         14         24     0.0162      0.333     0.0381     0.0153\n"
          ]
        },
        {
          "output_type": "stream",
          "name": "stderr",
          "text": [
            "\n"
          ]
        },
        {
          "output_type": "stream",
          "name": "stdout",
          "text": [
            "\n",
            "      Epoch    GPU_mem   box_loss   cls_loss   dfl_loss  Instances       Size\n"
          ]
        },
        {
          "output_type": "stream",
          "name": "stderr",
          "text": [
            "       2/10      9.62G      3.053      4.789      3.651         25        640: 100%|██████████| 124/124 [01:23<00:00,  1.49it/s]\n",
            "                 Class     Images  Instances      Box(P          R      mAP50  mAP50-95): 100%|██████████| 1/1 [00:00<00:00,  3.23it/s]"
          ]
        },
        {
          "output_type": "stream",
          "name": "stdout",
          "text": [
            "                   all         14         24          0          0          0          0\n"
          ]
        },
        {
          "output_type": "stream",
          "name": "stderr",
          "text": [
            "\n"
          ]
        },
        {
          "output_type": "stream",
          "name": "stdout",
          "text": [
            "\n",
            "      Epoch    GPU_mem   box_loss   cls_loss   dfl_loss  Instances       Size\n"
          ]
        },
        {
          "output_type": "stream",
          "name": "stderr",
          "text": [
            "       3/10       9.7G      2.833      4.546      3.264         35        640: 100%|██████████| 124/124 [01:22<00:00,  1.51it/s]\n",
            "                 Class     Images  Instances      Box(P          R      mAP50  mAP50-95): 100%|██████████| 1/1 [00:00<00:00,  2.51it/s]"
          ]
        },
        {
          "output_type": "stream",
          "name": "stdout",
          "text": [
            "                   all         14         24     0.0814      0.292       0.09     0.0414\n"
          ]
        },
        {
          "output_type": "stream",
          "name": "stderr",
          "text": [
            "\n"
          ]
        },
        {
          "output_type": "stream",
          "name": "stdout",
          "text": [
            "\n",
            "      Epoch    GPU_mem   box_loss   cls_loss   dfl_loss  Instances       Size\n"
          ]
        },
        {
          "output_type": "stream",
          "name": "stderr",
          "text": [
            "       4/10      9.71G      2.483      4.326       2.92         43        640: 100%|██████████| 124/124 [01:21<00:00,  1.51it/s]\n",
            "                 Class     Images  Instances      Box(P          R      mAP50  mAP50-95): 100%|██████████| 1/1 [00:00<00:00,  2.57it/s]"
          ]
        },
        {
          "output_type": "stream",
          "name": "stdout",
          "text": [
            "                   all         14         24     0.0476       0.25     0.0833     0.0573\n"
          ]
        },
        {
          "output_type": "stream",
          "name": "stderr",
          "text": [
            "\n"
          ]
        },
        {
          "output_type": "stream",
          "name": "stdout",
          "text": [
            "\n",
            "      Epoch    GPU_mem   box_loss   cls_loss   dfl_loss  Instances       Size\n"
          ]
        },
        {
          "output_type": "stream",
          "name": "stderr",
          "text": [
            "       5/10       9.7G      2.228      4.107      2.657         55        640: 100%|██████████| 124/124 [01:22<00:00,  1.51it/s]\n",
            "                 Class     Images  Instances      Box(P          R      mAP50  mAP50-95): 100%|██████████| 1/1 [00:00<00:00,  3.56it/s]"
          ]
        },
        {
          "output_type": "stream",
          "name": "stdout",
          "text": [
            "                   all         14         24      0.115      0.375      0.205      0.119\n"
          ]
        },
        {
          "output_type": "stream",
          "name": "stderr",
          "text": [
            "\n"
          ]
        },
        {
          "output_type": "stream",
          "name": "stdout",
          "text": [
            "\n",
            "      Epoch    GPU_mem   box_loss   cls_loss   dfl_loss  Instances       Size\n"
          ]
        },
        {
          "output_type": "stream",
          "name": "stderr",
          "text": [
            "       6/10       9.7G      2.082      3.914      2.487         30        640: 100%|██████████| 124/124 [01:22<00:00,  1.51it/s]\n",
            "                 Class     Images  Instances      Box(P          R      mAP50  mAP50-95): 100%|██████████| 1/1 [00:00<00:00,  3.55it/s]"
          ]
        },
        {
          "output_type": "stream",
          "name": "stdout",
          "text": [
            "                   all         14         24     0.0769      0.417      0.223      0.129\n"
          ]
        },
        {
          "output_type": "stream",
          "name": "stderr",
          "text": [
            "\n"
          ]
        },
        {
          "output_type": "stream",
          "name": "stdout",
          "text": [
            "\n",
            "      Epoch    GPU_mem   box_loss   cls_loss   dfl_loss  Instances       Size\n"
          ]
        },
        {
          "output_type": "stream",
          "name": "stderr",
          "text": [
            "       7/10       9.7G      1.983      3.751      2.355         24        640: 100%|██████████| 124/124 [01:22<00:00,  1.51it/s]\n",
            "                 Class     Images  Instances      Box(P          R      mAP50  mAP50-95): 100%|██████████| 1/1 [00:00<00:00,  2.69it/s]"
          ]
        },
        {
          "output_type": "stream",
          "name": "stdout",
          "text": [
            "                   all         14         24      0.122      0.458      0.312      0.181\n"
          ]
        },
        {
          "output_type": "stream",
          "name": "stderr",
          "text": [
            "\n"
          ]
        },
        {
          "output_type": "stream",
          "name": "stdout",
          "text": [
            "\n",
            "      Epoch    GPU_mem   box_loss   cls_loss   dfl_loss  Instances       Size\n"
          ]
        },
        {
          "output_type": "stream",
          "name": "stderr",
          "text": [
            "       8/10       9.7G      1.891      3.627      2.262         30        640: 100%|██████████| 124/124 [01:22<00:00,  1.51it/s]\n",
            "                 Class     Images  Instances      Box(P          R      mAP50  mAP50-95): 100%|██████████| 1/1 [00:00<00:00,  3.52it/s]"
          ]
        },
        {
          "output_type": "stream",
          "name": "stdout",
          "text": [
            "                   all         14         24      0.102      0.583      0.304       0.17\n"
          ]
        },
        {
          "output_type": "stream",
          "name": "stderr",
          "text": [
            "\n"
          ]
        },
        {
          "output_type": "stream",
          "name": "stdout",
          "text": [
            "\n",
            "      Epoch    GPU_mem   box_loss   cls_loss   dfl_loss  Instances       Size\n"
          ]
        },
        {
          "output_type": "stream",
          "name": "stderr",
          "text": [
            "       9/10       9.7G      1.799      3.523      2.197         36        640: 100%|██████████| 124/124 [01:22<00:00,  1.51it/s]\n",
            "                 Class     Images  Instances      Box(P          R      mAP50  mAP50-95): 100%|██████████| 1/1 [00:00<00:00,  3.45it/s]"
          ]
        },
        {
          "output_type": "stream",
          "name": "stdout",
          "text": [
            "                   all         14         24      0.131      0.583      0.374       0.19\n"
          ]
        },
        {
          "output_type": "stream",
          "name": "stderr",
          "text": [
            "\n"
          ]
        },
        {
          "output_type": "stream",
          "name": "stdout",
          "text": [
            "\n",
            "      Epoch    GPU_mem   box_loss   cls_loss   dfl_loss  Instances       Size\n"
          ]
        },
        {
          "output_type": "stream",
          "name": "stderr",
          "text": [
            "      10/10      9.71G      1.786      3.443      2.153         41        640: 100%|██████████| 124/124 [01:22<00:00,  1.50it/s]\n",
            "                 Class     Images  Instances      Box(P          R      mAP50  mAP50-95): 100%|██████████| 1/1 [00:00<00:00,  3.56it/s]"
          ]
        },
        {
          "output_type": "stream",
          "name": "stdout",
          "text": [
            "                   all         14         24      0.161      0.583      0.402      0.228\n"
          ]
        },
        {
          "output_type": "stream",
          "name": "stderr",
          "text": [
            "\n"
          ]
        },
        {
          "output_type": "stream",
          "name": "stdout",
          "text": [
            "\n",
            "10 epochs completed in 0.238 hours.\n",
            "Optimizer stripped from /content/yolov10/ultralytics/ultralytics/runs/detect/plantdec_yolov10c/weights/last.pt, 73.3MB\n",
            "Optimizer stripped from /content/yolov10/ultralytics/ultralytics/runs/detect/plantdec_yolov10c/weights/best.pt, 73.3MB\n",
            "\n",
            "Validating /content/yolov10/ultralytics/ultralytics/runs/detect/plantdec_yolov10c/weights/best.pt...\n",
            "Ultralytics 8.3.133 🚀 Python-3.11.12 torch-2.0.1+cu117 CUDA:0 (Tesla T4, 15095MiB)\n",
            "YOLOv10c summary (fused): 156 layers, 36,180,778 parameters, 0 gradients, 115.8 GFLOPs\n"
          ]
        },
        {
          "output_type": "stream",
          "name": "stderr",
          "text": [
            "                 Class     Images  Instances      Box(P          R      mAP50  mAP50-95): 100%|██████████| 1/1 [00:00<00:00,  3.21it/s]\n"
          ]
        },
        {
          "output_type": "stream",
          "name": "stdout",
          "text": [
            "                   all         14         24      0.163      0.583      0.403      0.228\n",
            "       Apple Scab Leaf         13         24      0.163      0.583      0.403      0.228\n",
            "Speed: 0.2ms preprocess, 15.7ms inference, 0.0ms loss, 1.5ms postprocess per image\n",
            "Results saved to \u001b[1m/content/yolov10/ultralytics/ultralytics/runs/detect/plantdec_yolov10c\u001b[0m\n"
          ]
        },
        {
          "output_type": "execute_result",
          "data": {
            "text/plain": [
              "ultralytics.utils.metrics.DetMetrics object with attributes:\n",
              "\n",
              "ap_class_index: array([0])\n",
              "box: ultralytics.utils.metrics.Metric object\n",
              "confusion_matrix: <ultralytics.utils.metrics.ConfusionMatrix object at 0x7b390dc27a50>\n",
              "curves: ['Precision-Recall(B)', 'F1-Confidence(B)', 'Precision-Confidence(B)', 'Recall-Confidence(B)']\n",
              "curves_results: [[array([          0,    0.001001,    0.002002,    0.003003,    0.004004,    0.005005,    0.006006,    0.007007,    0.008008,    0.009009,     0.01001,    0.011011,    0.012012,    0.013013,    0.014014,    0.015015,    0.016016,    0.017017,    0.018018,    0.019019,     0.02002,    0.021021,    0.022022,    0.023023,\n",
              "          0.024024,    0.025025,    0.026026,    0.027027,    0.028028,    0.029029,     0.03003,    0.031031,    0.032032,    0.033033,    0.034034,    0.035035,    0.036036,    0.037037,    0.038038,    0.039039,     0.04004,    0.041041,    0.042042,    0.043043,    0.044044,    0.045045,    0.046046,    0.047047,\n",
              "          0.048048,    0.049049,     0.05005,    0.051051,    0.052052,    0.053053,    0.054054,    0.055055,    0.056056,    0.057057,    0.058058,    0.059059,     0.06006,    0.061061,    0.062062,    0.063063,    0.064064,    0.065065,    0.066066,    0.067067,    0.068068,    0.069069,     0.07007,    0.071071,\n",
              "          0.072072,    0.073073,    0.074074,    0.075075,    0.076076,    0.077077,    0.078078,    0.079079,     0.08008,    0.081081,    0.082082,    0.083083,    0.084084,    0.085085,    0.086086,    0.087087,    0.088088,    0.089089,     0.09009,    0.091091,    0.092092,    0.093093,    0.094094,    0.095095,\n",
              "          0.096096,    0.097097,    0.098098,    0.099099,      0.1001,      0.1011,      0.1021,      0.1031,      0.1041,     0.10511,     0.10611,     0.10711,     0.10811,     0.10911,     0.11011,     0.11111,     0.11211,     0.11311,     0.11411,     0.11512,     0.11612,     0.11712,     0.11812,     0.11912,\n",
              "           0.12012,     0.12112,     0.12212,     0.12312,     0.12412,     0.12513,     0.12613,     0.12713,     0.12813,     0.12913,     0.13013,     0.13113,     0.13213,     0.13313,     0.13413,     0.13514,     0.13614,     0.13714,     0.13814,     0.13914,     0.14014,     0.14114,     0.14214,     0.14314,\n",
              "           0.14414,     0.14515,     0.14615,     0.14715,     0.14815,     0.14915,     0.15015,     0.15115,     0.15215,     0.15315,     0.15415,     0.15516,     0.15616,     0.15716,     0.15816,     0.15916,     0.16016,     0.16116,     0.16216,     0.16316,     0.16416,     0.16517,     0.16617,     0.16717,\n",
              "           0.16817,     0.16917,     0.17017,     0.17117,     0.17217,     0.17317,     0.17417,     0.17518,     0.17618,     0.17718,     0.17818,     0.17918,     0.18018,     0.18118,     0.18218,     0.18318,     0.18418,     0.18519,     0.18619,     0.18719,     0.18819,     0.18919,     0.19019,     0.19119,\n",
              "           0.19219,     0.19319,     0.19419,      0.1952,      0.1962,      0.1972,      0.1982,      0.1992,      0.2002,      0.2012,      0.2022,      0.2032,      0.2042,     0.20521,     0.20621,     0.20721,     0.20821,     0.20921,     0.21021,     0.21121,     0.21221,     0.21321,     0.21421,     0.21522,\n",
              "           0.21622,     0.21722,     0.21822,     0.21922,     0.22022,     0.22122,     0.22222,     0.22322,     0.22422,     0.22523,     0.22623,     0.22723,     0.22823,     0.22923,     0.23023,     0.23123,     0.23223,     0.23323,     0.23423,     0.23524,     0.23624,     0.23724,     0.23824,     0.23924,\n",
              "           0.24024,     0.24124,     0.24224,     0.24324,     0.24424,     0.24525,     0.24625,     0.24725,     0.24825,     0.24925,     0.25025,     0.25125,     0.25225,     0.25325,     0.25425,     0.25526,     0.25626,     0.25726,     0.25826,     0.25926,     0.26026,     0.26126,     0.26226,     0.26326,\n",
              "           0.26426,     0.26527,     0.26627,     0.26727,     0.26827,     0.26927,     0.27027,     0.27127,     0.27227,     0.27327,     0.27427,     0.27528,     0.27628,     0.27728,     0.27828,     0.27928,     0.28028,     0.28128,     0.28228,     0.28328,     0.28428,     0.28529,     0.28629,     0.28729,\n",
              "           0.28829,     0.28929,     0.29029,     0.29129,     0.29229,     0.29329,     0.29429,      0.2953,      0.2963,      0.2973,      0.2983,      0.2993,      0.3003,      0.3013,      0.3023,      0.3033,      0.3043,     0.30531,     0.30631,     0.30731,     0.30831,     0.30931,     0.31031,     0.31131,\n",
              "           0.31231,     0.31331,     0.31431,     0.31532,     0.31632,     0.31732,     0.31832,     0.31932,     0.32032,     0.32132,     0.32232,     0.32332,     0.32432,     0.32533,     0.32633,     0.32733,     0.32833,     0.32933,     0.33033,     0.33133,     0.33233,     0.33333,     0.33433,     0.33534,\n",
              "           0.33634,     0.33734,     0.33834,     0.33934,     0.34034,     0.34134,     0.34234,     0.34334,     0.34434,     0.34535,     0.34635,     0.34735,     0.34835,     0.34935,     0.35035,     0.35135,     0.35235,     0.35335,     0.35435,     0.35536,     0.35636,     0.35736,     0.35836,     0.35936,\n",
              "           0.36036,     0.36136,     0.36236,     0.36336,     0.36436,     0.36537,     0.36637,     0.36737,     0.36837,     0.36937,     0.37037,     0.37137,     0.37237,     0.37337,     0.37437,     0.37538,     0.37638,     0.37738,     0.37838,     0.37938,     0.38038,     0.38138,     0.38238,     0.38338,\n",
              "           0.38438,     0.38539,     0.38639,     0.38739,     0.38839,     0.38939,     0.39039,     0.39139,     0.39239,     0.39339,     0.39439,      0.3954,      0.3964,      0.3974,      0.3984,      0.3994,      0.4004,      0.4014,      0.4024,      0.4034,      0.4044,     0.40541,     0.40641,     0.40741,\n",
              "           0.40841,     0.40941,     0.41041,     0.41141,     0.41241,     0.41341,     0.41441,     0.41542,     0.41642,     0.41742,     0.41842,     0.41942,     0.42042,     0.42142,     0.42242,     0.42342,     0.42442,     0.42543,     0.42643,     0.42743,     0.42843,     0.42943,     0.43043,     0.43143,\n",
              "           0.43243,     0.43343,     0.43443,     0.43544,     0.43644,     0.43744,     0.43844,     0.43944,     0.44044,     0.44144,     0.44244,     0.44344,     0.44444,     0.44545,     0.44645,     0.44745,     0.44845,     0.44945,     0.45045,     0.45145,     0.45245,     0.45345,     0.45445,     0.45546,\n",
              "           0.45646,     0.45746,     0.45846,     0.45946,     0.46046,     0.46146,     0.46246,     0.46346,     0.46446,     0.46547,     0.46647,     0.46747,     0.46847,     0.46947,     0.47047,     0.47147,     0.47247,     0.47347,     0.47447,     0.47548,     0.47648,     0.47748,     0.47848,     0.47948,\n",
              "           0.48048,     0.48148,     0.48248,     0.48348,     0.48448,     0.48549,     0.48649,     0.48749,     0.48849,     0.48949,     0.49049,     0.49149,     0.49249,     0.49349,     0.49449,      0.4955,      0.4965,      0.4975,      0.4985,      0.4995,      0.5005,      0.5015,      0.5025,      0.5035,\n",
              "            0.5045,     0.50551,     0.50651,     0.50751,     0.50851,     0.50951,     0.51051,     0.51151,     0.51251,     0.51351,     0.51451,     0.51552,     0.51652,     0.51752,     0.51852,     0.51952,     0.52052,     0.52152,     0.52252,     0.52352,     0.52452,     0.52553,     0.52653,     0.52753,\n",
              "           0.52853,     0.52953,     0.53053,     0.53153,     0.53253,     0.53353,     0.53453,     0.53554,     0.53654,     0.53754,     0.53854,     0.53954,     0.54054,     0.54154,     0.54254,     0.54354,     0.54454,     0.54555,     0.54655,     0.54755,     0.54855,     0.54955,     0.55055,     0.55155,\n",
              "           0.55255,     0.55355,     0.55455,     0.55556,     0.55656,     0.55756,     0.55856,     0.55956,     0.56056,     0.56156,     0.56256,     0.56356,     0.56456,     0.56557,     0.56657,     0.56757,     0.56857,     0.56957,     0.57057,     0.57157,     0.57257,     0.57357,     0.57457,     0.57558,\n",
              "           0.57658,     0.57758,     0.57858,     0.57958,     0.58058,     0.58158,     0.58258,     0.58358,     0.58458,     0.58559,     0.58659,     0.58759,     0.58859,     0.58959,     0.59059,     0.59159,     0.59259,     0.59359,     0.59459,      0.5956,      0.5966,      0.5976,      0.5986,      0.5996,\n",
              "            0.6006,      0.6016,      0.6026,      0.6036,      0.6046,     0.60561,     0.60661,     0.60761,     0.60861,     0.60961,     0.61061,     0.61161,     0.61261,     0.61361,     0.61461,     0.61562,     0.61662,     0.61762,     0.61862,     0.61962,     0.62062,     0.62162,     0.62262,     0.62362,\n",
              "           0.62462,     0.62563,     0.62663,     0.62763,     0.62863,     0.62963,     0.63063,     0.63163,     0.63263,     0.63363,     0.63463,     0.63564,     0.63664,     0.63764,     0.63864,     0.63964,     0.64064,     0.64164,     0.64264,     0.64364,     0.64464,     0.64565,     0.64665,     0.64765,\n",
              "           0.64865,     0.64965,     0.65065,     0.65165,     0.65265,     0.65365,     0.65465,     0.65566,     0.65666,     0.65766,     0.65866,     0.65966,     0.66066,     0.66166,     0.66266,     0.66366,     0.66466,     0.66567,     0.66667,     0.66767,     0.66867,     0.66967,     0.67067,     0.67167,\n",
              "           0.67267,     0.67367,     0.67467,     0.67568,     0.67668,     0.67768,     0.67868,     0.67968,     0.68068,     0.68168,     0.68268,     0.68368,     0.68468,     0.68569,     0.68669,     0.68769,     0.68869,     0.68969,     0.69069,     0.69169,     0.69269,     0.69369,     0.69469,      0.6957,\n",
              "            0.6967,      0.6977,      0.6987,      0.6997,      0.7007,      0.7017,      0.7027,      0.7037,      0.7047,     0.70571,     0.70671,     0.70771,     0.70871,     0.70971,     0.71071,     0.71171,     0.71271,     0.71371,     0.71471,     0.71572,     0.71672,     0.71772,     0.71872,     0.71972,\n",
              "           0.72072,     0.72172,     0.72272,     0.72372,     0.72472,     0.72573,     0.72673,     0.72773,     0.72873,     0.72973,     0.73073,     0.73173,     0.73273,     0.73373,     0.73473,     0.73574,     0.73674,     0.73774,     0.73874,     0.73974,     0.74074,     0.74174,     0.74274,     0.74374,\n",
              "           0.74474,     0.74575,     0.74675,     0.74775,     0.74875,     0.74975,     0.75075,     0.75175,     0.75275,     0.75375,     0.75475,     0.75576,     0.75676,     0.75776,     0.75876,     0.75976,     0.76076,     0.76176,     0.76276,     0.76376,     0.76476,     0.76577,     0.76677,     0.76777,\n",
              "           0.76877,     0.76977,     0.77077,     0.77177,     0.77277,     0.77377,     0.77477,     0.77578,     0.77678,     0.77778,     0.77878,     0.77978,     0.78078,     0.78178,     0.78278,     0.78378,     0.78478,     0.78579,     0.78679,     0.78779,     0.78879,     0.78979,     0.79079,     0.79179,\n",
              "           0.79279,     0.79379,     0.79479,      0.7958,      0.7968,      0.7978,      0.7988,      0.7998,      0.8008,      0.8018,      0.8028,      0.8038,      0.8048,     0.80581,     0.80681,     0.80781,     0.80881,     0.80981,     0.81081,     0.81181,     0.81281,     0.81381,     0.81481,     0.81582,\n",
              "           0.81682,     0.81782,     0.81882,     0.81982,     0.82082,     0.82182,     0.82282,     0.82382,     0.82482,     0.82583,     0.82683,     0.82783,     0.82883,     0.82983,     0.83083,     0.83183,     0.83283,     0.83383,     0.83483,     0.83584,     0.83684,     0.83784,     0.83884,     0.83984,\n",
              "           0.84084,     0.84184,     0.84284,     0.84384,     0.84484,     0.84585,     0.84685,     0.84785,     0.84885,     0.84985,     0.85085,     0.85185,     0.85285,     0.85385,     0.85485,     0.85586,     0.85686,     0.85786,     0.85886,     0.85986,     0.86086,     0.86186,     0.86286,     0.86386,\n",
              "           0.86486,     0.86587,     0.86687,     0.86787,     0.86887,     0.86987,     0.87087,     0.87187,     0.87287,     0.87387,     0.87487,     0.87588,     0.87688,     0.87788,     0.87888,     0.87988,     0.88088,     0.88188,     0.88288,     0.88388,     0.88488,     0.88589,     0.88689,     0.88789,\n",
              "           0.88889,     0.88989,     0.89089,     0.89189,     0.89289,     0.89389,     0.89489,      0.8959,      0.8969,      0.8979,      0.8989,      0.8999,      0.9009,      0.9019,      0.9029,      0.9039,      0.9049,     0.90591,     0.90691,     0.90791,     0.90891,     0.90991,     0.91091,     0.91191,\n",
              "           0.91291,     0.91391,     0.91491,     0.91592,     0.91692,     0.91792,     0.91892,     0.91992,     0.92092,     0.92192,     0.92292,     0.92392,     0.92492,     0.92593,     0.92693,     0.92793,     0.92893,     0.92993,     0.93093,     0.93193,     0.93293,     0.93393,     0.93493,     0.93594,\n",
              "           0.93694,     0.93794,     0.93894,     0.93994,     0.94094,     0.94194,     0.94294,     0.94394,     0.94494,     0.94595,     0.94695,     0.94795,     0.94895,     0.94995,     0.95095,     0.95195,     0.95295,     0.95395,     0.95495,     0.95596,     0.95696,     0.95796,     0.95896,     0.95996,\n",
              "           0.96096,     0.96196,     0.96296,     0.96396,     0.96496,     0.96597,     0.96697,     0.96797,     0.96897,     0.96997,     0.97097,     0.97197,     0.97297,     0.97397,     0.97497,     0.97598,     0.97698,     0.97798,     0.97898,     0.97998,     0.98098,     0.98198,     0.98298,     0.98398,\n",
              "           0.98498,     0.98599,     0.98699,     0.98799,     0.98899,     0.98999,     0.99099,     0.99199,     0.99299,     0.99399,     0.99499,       0.996,       0.997,       0.998,       0.999,           1]), array([[          1,           1,           1,           1,           1,           1,           1,           1,           1,           1,           1,           1,           1,           1,           1,           1,           1,           1,           1,           1,           1,           1,           1,\n",
              "                  1,           1,           1,           1,           1,           1,           1,           1,           1,           1,           1,           1,           1,           1,           1,           1,           1,           1,           1,         0.8,         0.8,         0.8,         0.8,\n",
              "                0.8,         0.8,         0.8,         0.8,         0.8,         0.8,         0.8,         0.8,         0.8,         0.8,         0.8,         0.8,         0.8,         0.8,         0.8,         0.8,         0.8,         0.8,         0.8,         0.8,         0.8,         0.8,         0.8,\n",
              "                0.8,         0.8,         0.8,         0.8,         0.8,         0.8,         0.8,         0.8,         0.8,         0.8,         0.8,         0.8,         0.8,         0.8,         0.8,         0.8,         0.8,         0.8,         0.8,         0.8,         0.8,         0.8,         0.8,\n",
              "                0.8,         0.8,         0.8,         0.8,         0.8,         0.8,         0.8,         0.8,         0.8,         0.8,         0.8,         0.8,         0.8,         0.8,         0.8,         0.8,         0.8,         0.8,         0.8,         0.8,         0.8,         0.8,         0.8,\n",
              "                0.8,         0.8,         0.8,         0.8,         0.8,         0.8,         0.8,         0.8,         0.8,         0.8,         0.8,         0.8,         0.8,         0.8,         0.8,         0.8,         0.8,         0.8,         0.8,         0.8,         0.8,         0.8,         0.8,\n",
              "                0.8,         0.8,         0.8,         0.8,         0.8,         0.8,         0.8,         0.8,         0.8,         0.8,         0.8,         0.8,         0.8,         0.8,         0.8,         0.8,         0.8,         0.8,         0.8,         0.8,         0.8,         0.8,         0.8,\n",
              "                0.8,         0.8,         0.8,         0.8,         0.8,         0.8,        0.75,        0.75,        0.75,        0.75,        0.75,        0.75,        0.75,        0.75,        0.75,        0.75,        0.75,        0.75,        0.75,        0.75,        0.75,        0.75,        0.75,\n",
              "               0.75,        0.75,        0.75,        0.75,        0.75,        0.75,        0.75,        0.75,        0.75,        0.75,        0.75,        0.75,        0.75,        0.75,        0.75,        0.75,        0.75,        0.75,        0.75,        0.75,        0.75,        0.75,        0.75,\n",
              "               0.75,        0.75,        0.75,        0.75,        0.75,        0.75,        0.75,        0.75,        0.75,        0.75,        0.75,        0.75,        0.75,        0.75,        0.75,        0.75,        0.75,        0.75,        0.75,        0.75,        0.75,        0.75,        0.75,\n",
              "               0.75,        0.75,        0.75,        0.75,        0.75,        0.75,        0.75,        0.75,        0.75,        0.75,        0.75,        0.75,        0.75,        0.75,        0.75,        0.75,        0.75,        0.75,        0.75,        0.75,     0.72727,     0.72727,     0.72727,\n",
              "            0.72727,     0.72727,     0.72727,     0.72727,     0.72727,     0.72727,     0.72727,     0.72727,     0.72727,     0.72727,     0.72727,     0.72727,     0.72727,     0.72727,     0.72727,     0.72727,     0.72727,     0.72727,     0.72727,     0.72727,     0.72727,     0.72727,     0.72727,\n",
              "            0.72727,     0.72727,     0.72727,     0.72727,     0.72727,     0.72727,     0.72727,     0.72727,     0.72727,     0.72727,     0.72727,     0.72727,     0.72727,     0.72727,     0.72727,     0.72727,     0.72727,     0.72727,     0.72727,     0.72727,     0.72727,     0.72727,     0.72727,\n",
              "            0.72727,     0.72727,     0.72727,     0.72727,     0.72727,     0.72727,     0.72727,     0.72727,     0.72727,     0.72727,     0.72727,     0.72727,     0.72727,     0.72727,     0.72727,     0.72727,     0.72727,     0.72727,     0.72727,     0.72727,     0.72727,     0.72727,     0.72727,\n",
              "            0.72727,     0.72727,     0.72727,     0.72727,     0.72727,     0.72727,     0.72727,     0.72727,     0.72727,     0.72727,     0.72727,     0.69231,     0.69231,     0.69231,     0.69231,     0.69231,     0.69231,     0.69231,     0.69231,     0.69231,     0.69231,     0.69231,     0.69231,\n",
              "            0.69231,     0.69231,     0.69231,     0.69231,     0.69231,     0.69231,     0.69231,     0.69231,     0.69231,     0.69231,     0.69231,     0.69231,     0.69231,     0.69231,     0.69231,     0.69231,     0.69231,     0.69231,     0.69231,     0.69231,     0.69231,     0.69231,     0.69231,\n",
              "            0.69231,     0.69231,     0.69231,     0.69231,     0.69231,     0.69231,     0.69231,     0.55556,     0.55556,     0.55556,     0.55556,     0.55556,     0.55556,     0.55556,     0.55556,     0.55556,     0.55556,     0.55556,     0.55556,     0.55556,     0.55556,     0.55556,     0.55556,\n",
              "            0.55556,     0.55556,     0.55556,     0.55556,     0.55556,     0.55556,     0.55556,     0.55556,     0.55556,     0.55556,     0.55556,     0.55556,     0.55556,     0.55556,     0.55556,     0.55556,     0.55556,     0.55556,     0.55556,     0.55556,     0.55556,     0.55556,     0.55556,\n",
              "            0.55556,     0.55556,     0.55556,     0.36667,     0.36667,     0.36667,     0.36667,     0.36667,     0.36667,     0.36667,     0.36667,     0.36667,     0.36667,     0.36667,     0.36667,     0.36667,     0.36667,     0.36667,     0.36667,     0.36667,     0.36667,     0.36667,     0.36667,\n",
              "            0.36667,     0.36667,     0.36667,     0.36667,     0.36667,     0.36667,     0.36667,     0.36667,     0.36667,     0.36667,     0.36667,     0.36667,     0.36667,     0.36667,     0.36667,     0.36667,     0.36667,     0.36667,     0.36667,     0.36667,     0.36667,         0.3,         0.3,\n",
              "                0.3,         0.3,         0.3,         0.3,         0.3,         0.3,         0.3,         0.3,         0.3,         0.3,         0.3,         0.3,         0.3,         0.3,         0.3,         0.3,         0.3,         0.3,         0.3,         0.3,         0.3,         0.3,         0.3,\n",
              "                0.3,         0.3,         0.3,         0.3,         0.3,         0.3,         0.3,         0.3,         0.3,         0.3,         0.3,         0.3,         0.3,         0.3,         0.3,         0.3,         0.3,     0.29545,     0.29545,     0.29545,     0.29545,     0.29545,     0.29545,\n",
              "            0.29545,     0.29545,     0.29545,     0.29545,     0.29545,     0.29545,     0.29545,     0.29545,     0.29545,     0.29545,     0.29545,     0.29545,     0.29545,     0.29545,     0.29545,     0.29545,     0.29545,     0.29545,     0.29545,     0.29545,     0.29545,     0.29545,     0.29545,\n",
              "            0.29545,     0.29545,     0.29545,     0.29545,     0.29545,     0.29545,     0.29545,     0.29545,     0.29545,     0.29545,     0.29545,     0.29545,     0.29545,     0.29167,     0.29167,     0.29167,     0.29167,     0.29167,     0.29167,     0.29167,     0.29167,     0.29167,     0.29167,\n",
              "            0.29167,     0.29167,     0.29167,     0.29167,     0.29167,     0.29167,     0.29167,     0.29167,     0.29167,     0.29167,     0.29167,     0.29167,     0.29167,     0.29167,     0.29167,     0.29167,     0.29167,     0.29167,     0.29167,     0.29167,     0.29167,     0.29167,     0.29167,\n",
              "            0.29167,     0.29167,     0.29167,     0.29167,     0.29167,     0.29167,     0.29167,     0.29167,     0.16269,      0.1623,     0.16191,     0.16152,     0.16113,     0.16074,     0.16035,     0.15996,     0.15956,     0.15917,     0.15878,     0.15839,       0.158,     0.15761,     0.15722,\n",
              "            0.15683,     0.15644,     0.15604,     0.15565,     0.15526,     0.15487,     0.15448,     0.15409,      0.1537,     0.15331,     0.15292,     0.15252,     0.15213,     0.15174,     0.15135,     0.15096,     0.15057,     0.15018,     0.14979,      0.1494,       0.149,     0.14861,     0.14822,\n",
              "            0.14783,     0.14744,     0.14705,     0.14666,     0.14627,     0.14588,     0.14549,     0.14509,      0.1447,     0.14431,     0.14392,     0.14353,     0.14314,     0.14275,     0.14236,     0.14197,     0.14157,     0.14118,     0.14079,      0.1404,     0.14001,     0.13962,     0.13923,\n",
              "            0.13884,     0.13845,     0.13805,     0.13766,     0.13727,     0.13688,     0.13649,      0.1361,     0.13571,     0.13532,     0.13493,     0.13453,     0.13414,     0.13375,     0.13336,     0.13297,     0.13258,     0.13219,      0.1318,     0.13141,     0.13101,     0.13062,     0.13023,\n",
              "            0.12984,     0.12945,     0.12906,     0.12867,     0.12828,     0.12789,     0.12749,      0.1271,     0.12671,     0.12632,     0.12593,     0.12554,     0.12515,     0.12476,     0.12437,     0.12398,     0.12358,     0.12319,      0.1228,     0.12241,     0.12202,     0.12163,     0.12124,\n",
              "            0.12085,     0.12046,     0.12006,     0.11967,     0.11928,     0.11889,      0.1185,     0.11811,     0.11772,     0.11733,     0.11694,     0.11654,     0.11615,     0.11576,     0.11537,     0.11498,     0.11459,      0.1142,     0.11381,     0.11342,     0.11302,     0.11263,     0.11224,\n",
              "            0.11185,     0.11146,     0.11107,     0.11068,     0.11029,      0.1099,      0.1095,     0.10911,     0.10872,     0.10833,     0.10794,     0.10755,     0.10716,     0.10677,     0.10638,     0.10599,     0.10559,      0.1052,     0.10481,     0.10442,     0.10403,     0.10364,     0.10325,\n",
              "            0.10286,     0.10247,     0.10207,     0.10168,     0.10129,      0.1009,     0.10051,     0.10012,    0.099728,    0.099337,    0.098945,    0.098554,    0.098163,    0.097772,    0.097381,     0.09699,    0.096599,    0.096208,    0.095817,    0.095426,    0.095035,    0.094643,    0.094252,\n",
              "           0.093861,     0.09347,    0.093079,    0.092688,    0.092297,    0.091906,    0.091515,    0.091124,    0.090733,    0.090342,     0.08995,    0.089559,    0.089168,    0.088777,    0.088386,    0.087995,    0.087604,    0.087213,    0.086822,    0.086431,     0.08604,    0.085648,    0.085257,\n",
              "           0.084866,    0.084475,    0.084084,    0.083693,    0.083302,    0.082911,     0.08252,    0.082129,    0.081738,    0.081346,    0.080955,    0.080564,    0.080173,    0.079782,    0.079391,       0.079,    0.078609,    0.078218,    0.077827,    0.077436,    0.077044,    0.076653,    0.076262,\n",
              "           0.075871,     0.07548,    0.075089,    0.074698,    0.074307,    0.073916,    0.073525,    0.073134,    0.072743,    0.072351,     0.07196,    0.071569,    0.071178,    0.070787,    0.070396,    0.070005,    0.069614,    0.069223,    0.068832,    0.068441,    0.068049,    0.067658,    0.067267,\n",
              "           0.066876,    0.066485,    0.066094,    0.065703,    0.065312,    0.064921,     0.06453,    0.064139,    0.063747,    0.063356,    0.062965,    0.062574,    0.062183,    0.061792,    0.061401,     0.06101,    0.060619,    0.060228,    0.059837,    0.059445,    0.059054,    0.058663,    0.058272,\n",
              "           0.057881,     0.05749,    0.057099,    0.056708,    0.056317,    0.055926,    0.055535,    0.055144,    0.054752,    0.054361,     0.05397,    0.053579,    0.053188,    0.052797,    0.052406,    0.052015,    0.051624,    0.051233,    0.050842,     0.05045,    0.050059,    0.049668,    0.049277,\n",
              "           0.048886,    0.048495,    0.048104,    0.047713,    0.047322,    0.046931,     0.04654,    0.046148,    0.045757,    0.045366,    0.044975,    0.044584,    0.044193,    0.043802,    0.043411,     0.04302,    0.042629,    0.042238,    0.041846,    0.041455,    0.041064,    0.040673,    0.040282,\n",
              "           0.039891,      0.0395,    0.039109,    0.038718,    0.038327,    0.037936,    0.037545,    0.037153,    0.036762,    0.036371,     0.03598,    0.035589,    0.035198,    0.034807,    0.034416,    0.034025,    0.033634,    0.033243,    0.032851,     0.03246,    0.032069,    0.031678,    0.031287,\n",
              "           0.030896,    0.030505,    0.030114,    0.029723,    0.029332,    0.028941,    0.028549,    0.028158,    0.027767,    0.027376,    0.026985,    0.026594,    0.026203,    0.025812,    0.025421,     0.02503,    0.024639,    0.024248,    0.023856,    0.023465,    0.023074,    0.022683,    0.022292,\n",
              "           0.021901,     0.02151,    0.021119,    0.020728,    0.020337,    0.019946,    0.019554,    0.019163,    0.018772,    0.018381,     0.01799,    0.017599,    0.017208,    0.016817,    0.016426,    0.016035,    0.015644,    0.015252,    0.014861,     0.01447,    0.014079,    0.013688,    0.013297,\n",
              "           0.012906,    0.012515,    0.012124,    0.011733,    0.011342,     0.01095,    0.010559,    0.010168,   0.0097772,   0.0093861,    0.008995,    0.008604,   0.0082129,   0.0078218,   0.0074307,   0.0070396,   0.0066485,   0.0062574,   0.0058663,   0.0054752,   0.0050842,   0.0046931,    0.004302,\n",
              "          0.0039109,   0.0035198,   0.0031287,   0.0027376,   0.0023465,   0.0019554,   0.0015644,   0.0011733,  0.00078218,  0.00039109,           0]]), 'Recall', 'Precision'], [array([          0,    0.001001,    0.002002,    0.003003,    0.004004,    0.005005,    0.006006,    0.007007,    0.008008,    0.009009,     0.01001,    0.011011,    0.012012,    0.013013,    0.014014,    0.015015,    0.016016,    0.017017,    0.018018,    0.019019,     0.02002,    0.021021,    0.022022,    0.023023,\n",
              "          0.024024,    0.025025,    0.026026,    0.027027,    0.028028,    0.029029,     0.03003,    0.031031,    0.032032,    0.033033,    0.034034,    0.035035,    0.036036,    0.037037,    0.038038,    0.039039,     0.04004,    0.041041,    0.042042,    0.043043,    0.044044,    0.045045,    0.046046,    0.047047,\n",
              "          0.048048,    0.049049,     0.05005,    0.051051,    0.052052,    0.053053,    0.054054,    0.055055,    0.056056,    0.057057,    0.058058,    0.059059,     0.06006,    0.061061,    0.062062,    0.063063,    0.064064,    0.065065,    0.066066,    0.067067,    0.068068,    0.069069,     0.07007,    0.071071,\n",
              "          0.072072,    0.073073,    0.074074,    0.075075,    0.076076,    0.077077,    0.078078,    0.079079,     0.08008,    0.081081,    0.082082,    0.083083,    0.084084,    0.085085,    0.086086,    0.087087,    0.088088,    0.089089,     0.09009,    0.091091,    0.092092,    0.093093,    0.094094,    0.095095,\n",
              "          0.096096,    0.097097,    0.098098,    0.099099,      0.1001,      0.1011,      0.1021,      0.1031,      0.1041,     0.10511,     0.10611,     0.10711,     0.10811,     0.10911,     0.11011,     0.11111,     0.11211,     0.11311,     0.11411,     0.11512,     0.11612,     0.11712,     0.11812,     0.11912,\n",
              "           0.12012,     0.12112,     0.12212,     0.12312,     0.12412,     0.12513,     0.12613,     0.12713,     0.12813,     0.12913,     0.13013,     0.13113,     0.13213,     0.13313,     0.13413,     0.13514,     0.13614,     0.13714,     0.13814,     0.13914,     0.14014,     0.14114,     0.14214,     0.14314,\n",
              "           0.14414,     0.14515,     0.14615,     0.14715,     0.14815,     0.14915,     0.15015,     0.15115,     0.15215,     0.15315,     0.15415,     0.15516,     0.15616,     0.15716,     0.15816,     0.15916,     0.16016,     0.16116,     0.16216,     0.16316,     0.16416,     0.16517,     0.16617,     0.16717,\n",
              "           0.16817,     0.16917,     0.17017,     0.17117,     0.17217,     0.17317,     0.17417,     0.17518,     0.17618,     0.17718,     0.17818,     0.17918,     0.18018,     0.18118,     0.18218,     0.18318,     0.18418,     0.18519,     0.18619,     0.18719,     0.18819,     0.18919,     0.19019,     0.19119,\n",
              "           0.19219,     0.19319,     0.19419,      0.1952,      0.1962,      0.1972,      0.1982,      0.1992,      0.2002,      0.2012,      0.2022,      0.2032,      0.2042,     0.20521,     0.20621,     0.20721,     0.20821,     0.20921,     0.21021,     0.21121,     0.21221,     0.21321,     0.21421,     0.21522,\n",
              "           0.21622,     0.21722,     0.21822,     0.21922,     0.22022,     0.22122,     0.22222,     0.22322,     0.22422,     0.22523,     0.22623,     0.22723,     0.22823,     0.22923,     0.23023,     0.23123,     0.23223,     0.23323,     0.23423,     0.23524,     0.23624,     0.23724,     0.23824,     0.23924,\n",
              "           0.24024,     0.24124,     0.24224,     0.24324,     0.24424,     0.24525,     0.24625,     0.24725,     0.24825,     0.24925,     0.25025,     0.25125,     0.25225,     0.25325,     0.25425,     0.25526,     0.25626,     0.25726,     0.25826,     0.25926,     0.26026,     0.26126,     0.26226,     0.26326,\n",
              "           0.26426,     0.26527,     0.26627,     0.26727,     0.26827,     0.26927,     0.27027,     0.27127,     0.27227,     0.27327,     0.27427,     0.27528,     0.27628,     0.27728,     0.27828,     0.27928,     0.28028,     0.28128,     0.28228,     0.28328,     0.28428,     0.28529,     0.28629,     0.28729,\n",
              "           0.28829,     0.28929,     0.29029,     0.29129,     0.29229,     0.29329,     0.29429,      0.2953,      0.2963,      0.2973,      0.2983,      0.2993,      0.3003,      0.3013,      0.3023,      0.3033,      0.3043,     0.30531,     0.30631,     0.30731,     0.30831,     0.30931,     0.31031,     0.31131,\n",
              "           0.31231,     0.31331,     0.31431,     0.31532,     0.31632,     0.31732,     0.31832,     0.31932,     0.32032,     0.32132,     0.32232,     0.32332,     0.32432,     0.32533,     0.32633,     0.32733,     0.32833,     0.32933,     0.33033,     0.33133,     0.33233,     0.33333,     0.33433,     0.33534,\n",
              "           0.33634,     0.33734,     0.33834,     0.33934,     0.34034,     0.34134,     0.34234,     0.34334,     0.34434,     0.34535,     0.34635,     0.34735,     0.34835,     0.34935,     0.35035,     0.35135,     0.35235,     0.35335,     0.35435,     0.35536,     0.35636,     0.35736,     0.35836,     0.35936,\n",
              "           0.36036,     0.36136,     0.36236,     0.36336,     0.36436,     0.36537,     0.36637,     0.36737,     0.36837,     0.36937,     0.37037,     0.37137,     0.37237,     0.37337,     0.37437,     0.37538,     0.37638,     0.37738,     0.37838,     0.37938,     0.38038,     0.38138,     0.38238,     0.38338,\n",
              "           0.38438,     0.38539,     0.38639,     0.38739,     0.38839,     0.38939,     0.39039,     0.39139,     0.39239,     0.39339,     0.39439,      0.3954,      0.3964,      0.3974,      0.3984,      0.3994,      0.4004,      0.4014,      0.4024,      0.4034,      0.4044,     0.40541,     0.40641,     0.40741,\n",
              "           0.40841,     0.40941,     0.41041,     0.41141,     0.41241,     0.41341,     0.41441,     0.41542,     0.41642,     0.41742,     0.41842,     0.41942,     0.42042,     0.42142,     0.42242,     0.42342,     0.42442,     0.42543,     0.42643,     0.42743,     0.42843,     0.42943,     0.43043,     0.43143,\n",
              "           0.43243,     0.43343,     0.43443,     0.43544,     0.43644,     0.43744,     0.43844,     0.43944,     0.44044,     0.44144,     0.44244,     0.44344,     0.44444,     0.44545,     0.44645,     0.44745,     0.44845,     0.44945,     0.45045,     0.45145,     0.45245,     0.45345,     0.45445,     0.45546,\n",
              "           0.45646,     0.45746,     0.45846,     0.45946,     0.46046,     0.46146,     0.46246,     0.46346,     0.46446,     0.46547,     0.46647,     0.46747,     0.46847,     0.46947,     0.47047,     0.47147,     0.47247,     0.47347,     0.47447,     0.47548,     0.47648,     0.47748,     0.47848,     0.47948,\n",
              "           0.48048,     0.48148,     0.48248,     0.48348,     0.48448,     0.48549,     0.48649,     0.48749,     0.48849,     0.48949,     0.49049,     0.49149,     0.49249,     0.49349,     0.49449,      0.4955,      0.4965,      0.4975,      0.4985,      0.4995,      0.5005,      0.5015,      0.5025,      0.5035,\n",
              "            0.5045,     0.50551,     0.50651,     0.50751,     0.50851,     0.50951,     0.51051,     0.51151,     0.51251,     0.51351,     0.51451,     0.51552,     0.51652,     0.51752,     0.51852,     0.51952,     0.52052,     0.52152,     0.52252,     0.52352,     0.52452,     0.52553,     0.52653,     0.52753,\n",
              "           0.52853,     0.52953,     0.53053,     0.53153,     0.53253,     0.53353,     0.53453,     0.53554,     0.53654,     0.53754,     0.53854,     0.53954,     0.54054,     0.54154,     0.54254,     0.54354,     0.54454,     0.54555,     0.54655,     0.54755,     0.54855,     0.54955,     0.55055,     0.55155,\n",
              "           0.55255,     0.55355,     0.55455,     0.55556,     0.55656,     0.55756,     0.55856,     0.55956,     0.56056,     0.56156,     0.56256,     0.56356,     0.56456,     0.56557,     0.56657,     0.56757,     0.56857,     0.56957,     0.57057,     0.57157,     0.57257,     0.57357,     0.57457,     0.57558,\n",
              "           0.57658,     0.57758,     0.57858,     0.57958,     0.58058,     0.58158,     0.58258,     0.58358,     0.58458,     0.58559,     0.58659,     0.58759,     0.58859,     0.58959,     0.59059,     0.59159,     0.59259,     0.59359,     0.59459,      0.5956,      0.5966,      0.5976,      0.5986,      0.5996,\n",
              "            0.6006,      0.6016,      0.6026,      0.6036,      0.6046,     0.60561,     0.60661,     0.60761,     0.60861,     0.60961,     0.61061,     0.61161,     0.61261,     0.61361,     0.61461,     0.61562,     0.61662,     0.61762,     0.61862,     0.61962,     0.62062,     0.62162,     0.62262,     0.62362,\n",
              "           0.62462,     0.62563,     0.62663,     0.62763,     0.62863,     0.62963,     0.63063,     0.63163,     0.63263,     0.63363,     0.63463,     0.63564,     0.63664,     0.63764,     0.63864,     0.63964,     0.64064,     0.64164,     0.64264,     0.64364,     0.64464,     0.64565,     0.64665,     0.64765,\n",
              "           0.64865,     0.64965,     0.65065,     0.65165,     0.65265,     0.65365,     0.65465,     0.65566,     0.65666,     0.65766,     0.65866,     0.65966,     0.66066,     0.66166,     0.66266,     0.66366,     0.66466,     0.66567,     0.66667,     0.66767,     0.66867,     0.66967,     0.67067,     0.67167,\n",
              "           0.67267,     0.67367,     0.67467,     0.67568,     0.67668,     0.67768,     0.67868,     0.67968,     0.68068,     0.68168,     0.68268,     0.68368,     0.68468,     0.68569,     0.68669,     0.68769,     0.68869,     0.68969,     0.69069,     0.69169,     0.69269,     0.69369,     0.69469,      0.6957,\n",
              "            0.6967,      0.6977,      0.6987,      0.6997,      0.7007,      0.7017,      0.7027,      0.7037,      0.7047,     0.70571,     0.70671,     0.70771,     0.70871,     0.70971,     0.71071,     0.71171,     0.71271,     0.71371,     0.71471,     0.71572,     0.71672,     0.71772,     0.71872,     0.71972,\n",
              "           0.72072,     0.72172,     0.72272,     0.72372,     0.72472,     0.72573,     0.72673,     0.72773,     0.72873,     0.72973,     0.73073,     0.73173,     0.73273,     0.73373,     0.73473,     0.73574,     0.73674,     0.73774,     0.73874,     0.73974,     0.74074,     0.74174,     0.74274,     0.74374,\n",
              "           0.74474,     0.74575,     0.74675,     0.74775,     0.74875,     0.74975,     0.75075,     0.75175,     0.75275,     0.75375,     0.75475,     0.75576,     0.75676,     0.75776,     0.75876,     0.75976,     0.76076,     0.76176,     0.76276,     0.76376,     0.76476,     0.76577,     0.76677,     0.76777,\n",
              "           0.76877,     0.76977,     0.77077,     0.77177,     0.77277,     0.77377,     0.77477,     0.77578,     0.77678,     0.77778,     0.77878,     0.77978,     0.78078,     0.78178,     0.78278,     0.78378,     0.78478,     0.78579,     0.78679,     0.78779,     0.78879,     0.78979,     0.79079,     0.79179,\n",
              "           0.79279,     0.79379,     0.79479,      0.7958,      0.7968,      0.7978,      0.7988,      0.7998,      0.8008,      0.8018,      0.8028,      0.8038,      0.8048,     0.80581,     0.80681,     0.80781,     0.80881,     0.80981,     0.81081,     0.81181,     0.81281,     0.81381,     0.81481,     0.81582,\n",
              "           0.81682,     0.81782,     0.81882,     0.81982,     0.82082,     0.82182,     0.82282,     0.82382,     0.82482,     0.82583,     0.82683,     0.82783,     0.82883,     0.82983,     0.83083,     0.83183,     0.83283,     0.83383,     0.83483,     0.83584,     0.83684,     0.83784,     0.83884,     0.83984,\n",
              "           0.84084,     0.84184,     0.84284,     0.84384,     0.84484,     0.84585,     0.84685,     0.84785,     0.84885,     0.84985,     0.85085,     0.85185,     0.85285,     0.85385,     0.85485,     0.85586,     0.85686,     0.85786,     0.85886,     0.85986,     0.86086,     0.86186,     0.86286,     0.86386,\n",
              "           0.86486,     0.86587,     0.86687,     0.86787,     0.86887,     0.86987,     0.87087,     0.87187,     0.87287,     0.87387,     0.87487,     0.87588,     0.87688,     0.87788,     0.87888,     0.87988,     0.88088,     0.88188,     0.88288,     0.88388,     0.88488,     0.88589,     0.88689,     0.88789,\n",
              "           0.88889,     0.88989,     0.89089,     0.89189,     0.89289,     0.89389,     0.89489,      0.8959,      0.8969,      0.8979,      0.8989,      0.8999,      0.9009,      0.9019,      0.9029,      0.9039,      0.9049,     0.90591,     0.90691,     0.90791,     0.90891,     0.90991,     0.91091,     0.91191,\n",
              "           0.91291,     0.91391,     0.91491,     0.91592,     0.91692,     0.91792,     0.91892,     0.91992,     0.92092,     0.92192,     0.92292,     0.92392,     0.92492,     0.92593,     0.92693,     0.92793,     0.92893,     0.92993,     0.93093,     0.93193,     0.93293,     0.93393,     0.93493,     0.93594,\n",
              "           0.93694,     0.93794,     0.93894,     0.93994,     0.94094,     0.94194,     0.94294,     0.94394,     0.94494,     0.94595,     0.94695,     0.94795,     0.94895,     0.94995,     0.95095,     0.95195,     0.95295,     0.95395,     0.95495,     0.95596,     0.95696,     0.95796,     0.95896,     0.95996,\n",
              "           0.96096,     0.96196,     0.96296,     0.96396,     0.96496,     0.96597,     0.96697,     0.96797,     0.96897,     0.96997,     0.97097,     0.97197,     0.97297,     0.97397,     0.97497,     0.97598,     0.97698,     0.97798,     0.97898,     0.97998,     0.98098,     0.98198,     0.98298,     0.98398,\n",
              "           0.98498,     0.98599,     0.98699,     0.98799,     0.98899,     0.98999,     0.99099,     0.99199,     0.99299,     0.99399,     0.99499,       0.996,       0.997,       0.998,       0.999,           1]), array([[    0.25455,     0.25455,     0.30923,     0.37656,     0.35746,     0.40381,     0.39881,     0.43927,     0.46978,      0.4663,     0.45254,      0.4401,     0.47713,     0.46289,     0.45497,     0.43671,     0.41191,     0.30728,     0.27559,     0.26883,     0.27161,     0.27415,     0.18714,\n",
              "            0.13461,     0.11372,    0.092584,    0.077152,    0.077876,    0.078448,    0.078912,    0.079295,    0.079618,    0.079892,           0,           0,           0,           0,           0,           0,           0,           0,           0,           0,           0,           0,           0,\n",
              "                  0,           0,           0,           0,           0,           0,           0,           0,           0,           0,           0,           0,           0,           0,           0,           0,           0,           0,           0,           0,           0,           0,           0,\n",
              "                  0,           0,           0,           0,           0,           0,           0,           0,           0,           0,           0,           0,           0,           0,           0,           0,           0,           0,           0,           0,           0,           0,           0,\n",
              "                  0,           0,           0,           0,           0,           0,           0,           0,           0,           0,           0,           0,           0,           0,           0,           0,           0,           0,           0,           0,           0,           0,           0,\n",
              "                  0,           0,           0,           0,           0,           0,           0,           0,           0,           0,           0,           0,           0,           0,           0,           0,           0,           0,           0,           0,           0,           0,           0,\n",
              "                  0,           0,           0,           0,           0,           0,           0,           0,           0,           0,           0,           0,           0,           0,           0,           0,           0,           0,           0,           0,           0,           0,           0,\n",
              "                  0,           0,           0,           0,           0,           0,           0,           0,           0,           0,           0,           0,           0,           0,           0,           0,           0,           0,           0,           0,           0,           0,           0,\n",
              "                  0,           0,           0,           0,           0,           0,           0,           0,           0,           0,           0,           0,           0,           0,           0,           0,           0,           0,           0,           0,           0,           0,           0,\n",
              "                  0,           0,           0,           0,           0,           0,           0,           0,           0,           0,           0,           0,           0,           0,           0,           0,           0,           0,           0,           0,           0,           0,           0,\n",
              "                  0,           0,           0,           0,           0,           0,           0,           0,           0,           0,           0,           0,           0,           0,           0,           0,           0,           0,           0,           0,           0,           0,           0,\n",
              "                  0,           0,           0,           0,           0,           0,           0,           0,           0,           0,           0,           0,           0,           0,           0,           0,           0,           0,           0,           0,           0,           0,           0,\n",
              "                  0,           0,           0,           0,           0,           0,           0,           0,           0,           0,           0,           0,           0,           0,           0,           0,           0,           0,           0,           0,           0,           0,           0,\n",
              "                  0,           0,           0,           0,           0,           0,           0,           0,           0,           0,           0,           0,           0,           0,           0,           0,           0,           0,           0,           0,           0,           0,           0,\n",
              "                  0,           0,           0,           0,           0,           0,           0,           0,           0,           0,           0,           0,           0,           0,           0,           0,           0,           0,           0,           0,           0,           0,           0,\n",
              "                  0,           0,           0,           0,           0,           0,           0,           0,           0,           0,           0,           0,           0,           0,           0,           0,           0,           0,           0,           0,           0,           0,           0,\n",
              "                  0,           0,           0,           0,           0,           0,           0,           0,           0,           0,           0,           0,           0,           0,           0,           0,           0,           0,           0,           0,           0,           0,           0,\n",
              "                  0,           0,           0,           0,           0,           0,           0,           0,           0,           0,           0,           0,           0,           0,           0,           0,           0,           0,           0,           0,           0,           0,           0,\n",
              "                  0,           0,           0,           0,           0,           0,           0,           0,           0,           0,           0,           0,           0,           0,           0,           0,           0,           0,           0,           0,           0,           0,           0,\n",
              "                  0,           0,           0,           0,           0,           0,           0,           0,           0,           0,           0,           0,           0,           0,           0,           0,           0,           0,           0,           0,           0,           0,           0,\n",
              "                  0,           0,           0,           0,           0,           0,           0,           0,           0,           0,           0,           0,           0,           0,           0,           0,           0,           0,           0,           0,           0,           0,           0,\n",
              "                  0,           0,           0,           0,           0,           0,           0,           0,           0,           0,           0,           0,           0,           0,           0,           0,           0,           0,           0,           0,           0,           0,           0,\n",
              "                  0,           0,           0,           0,           0,           0,           0,           0,           0,           0,           0,           0,           0,           0,           0,           0,           0,           0,           0,           0,           0,           0,           0,\n",
              "                  0,           0,           0,           0,           0,           0,           0,           0,           0,           0,           0,           0,           0,           0,           0,           0,           0,           0,           0,           0,           0,           0,           0,\n",
              "                  0,           0,           0,           0,           0,           0,           0,           0,           0,           0,           0,           0,           0,           0,           0,           0,           0,           0,           0,           0,           0,           0,           0,\n",
              "                  0,           0,           0,           0,           0,           0,           0,           0,           0,           0,           0,           0,           0,           0,           0,           0,           0,           0,           0,           0,           0,           0,           0,\n",
              "                  0,           0,           0,           0,           0,           0,           0,           0,           0,           0,           0,           0,           0,           0,           0,           0,           0,           0,           0,           0,           0,           0,           0,\n",
              "                  0,           0,           0,           0,           0,           0,           0,           0,           0,           0,           0,           0,           0,           0,           0,           0,           0,           0,           0,           0,           0,           0,           0,\n",
              "                  0,           0,           0,           0,           0,           0,           0,           0,           0,           0,           0,           0,           0,           0,           0,           0,           0,           0,           0,           0,           0,           0,           0,\n",
              "                  0,           0,           0,           0,           0,           0,           0,           0,           0,           0,           0,           0,           0,           0,           0,           0,           0,           0,           0,           0,           0,           0,           0,\n",
              "                  0,           0,           0,           0,           0,           0,           0,           0,           0,           0,           0,           0,           0,           0,           0,           0,           0,           0,           0,           0,           0,           0,           0,\n",
              "                  0,           0,           0,           0,           0,           0,           0,           0,           0,           0,           0,           0,           0,           0,           0,           0,           0,           0,           0,           0,           0,           0,           0,\n",
              "                  0,           0,           0,           0,           0,           0,           0,           0,           0,           0,           0,           0,           0,           0,           0,           0,           0,           0,           0,           0,           0,           0,           0,\n",
              "                  0,           0,           0,           0,           0,           0,           0,           0,           0,           0,           0,           0,           0,           0,           0,           0,           0,           0,           0,           0,           0,           0,           0,\n",
              "                  0,           0,           0,           0,           0,           0,           0,           0,           0,           0,           0,           0,           0,           0,           0,           0,           0,           0,           0,           0,           0,           0,           0,\n",
              "                  0,           0,           0,           0,           0,           0,           0,           0,           0,           0,           0,           0,           0,           0,           0,           0,           0,           0,           0,           0,           0,           0,           0,\n",
              "                  0,           0,           0,           0,           0,           0,           0,           0,           0,           0,           0,           0,           0,           0,           0,           0,           0,           0,           0,           0,           0,           0,           0,\n",
              "                  0,           0,           0,           0,           0,           0,           0,           0,           0,           0,           0,           0,           0,           0,           0,           0,           0,           0,           0,           0,           0,           0,           0,\n",
              "                  0,           0,           0,           0,           0,           0,           0,           0,           0,           0,           0,           0,           0,           0,           0,           0,           0,           0,           0,           0,           0,           0,           0,\n",
              "                  0,           0,           0,           0,           0,           0,           0,           0,           0,           0,           0,           0,           0,           0,           0,           0,           0,           0,           0,           0,           0,           0,           0,\n",
              "                  0,           0,           0,           0,           0,           0,           0,           0,           0,           0,           0,           0,           0,           0,           0,           0,           0,           0,           0,           0,           0,           0,           0,\n",
              "                  0,           0,           0,           0,           0,           0,           0,           0,           0,           0,           0,           0,           0,           0,           0,           0,           0,           0,           0,           0,           0,           0,           0,\n",
              "                  0,           0,           0,           0,           0,           0,           0,           0,           0,           0,           0,           0,           0,           0,           0,           0,           0,           0,           0,           0,           0,           0,           0,\n",
              "                  0,           0,           0,           0,           0,           0,           0,           0,           0,           0,           0]]), 'Confidence', 'F1'], [array([          0,    0.001001,    0.002002,    0.003003,    0.004004,    0.005005,    0.006006,    0.007007,    0.008008,    0.009009,     0.01001,    0.011011,    0.012012,    0.013013,    0.014014,    0.015015,    0.016016,    0.017017,    0.018018,    0.019019,     0.02002,    0.021021,    0.022022,    0.023023,\n",
              "          0.024024,    0.025025,    0.026026,    0.027027,    0.028028,    0.029029,     0.03003,    0.031031,    0.032032,    0.033033,    0.034034,    0.035035,    0.036036,    0.037037,    0.038038,    0.039039,     0.04004,    0.041041,    0.042042,    0.043043,    0.044044,    0.045045,    0.046046,    0.047047,\n",
              "          0.048048,    0.049049,     0.05005,    0.051051,    0.052052,    0.053053,    0.054054,    0.055055,    0.056056,    0.057057,    0.058058,    0.059059,     0.06006,    0.061061,    0.062062,    0.063063,    0.064064,    0.065065,    0.066066,    0.067067,    0.068068,    0.069069,     0.07007,    0.071071,\n",
              "          0.072072,    0.073073,    0.074074,    0.075075,    0.076076,    0.077077,    0.078078,    0.079079,     0.08008,    0.081081,    0.082082,    0.083083,    0.084084,    0.085085,    0.086086,    0.087087,    0.088088,    0.089089,     0.09009,    0.091091,    0.092092,    0.093093,    0.094094,    0.095095,\n",
              "          0.096096,    0.097097,    0.098098,    0.099099,      0.1001,      0.1011,      0.1021,      0.1031,      0.1041,     0.10511,     0.10611,     0.10711,     0.10811,     0.10911,     0.11011,     0.11111,     0.11211,     0.11311,     0.11411,     0.11512,     0.11612,     0.11712,     0.11812,     0.11912,\n",
              "           0.12012,     0.12112,     0.12212,     0.12312,     0.12412,     0.12513,     0.12613,     0.12713,     0.12813,     0.12913,     0.13013,     0.13113,     0.13213,     0.13313,     0.13413,     0.13514,     0.13614,     0.13714,     0.13814,     0.13914,     0.14014,     0.14114,     0.14214,     0.14314,\n",
              "           0.14414,     0.14515,     0.14615,     0.14715,     0.14815,     0.14915,     0.15015,     0.15115,     0.15215,     0.15315,     0.15415,     0.15516,     0.15616,     0.15716,     0.15816,     0.15916,     0.16016,     0.16116,     0.16216,     0.16316,     0.16416,     0.16517,     0.16617,     0.16717,\n",
              "           0.16817,     0.16917,     0.17017,     0.17117,     0.17217,     0.17317,     0.17417,     0.17518,     0.17618,     0.17718,     0.17818,     0.17918,     0.18018,     0.18118,     0.18218,     0.18318,     0.18418,     0.18519,     0.18619,     0.18719,     0.18819,     0.18919,     0.19019,     0.19119,\n",
              "           0.19219,     0.19319,     0.19419,      0.1952,      0.1962,      0.1972,      0.1982,      0.1992,      0.2002,      0.2012,      0.2022,      0.2032,      0.2042,     0.20521,     0.20621,     0.20721,     0.20821,     0.20921,     0.21021,     0.21121,     0.21221,     0.21321,     0.21421,     0.21522,\n",
              "           0.21622,     0.21722,     0.21822,     0.21922,     0.22022,     0.22122,     0.22222,     0.22322,     0.22422,     0.22523,     0.22623,     0.22723,     0.22823,     0.22923,     0.23023,     0.23123,     0.23223,     0.23323,     0.23423,     0.23524,     0.23624,     0.23724,     0.23824,     0.23924,\n",
              "           0.24024,     0.24124,     0.24224,     0.24324,     0.24424,     0.24525,     0.24625,     0.24725,     0.24825,     0.24925,     0.25025,     0.25125,     0.25225,     0.25325,     0.25425,     0.25526,     0.25626,     0.25726,     0.25826,     0.25926,     0.26026,     0.26126,     0.26226,     0.26326,\n",
              "           0.26426,     0.26527,     0.26627,     0.26727,     0.26827,     0.26927,     0.27027,     0.27127,     0.27227,     0.27327,     0.27427,     0.27528,     0.27628,     0.27728,     0.27828,     0.27928,     0.28028,     0.28128,     0.28228,     0.28328,     0.28428,     0.28529,     0.28629,     0.28729,\n",
              "           0.28829,     0.28929,     0.29029,     0.29129,     0.29229,     0.29329,     0.29429,      0.2953,      0.2963,      0.2973,      0.2983,      0.2993,      0.3003,      0.3013,      0.3023,      0.3033,      0.3043,     0.30531,     0.30631,     0.30731,     0.30831,     0.30931,     0.31031,     0.31131,\n",
              "           0.31231,     0.31331,     0.31431,     0.31532,     0.31632,     0.31732,     0.31832,     0.31932,     0.32032,     0.32132,     0.32232,     0.32332,     0.32432,     0.32533,     0.32633,     0.32733,     0.32833,     0.32933,     0.33033,     0.33133,     0.33233,     0.33333,     0.33433,     0.33534,\n",
              "           0.33634,     0.33734,     0.33834,     0.33934,     0.34034,     0.34134,     0.34234,     0.34334,     0.34434,     0.34535,     0.34635,     0.34735,     0.34835,     0.34935,     0.35035,     0.35135,     0.35235,     0.35335,     0.35435,     0.35536,     0.35636,     0.35736,     0.35836,     0.35936,\n",
              "           0.36036,     0.36136,     0.36236,     0.36336,     0.36436,     0.36537,     0.36637,     0.36737,     0.36837,     0.36937,     0.37037,     0.37137,     0.37237,     0.37337,     0.37437,     0.37538,     0.37638,     0.37738,     0.37838,     0.37938,     0.38038,     0.38138,     0.38238,     0.38338,\n",
              "           0.38438,     0.38539,     0.38639,     0.38739,     0.38839,     0.38939,     0.39039,     0.39139,     0.39239,     0.39339,     0.39439,      0.3954,      0.3964,      0.3974,      0.3984,      0.3994,      0.4004,      0.4014,      0.4024,      0.4034,      0.4044,     0.40541,     0.40641,     0.40741,\n",
              "           0.40841,     0.40941,     0.41041,     0.41141,     0.41241,     0.41341,     0.41441,     0.41542,     0.41642,     0.41742,     0.41842,     0.41942,     0.42042,     0.42142,     0.42242,     0.42342,     0.42442,     0.42543,     0.42643,     0.42743,     0.42843,     0.42943,     0.43043,     0.43143,\n",
              "           0.43243,     0.43343,     0.43443,     0.43544,     0.43644,     0.43744,     0.43844,     0.43944,     0.44044,     0.44144,     0.44244,     0.44344,     0.44444,     0.44545,     0.44645,     0.44745,     0.44845,     0.44945,     0.45045,     0.45145,     0.45245,     0.45345,     0.45445,     0.45546,\n",
              "           0.45646,     0.45746,     0.45846,     0.45946,     0.46046,     0.46146,     0.46246,     0.46346,     0.46446,     0.46547,     0.46647,     0.46747,     0.46847,     0.46947,     0.47047,     0.47147,     0.47247,     0.47347,     0.47447,     0.47548,     0.47648,     0.47748,     0.47848,     0.47948,\n",
              "           0.48048,     0.48148,     0.48248,     0.48348,     0.48448,     0.48549,     0.48649,     0.48749,     0.48849,     0.48949,     0.49049,     0.49149,     0.49249,     0.49349,     0.49449,      0.4955,      0.4965,      0.4975,      0.4985,      0.4995,      0.5005,      0.5015,      0.5025,      0.5035,\n",
              "            0.5045,     0.50551,     0.50651,     0.50751,     0.50851,     0.50951,     0.51051,     0.51151,     0.51251,     0.51351,     0.51451,     0.51552,     0.51652,     0.51752,     0.51852,     0.51952,     0.52052,     0.52152,     0.52252,     0.52352,     0.52452,     0.52553,     0.52653,     0.52753,\n",
              "           0.52853,     0.52953,     0.53053,     0.53153,     0.53253,     0.53353,     0.53453,     0.53554,     0.53654,     0.53754,     0.53854,     0.53954,     0.54054,     0.54154,     0.54254,     0.54354,     0.54454,     0.54555,     0.54655,     0.54755,     0.54855,     0.54955,     0.55055,     0.55155,\n",
              "           0.55255,     0.55355,     0.55455,     0.55556,     0.55656,     0.55756,     0.55856,     0.55956,     0.56056,     0.56156,     0.56256,     0.56356,     0.56456,     0.56557,     0.56657,     0.56757,     0.56857,     0.56957,     0.57057,     0.57157,     0.57257,     0.57357,     0.57457,     0.57558,\n",
              "           0.57658,     0.57758,     0.57858,     0.57958,     0.58058,     0.58158,     0.58258,     0.58358,     0.58458,     0.58559,     0.58659,     0.58759,     0.58859,     0.58959,     0.59059,     0.59159,     0.59259,     0.59359,     0.59459,      0.5956,      0.5966,      0.5976,      0.5986,      0.5996,\n",
              "            0.6006,      0.6016,      0.6026,      0.6036,      0.6046,     0.60561,     0.60661,     0.60761,     0.60861,     0.60961,     0.61061,     0.61161,     0.61261,     0.61361,     0.61461,     0.61562,     0.61662,     0.61762,     0.61862,     0.61962,     0.62062,     0.62162,     0.62262,     0.62362,\n",
              "           0.62462,     0.62563,     0.62663,     0.62763,     0.62863,     0.62963,     0.63063,     0.63163,     0.63263,     0.63363,     0.63463,     0.63564,     0.63664,     0.63764,     0.63864,     0.63964,     0.64064,     0.64164,     0.64264,     0.64364,     0.64464,     0.64565,     0.64665,     0.64765,\n",
              "           0.64865,     0.64965,     0.65065,     0.65165,     0.65265,     0.65365,     0.65465,     0.65566,     0.65666,     0.65766,     0.65866,     0.65966,     0.66066,     0.66166,     0.66266,     0.66366,     0.66466,     0.66567,     0.66667,     0.66767,     0.66867,     0.66967,     0.67067,     0.67167,\n",
              "           0.67267,     0.67367,     0.67467,     0.67568,     0.67668,     0.67768,     0.67868,     0.67968,     0.68068,     0.68168,     0.68268,     0.68368,     0.68468,     0.68569,     0.68669,     0.68769,     0.68869,     0.68969,     0.69069,     0.69169,     0.69269,     0.69369,     0.69469,      0.6957,\n",
              "            0.6967,      0.6977,      0.6987,      0.6997,      0.7007,      0.7017,      0.7027,      0.7037,      0.7047,     0.70571,     0.70671,     0.70771,     0.70871,     0.70971,     0.71071,     0.71171,     0.71271,     0.71371,     0.71471,     0.71572,     0.71672,     0.71772,     0.71872,     0.71972,\n",
              "           0.72072,     0.72172,     0.72272,     0.72372,     0.72472,     0.72573,     0.72673,     0.72773,     0.72873,     0.72973,     0.73073,     0.73173,     0.73273,     0.73373,     0.73473,     0.73574,     0.73674,     0.73774,     0.73874,     0.73974,     0.74074,     0.74174,     0.74274,     0.74374,\n",
              "           0.74474,     0.74575,     0.74675,     0.74775,     0.74875,     0.74975,     0.75075,     0.75175,     0.75275,     0.75375,     0.75475,     0.75576,     0.75676,     0.75776,     0.75876,     0.75976,     0.76076,     0.76176,     0.76276,     0.76376,     0.76476,     0.76577,     0.76677,     0.76777,\n",
              "           0.76877,     0.76977,     0.77077,     0.77177,     0.77277,     0.77377,     0.77477,     0.77578,     0.77678,     0.77778,     0.77878,     0.77978,     0.78078,     0.78178,     0.78278,     0.78378,     0.78478,     0.78579,     0.78679,     0.78779,     0.78879,     0.78979,     0.79079,     0.79179,\n",
              "           0.79279,     0.79379,     0.79479,      0.7958,      0.7968,      0.7978,      0.7988,      0.7998,      0.8008,      0.8018,      0.8028,      0.8038,      0.8048,     0.80581,     0.80681,     0.80781,     0.80881,     0.80981,     0.81081,     0.81181,     0.81281,     0.81381,     0.81481,     0.81582,\n",
              "           0.81682,     0.81782,     0.81882,     0.81982,     0.82082,     0.82182,     0.82282,     0.82382,     0.82482,     0.82583,     0.82683,     0.82783,     0.82883,     0.82983,     0.83083,     0.83183,     0.83283,     0.83383,     0.83483,     0.83584,     0.83684,     0.83784,     0.83884,     0.83984,\n",
              "           0.84084,     0.84184,     0.84284,     0.84384,     0.84484,     0.84585,     0.84685,     0.84785,     0.84885,     0.84985,     0.85085,     0.85185,     0.85285,     0.85385,     0.85485,     0.85586,     0.85686,     0.85786,     0.85886,     0.85986,     0.86086,     0.86186,     0.86286,     0.86386,\n",
              "           0.86486,     0.86587,     0.86687,     0.86787,     0.86887,     0.86987,     0.87087,     0.87187,     0.87287,     0.87387,     0.87487,     0.87588,     0.87688,     0.87788,     0.87888,     0.87988,     0.88088,     0.88188,     0.88288,     0.88388,     0.88488,     0.88589,     0.88689,     0.88789,\n",
              "           0.88889,     0.88989,     0.89089,     0.89189,     0.89289,     0.89389,     0.89489,      0.8959,      0.8969,      0.8979,      0.8989,      0.8999,      0.9009,      0.9019,      0.9029,      0.9039,      0.9049,     0.90591,     0.90691,     0.90791,     0.90891,     0.90991,     0.91091,     0.91191,\n",
              "           0.91291,     0.91391,     0.91491,     0.91592,     0.91692,     0.91792,     0.91892,     0.91992,     0.92092,     0.92192,     0.92292,     0.92392,     0.92492,     0.92593,     0.92693,     0.92793,     0.92893,     0.92993,     0.93093,     0.93193,     0.93293,     0.93393,     0.93493,     0.93594,\n",
              "           0.93694,     0.93794,     0.93894,     0.93994,     0.94094,     0.94194,     0.94294,     0.94394,     0.94494,     0.94595,     0.94695,     0.94795,     0.94895,     0.94995,     0.95095,     0.95195,     0.95295,     0.95395,     0.95495,     0.95596,     0.95696,     0.95796,     0.95896,     0.95996,\n",
              "           0.96096,     0.96196,     0.96296,     0.96396,     0.96496,     0.96597,     0.96697,     0.96797,     0.96897,     0.96997,     0.97097,     0.97197,     0.97297,     0.97397,     0.97497,     0.97598,     0.97698,     0.97798,     0.97898,     0.97998,     0.98098,     0.98198,     0.98298,     0.98398,\n",
              "           0.98498,     0.98599,     0.98699,     0.98799,     0.98899,     0.98999,     0.99099,     0.99199,     0.99299,     0.99399,     0.99499,       0.996,       0.997,       0.998,       0.999,           1]), array([[    0.16279,     0.16279,     0.21038,     0.28859,     0.29298,     0.36088,     0.38242,     0.46447,      0.5384,     0.54855,     0.53886,     0.53256,     0.65572,     0.67782,     0.71641,     0.71487,     0.70008,     0.70106,     0.67413,     0.69465,     0.73335,     0.77206,     0.71531,\n",
              "            0.63451,     0.58526,     0.53601,     0.52005,     0.59459,     0.66914,     0.74369,     0.81824,     0.89278,     0.96733,           1,           1,           1,           1,           1,           1,           1,           1,           1,           1,           1,           1,           1,\n",
              "                  1,           1,           1,           1,           1,           1,           1,           1,           1,           1,           1,           1,           1,           1,           1,           1,           1,           1,           1,           1,           1,           1,           1,\n",
              "                  1,           1,           1,           1,           1,           1,           1,           1,           1,           1,           1,           1,           1,           1,           1,           1,           1,           1,           1,           1,           1,           1,           1,\n",
              "                  1,           1,           1,           1,           1,           1,           1,           1,           1,           1,           1,           1,           1,           1,           1,           1,           1,           1,           1,           1,           1,           1,           1,\n",
              "                  1,           1,           1,           1,           1,           1,           1,           1,           1,           1,           1,           1,           1,           1,           1,           1,           1,           1,           1,           1,           1,           1,           1,\n",
              "                  1,           1,           1,           1,           1,           1,           1,           1,           1,           1,           1,           1,           1,           1,           1,           1,           1,           1,           1,           1,           1,           1,           1,\n",
              "                  1,           1,           1,           1,           1,           1,           1,           1,           1,           1,           1,           1,           1,           1,           1,           1,           1,           1,           1,           1,           1,           1,           1,\n",
              "                  1,           1,           1,           1,           1,           1,           1,           1,           1,           1,           1,           1,           1,           1,           1,           1,           1,           1,           1,           1,           1,           1,           1,\n",
              "                  1,           1,           1,           1,           1,           1,           1,           1,           1,           1,           1,           1,           1,           1,           1,           1,           1,           1,           1,           1,           1,           1,           1,\n",
              "                  1,           1,           1,           1,           1,           1,           1,           1,           1,           1,           1,           1,           1,           1,           1,           1,           1,           1,           1,           1,           1,           1,           1,\n",
              "                  1,           1,           1,           1,           1,           1,           1,           1,           1,           1,           1,           1,           1,           1,           1,           1,           1,           1,           1,           1,           1,           1,           1,\n",
              "                  1,           1,           1,           1,           1,           1,           1,           1,           1,           1,           1,           1,           1,           1,           1,           1,           1,           1,           1,           1,           1,           1,           1,\n",
              "                  1,           1,           1,           1,           1,           1,           1,           1,           1,           1,           1,           1,           1,           1,           1,           1,           1,           1,           1,           1,           1,           1,           1,\n",
              "                  1,           1,           1,           1,           1,           1,           1,           1,           1,           1,           1,           1,           1,           1,           1,           1,           1,           1,           1,           1,           1,           1,           1,\n",
              "                  1,           1,           1,           1,           1,           1,           1,           1,           1,           1,           1,           1,           1,           1,           1,           1,           1,           1,           1,           1,           1,           1,           1,\n",
              "                  1,           1,           1,           1,           1,           1,           1,           1,           1,           1,           1,           1,           1,           1,           1,           1,           1,           1,           1,           1,           1,           1,           1,\n",
              "                  1,           1,           1,           1,           1,           1,           1,           1,           1,           1,           1,           1,           1,           1,           1,           1,           1,           1,           1,           1,           1,           1,           1,\n",
              "                  1,           1,           1,           1,           1,           1,           1,           1,           1,           1,           1,           1,           1,           1,           1,           1,           1,           1,           1,           1,           1,           1,           1,\n",
              "                  1,           1,           1,           1,           1,           1,           1,           1,           1,           1,           1,           1,           1,           1,           1,           1,           1,           1,           1,           1,           1,           1,           1,\n",
              "                  1,           1,           1,           1,           1,           1,           1,           1,           1,           1,           1,           1,           1,           1,           1,           1,           1,           1,           1,           1,           1,           1,           1,\n",
              "                  1,           1,           1,           1,           1,           1,           1,           1,           1,           1,           1,           1,           1,           1,           1,           1,           1,           1,           1,           1,           1,           1,           1,\n",
              "                  1,           1,           1,           1,           1,           1,           1,           1,           1,           1,           1,           1,           1,           1,           1,           1,           1,           1,           1,           1,           1,           1,           1,\n",
              "                  1,           1,           1,           1,           1,           1,           1,           1,           1,           1,           1,           1,           1,           1,           1,           1,           1,           1,           1,           1,           1,           1,           1,\n",
              "                  1,           1,           1,           1,           1,           1,           1,           1,           1,           1,           1,           1,           1,           1,           1,           1,           1,           1,           1,           1,           1,           1,           1,\n",
              "                  1,           1,           1,           1,           1,           1,           1,           1,           1,           1,           1,           1,           1,           1,           1,           1,           1,           1,           1,           1,           1,           1,           1,\n",
              "                  1,           1,           1,           1,           1,           1,           1,           1,           1,           1,           1,           1,           1,           1,           1,           1,           1,           1,           1,           1,           1,           1,           1,\n",
              "                  1,           1,           1,           1,           1,           1,           1,           1,           1,           1,           1,           1,           1,           1,           1,           1,           1,           1,           1,           1,           1,           1,           1,\n",
              "                  1,           1,           1,           1,           1,           1,           1,           1,           1,           1,           1,           1,           1,           1,           1,           1,           1,           1,           1,           1,           1,           1,           1,\n",
              "                  1,           1,           1,           1,           1,           1,           1,           1,           1,           1,           1,           1,           1,           1,           1,           1,           1,           1,           1,           1,           1,           1,           1,\n",
              "                  1,           1,           1,           1,           1,           1,           1,           1,           1,           1,           1,           1,           1,           1,           1,           1,           1,           1,           1,           1,           1,           1,           1,\n",
              "                  1,           1,           1,           1,           1,           1,           1,           1,           1,           1,           1,           1,           1,           1,           1,           1,           1,           1,           1,           1,           1,           1,           1,\n",
              "                  1,           1,           1,           1,           1,           1,           1,           1,           1,           1,           1,           1,           1,           1,           1,           1,           1,           1,           1,           1,           1,           1,           1,\n",
              "                  1,           1,           1,           1,           1,           1,           1,           1,           1,           1,           1,           1,           1,           1,           1,           1,           1,           1,           1,           1,           1,           1,           1,\n",
              "                  1,           1,           1,           1,           1,           1,           1,           1,           1,           1,           1,           1,           1,           1,           1,           1,           1,           1,           1,           1,           1,           1,           1,\n",
              "                  1,           1,           1,           1,           1,           1,           1,           1,           1,           1,           1,           1,           1,           1,           1,           1,           1,           1,           1,           1,           1,           1,           1,\n",
              "                  1,           1,           1,           1,           1,           1,           1,           1,           1,           1,           1,           1,           1,           1,           1,           1,           1,           1,           1,           1,           1,           1,           1,\n",
              "                  1,           1,           1,           1,           1,           1,           1,           1,           1,           1,           1,           1,           1,           1,           1,           1,           1,           1,           1,           1,           1,           1,           1,\n",
              "                  1,           1,           1,           1,           1,           1,           1,           1,           1,           1,           1,           1,           1,           1,           1,           1,           1,           1,           1,           1,           1,           1,           1,\n",
              "                  1,           1,           1,           1,           1,           1,           1,           1,           1,           1,           1,           1,           1,           1,           1,           1,           1,           1,           1,           1,           1,           1,           1,\n",
              "                  1,           1,           1,           1,           1,           1,           1,           1,           1,           1,           1,           1,           1,           1,           1,           1,           1,           1,           1,           1,           1,           1,           1,\n",
              "                  1,           1,           1,           1,           1,           1,           1,           1,           1,           1,           1,           1,           1,           1,           1,           1,           1,           1,           1,           1,           1,           1,           1,\n",
              "                  1,           1,           1,           1,           1,           1,           1,           1,           1,           1,           1,           1,           1,           1,           1,           1,           1,           1,           1,           1,           1,           1,           1,\n",
              "                  1,           1,           1,           1,           1,           1,           1,           1,           1,           1,           1]]), 'Confidence', 'Precision'], [array([          0,    0.001001,    0.002002,    0.003003,    0.004004,    0.005005,    0.006006,    0.007007,    0.008008,    0.009009,     0.01001,    0.011011,    0.012012,    0.013013,    0.014014,    0.015015,    0.016016,    0.017017,    0.018018,    0.019019,     0.02002,    0.021021,    0.022022,    0.023023,\n",
              "          0.024024,    0.025025,    0.026026,    0.027027,    0.028028,    0.029029,     0.03003,    0.031031,    0.032032,    0.033033,    0.034034,    0.035035,    0.036036,    0.037037,    0.038038,    0.039039,     0.04004,    0.041041,    0.042042,    0.043043,    0.044044,    0.045045,    0.046046,    0.047047,\n",
              "          0.048048,    0.049049,     0.05005,    0.051051,    0.052052,    0.053053,    0.054054,    0.055055,    0.056056,    0.057057,    0.058058,    0.059059,     0.06006,    0.061061,    0.062062,    0.063063,    0.064064,    0.065065,    0.066066,    0.067067,    0.068068,    0.069069,     0.07007,    0.071071,\n",
              "          0.072072,    0.073073,    0.074074,    0.075075,    0.076076,    0.077077,    0.078078,    0.079079,     0.08008,    0.081081,    0.082082,    0.083083,    0.084084,    0.085085,    0.086086,    0.087087,    0.088088,    0.089089,     0.09009,    0.091091,    0.092092,    0.093093,    0.094094,    0.095095,\n",
              "          0.096096,    0.097097,    0.098098,    0.099099,      0.1001,      0.1011,      0.1021,      0.1031,      0.1041,     0.10511,     0.10611,     0.10711,     0.10811,     0.10911,     0.11011,     0.11111,     0.11211,     0.11311,     0.11411,     0.11512,     0.11612,     0.11712,     0.11812,     0.11912,\n",
              "           0.12012,     0.12112,     0.12212,     0.12312,     0.12412,     0.12513,     0.12613,     0.12713,     0.12813,     0.12913,     0.13013,     0.13113,     0.13213,     0.13313,     0.13413,     0.13514,     0.13614,     0.13714,     0.13814,     0.13914,     0.14014,     0.14114,     0.14214,     0.14314,\n",
              "           0.14414,     0.14515,     0.14615,     0.14715,     0.14815,     0.14915,     0.15015,     0.15115,     0.15215,     0.15315,     0.15415,     0.15516,     0.15616,     0.15716,     0.15816,     0.15916,     0.16016,     0.16116,     0.16216,     0.16316,     0.16416,     0.16517,     0.16617,     0.16717,\n",
              "           0.16817,     0.16917,     0.17017,     0.17117,     0.17217,     0.17317,     0.17417,     0.17518,     0.17618,     0.17718,     0.17818,     0.17918,     0.18018,     0.18118,     0.18218,     0.18318,     0.18418,     0.18519,     0.18619,     0.18719,     0.18819,     0.18919,     0.19019,     0.19119,\n",
              "           0.19219,     0.19319,     0.19419,      0.1952,      0.1962,      0.1972,      0.1982,      0.1992,      0.2002,      0.2012,      0.2022,      0.2032,      0.2042,     0.20521,     0.20621,     0.20721,     0.20821,     0.20921,     0.21021,     0.21121,     0.21221,     0.21321,     0.21421,     0.21522,\n",
              "           0.21622,     0.21722,     0.21822,     0.21922,     0.22022,     0.22122,     0.22222,     0.22322,     0.22422,     0.22523,     0.22623,     0.22723,     0.22823,     0.22923,     0.23023,     0.23123,     0.23223,     0.23323,     0.23423,     0.23524,     0.23624,     0.23724,     0.23824,     0.23924,\n",
              "           0.24024,     0.24124,     0.24224,     0.24324,     0.24424,     0.24525,     0.24625,     0.24725,     0.24825,     0.24925,     0.25025,     0.25125,     0.25225,     0.25325,     0.25425,     0.25526,     0.25626,     0.25726,     0.25826,     0.25926,     0.26026,     0.26126,     0.26226,     0.26326,\n",
              "           0.26426,     0.26527,     0.26627,     0.26727,     0.26827,     0.26927,     0.27027,     0.27127,     0.27227,     0.27327,     0.27427,     0.27528,     0.27628,     0.27728,     0.27828,     0.27928,     0.28028,     0.28128,     0.28228,     0.28328,     0.28428,     0.28529,     0.28629,     0.28729,\n",
              "           0.28829,     0.28929,     0.29029,     0.29129,     0.29229,     0.29329,     0.29429,      0.2953,      0.2963,      0.2973,      0.2983,      0.2993,      0.3003,      0.3013,      0.3023,      0.3033,      0.3043,     0.30531,     0.30631,     0.30731,     0.30831,     0.30931,     0.31031,     0.31131,\n",
              "           0.31231,     0.31331,     0.31431,     0.31532,     0.31632,     0.31732,     0.31832,     0.31932,     0.32032,     0.32132,     0.32232,     0.32332,     0.32432,     0.32533,     0.32633,     0.32733,     0.32833,     0.32933,     0.33033,     0.33133,     0.33233,     0.33333,     0.33433,     0.33534,\n",
              "           0.33634,     0.33734,     0.33834,     0.33934,     0.34034,     0.34134,     0.34234,     0.34334,     0.34434,     0.34535,     0.34635,     0.34735,     0.34835,     0.34935,     0.35035,     0.35135,     0.35235,     0.35335,     0.35435,     0.35536,     0.35636,     0.35736,     0.35836,     0.35936,\n",
              "           0.36036,     0.36136,     0.36236,     0.36336,     0.36436,     0.36537,     0.36637,     0.36737,     0.36837,     0.36937,     0.37037,     0.37137,     0.37237,     0.37337,     0.37437,     0.37538,     0.37638,     0.37738,     0.37838,     0.37938,     0.38038,     0.38138,     0.38238,     0.38338,\n",
              "           0.38438,     0.38539,     0.38639,     0.38739,     0.38839,     0.38939,     0.39039,     0.39139,     0.39239,     0.39339,     0.39439,      0.3954,      0.3964,      0.3974,      0.3984,      0.3994,      0.4004,      0.4014,      0.4024,      0.4034,      0.4044,     0.40541,     0.40641,     0.40741,\n",
              "           0.40841,     0.40941,     0.41041,     0.41141,     0.41241,     0.41341,     0.41441,     0.41542,     0.41642,     0.41742,     0.41842,     0.41942,     0.42042,     0.42142,     0.42242,     0.42342,     0.42442,     0.42543,     0.42643,     0.42743,     0.42843,     0.42943,     0.43043,     0.43143,\n",
              "           0.43243,     0.43343,     0.43443,     0.43544,     0.43644,     0.43744,     0.43844,     0.43944,     0.44044,     0.44144,     0.44244,     0.44344,     0.44444,     0.44545,     0.44645,     0.44745,     0.44845,     0.44945,     0.45045,     0.45145,     0.45245,     0.45345,     0.45445,     0.45546,\n",
              "           0.45646,     0.45746,     0.45846,     0.45946,     0.46046,     0.46146,     0.46246,     0.46346,     0.46446,     0.46547,     0.46647,     0.46747,     0.46847,     0.46947,     0.47047,     0.47147,     0.47247,     0.47347,     0.47447,     0.47548,     0.47648,     0.47748,     0.47848,     0.47948,\n",
              "           0.48048,     0.48148,     0.48248,     0.48348,     0.48448,     0.48549,     0.48649,     0.48749,     0.48849,     0.48949,     0.49049,     0.49149,     0.49249,     0.49349,     0.49449,      0.4955,      0.4965,      0.4975,      0.4985,      0.4995,      0.5005,      0.5015,      0.5025,      0.5035,\n",
              "            0.5045,     0.50551,     0.50651,     0.50751,     0.50851,     0.50951,     0.51051,     0.51151,     0.51251,     0.51351,     0.51451,     0.51552,     0.51652,     0.51752,     0.51852,     0.51952,     0.52052,     0.52152,     0.52252,     0.52352,     0.52452,     0.52553,     0.52653,     0.52753,\n",
              "           0.52853,     0.52953,     0.53053,     0.53153,     0.53253,     0.53353,     0.53453,     0.53554,     0.53654,     0.53754,     0.53854,     0.53954,     0.54054,     0.54154,     0.54254,     0.54354,     0.54454,     0.54555,     0.54655,     0.54755,     0.54855,     0.54955,     0.55055,     0.55155,\n",
              "           0.55255,     0.55355,     0.55455,     0.55556,     0.55656,     0.55756,     0.55856,     0.55956,     0.56056,     0.56156,     0.56256,     0.56356,     0.56456,     0.56557,     0.56657,     0.56757,     0.56857,     0.56957,     0.57057,     0.57157,     0.57257,     0.57357,     0.57457,     0.57558,\n",
              "           0.57658,     0.57758,     0.57858,     0.57958,     0.58058,     0.58158,     0.58258,     0.58358,     0.58458,     0.58559,     0.58659,     0.58759,     0.58859,     0.58959,     0.59059,     0.59159,     0.59259,     0.59359,     0.59459,      0.5956,      0.5966,      0.5976,      0.5986,      0.5996,\n",
              "            0.6006,      0.6016,      0.6026,      0.6036,      0.6046,     0.60561,     0.60661,     0.60761,     0.60861,     0.60961,     0.61061,     0.61161,     0.61261,     0.61361,     0.61461,     0.61562,     0.61662,     0.61762,     0.61862,     0.61962,     0.62062,     0.62162,     0.62262,     0.62362,\n",
              "           0.62462,     0.62563,     0.62663,     0.62763,     0.62863,     0.62963,     0.63063,     0.63163,     0.63263,     0.63363,     0.63463,     0.63564,     0.63664,     0.63764,     0.63864,     0.63964,     0.64064,     0.64164,     0.64264,     0.64364,     0.64464,     0.64565,     0.64665,     0.64765,\n",
              "           0.64865,     0.64965,     0.65065,     0.65165,     0.65265,     0.65365,     0.65465,     0.65566,     0.65666,     0.65766,     0.65866,     0.65966,     0.66066,     0.66166,     0.66266,     0.66366,     0.66466,     0.66567,     0.66667,     0.66767,     0.66867,     0.66967,     0.67067,     0.67167,\n",
              "           0.67267,     0.67367,     0.67467,     0.67568,     0.67668,     0.67768,     0.67868,     0.67968,     0.68068,     0.68168,     0.68268,     0.68368,     0.68468,     0.68569,     0.68669,     0.68769,     0.68869,     0.68969,     0.69069,     0.69169,     0.69269,     0.69369,     0.69469,      0.6957,\n",
              "            0.6967,      0.6977,      0.6987,      0.6997,      0.7007,      0.7017,      0.7027,      0.7037,      0.7047,     0.70571,     0.70671,     0.70771,     0.70871,     0.70971,     0.71071,     0.71171,     0.71271,     0.71371,     0.71471,     0.71572,     0.71672,     0.71772,     0.71872,     0.71972,\n",
              "           0.72072,     0.72172,     0.72272,     0.72372,     0.72472,     0.72573,     0.72673,     0.72773,     0.72873,     0.72973,     0.73073,     0.73173,     0.73273,     0.73373,     0.73473,     0.73574,     0.73674,     0.73774,     0.73874,     0.73974,     0.74074,     0.74174,     0.74274,     0.74374,\n",
              "           0.74474,     0.74575,     0.74675,     0.74775,     0.74875,     0.74975,     0.75075,     0.75175,     0.75275,     0.75375,     0.75475,     0.75576,     0.75676,     0.75776,     0.75876,     0.75976,     0.76076,     0.76176,     0.76276,     0.76376,     0.76476,     0.76577,     0.76677,     0.76777,\n",
              "           0.76877,     0.76977,     0.77077,     0.77177,     0.77277,     0.77377,     0.77477,     0.77578,     0.77678,     0.77778,     0.77878,     0.77978,     0.78078,     0.78178,     0.78278,     0.78378,     0.78478,     0.78579,     0.78679,     0.78779,     0.78879,     0.78979,     0.79079,     0.79179,\n",
              "           0.79279,     0.79379,     0.79479,      0.7958,      0.7968,      0.7978,      0.7988,      0.7998,      0.8008,      0.8018,      0.8028,      0.8038,      0.8048,     0.80581,     0.80681,     0.80781,     0.80881,     0.80981,     0.81081,     0.81181,     0.81281,     0.81381,     0.81481,     0.81582,\n",
              "           0.81682,     0.81782,     0.81882,     0.81982,     0.82082,     0.82182,     0.82282,     0.82382,     0.82482,     0.82583,     0.82683,     0.82783,     0.82883,     0.82983,     0.83083,     0.83183,     0.83283,     0.83383,     0.83483,     0.83584,     0.83684,     0.83784,     0.83884,     0.83984,\n",
              "           0.84084,     0.84184,     0.84284,     0.84384,     0.84484,     0.84585,     0.84685,     0.84785,     0.84885,     0.84985,     0.85085,     0.85185,     0.85285,     0.85385,     0.85485,     0.85586,     0.85686,     0.85786,     0.85886,     0.85986,     0.86086,     0.86186,     0.86286,     0.86386,\n",
              "           0.86486,     0.86587,     0.86687,     0.86787,     0.86887,     0.86987,     0.87087,     0.87187,     0.87287,     0.87387,     0.87487,     0.87588,     0.87688,     0.87788,     0.87888,     0.87988,     0.88088,     0.88188,     0.88288,     0.88388,     0.88488,     0.88589,     0.88689,     0.88789,\n",
              "           0.88889,     0.88989,     0.89089,     0.89189,     0.89289,     0.89389,     0.89489,      0.8959,      0.8969,      0.8979,      0.8989,      0.8999,      0.9009,      0.9019,      0.9029,      0.9039,      0.9049,     0.90591,     0.90691,     0.90791,     0.90891,     0.90991,     0.91091,     0.91191,\n",
              "           0.91291,     0.91391,     0.91491,     0.91592,     0.91692,     0.91792,     0.91892,     0.91992,     0.92092,     0.92192,     0.92292,     0.92392,     0.92492,     0.92593,     0.92693,     0.92793,     0.92893,     0.92993,     0.93093,     0.93193,     0.93293,     0.93393,     0.93493,     0.93594,\n",
              "           0.93694,     0.93794,     0.93894,     0.93994,     0.94094,     0.94194,     0.94294,     0.94394,     0.94494,     0.94595,     0.94695,     0.94795,     0.94895,     0.94995,     0.95095,     0.95195,     0.95295,     0.95395,     0.95495,     0.95596,     0.95696,     0.95796,     0.95896,     0.95996,\n",
              "           0.96096,     0.96196,     0.96296,     0.96396,     0.96496,     0.96597,     0.96697,     0.96797,     0.96897,     0.96997,     0.97097,     0.97197,     0.97297,     0.97397,     0.97497,     0.97598,     0.97698,     0.97798,     0.97898,     0.97998,     0.98098,     0.98198,     0.98298,     0.98398,\n",
              "           0.98498,     0.98599,     0.98699,     0.98799,     0.98899,     0.98999,     0.99099,     0.99199,     0.99299,     0.99399,     0.99499,       0.996,       0.997,       0.998,       0.999,           1]), array([[    0.58333,     0.58333,     0.58333,     0.54167,     0.45833,     0.45833,     0.41667,     0.41667,     0.41667,     0.40551,     0.39006,       0.375,       0.375,     0.35145,     0.33333,     0.31439,      0.2918,     0.19676,     0.17319,     0.16667,     0.16667,     0.16667,     0.10765,\n",
              "           0.075293,    0.062981,    0.050668,    0.041667,    0.041667,    0.041667,    0.041667,    0.041667,    0.041667,    0.041667,           0,           0,           0,           0,           0,           0,           0,           0,           0,           0,           0,           0,           0,\n",
              "                  0,           0,           0,           0,           0,           0,           0,           0,           0,           0,           0,           0,           0,           0,           0,           0,           0,           0,           0,           0,           0,           0,           0,\n",
              "                  0,           0,           0,           0,           0,           0,           0,           0,           0,           0,           0,           0,           0,           0,           0,           0,           0,           0,           0,           0,           0,           0,           0,\n",
              "                  0,           0,           0,           0,           0,           0,           0,           0,           0,           0,           0,           0,           0,           0,           0,           0,           0,           0,           0,           0,           0,           0,           0,\n",
              "                  0,           0,           0,           0,           0,           0,           0,           0,           0,           0,           0,           0,           0,           0,           0,           0,           0,           0,           0,           0,           0,           0,           0,\n",
              "                  0,           0,           0,           0,           0,           0,           0,           0,           0,           0,           0,           0,           0,           0,           0,           0,           0,           0,           0,           0,           0,           0,           0,\n",
              "                  0,           0,           0,           0,           0,           0,           0,           0,           0,           0,           0,           0,           0,           0,           0,           0,           0,           0,           0,           0,           0,           0,           0,\n",
              "                  0,           0,           0,           0,           0,           0,           0,           0,           0,           0,           0,           0,           0,           0,           0,           0,           0,           0,           0,           0,           0,           0,           0,\n",
              "                  0,           0,           0,           0,           0,           0,           0,           0,           0,           0,           0,           0,           0,           0,           0,           0,           0,           0,           0,           0,           0,           0,           0,\n",
              "                  0,           0,           0,           0,           0,           0,           0,           0,           0,           0,           0,           0,           0,           0,           0,           0,           0,           0,           0,           0,           0,           0,           0,\n",
              "                  0,           0,           0,           0,           0,           0,           0,           0,           0,           0,           0,           0,           0,           0,           0,           0,           0,           0,           0,           0,           0,           0,           0,\n",
              "                  0,           0,           0,           0,           0,           0,           0,           0,           0,           0,           0,           0,           0,           0,           0,           0,           0,           0,           0,           0,           0,           0,           0,\n",
              "                  0,           0,           0,           0,           0,           0,           0,           0,           0,           0,           0,           0,           0,           0,           0,           0,           0,           0,           0,           0,           0,           0,           0,\n",
              "                  0,           0,           0,           0,           0,           0,           0,           0,           0,           0,           0,           0,           0,           0,           0,           0,           0,           0,           0,           0,           0,           0,           0,\n",
              "                  0,           0,           0,           0,           0,           0,           0,           0,           0,           0,           0,           0,           0,           0,           0,           0,           0,           0,           0,           0,           0,           0,           0,\n",
              "                  0,           0,           0,           0,           0,           0,           0,           0,           0,           0,           0,           0,           0,           0,           0,           0,           0,           0,           0,           0,           0,           0,           0,\n",
              "                  0,           0,           0,           0,           0,           0,           0,           0,           0,           0,           0,           0,           0,           0,           0,           0,           0,           0,           0,           0,           0,           0,           0,\n",
              "                  0,           0,           0,           0,           0,           0,           0,           0,           0,           0,           0,           0,           0,           0,           0,           0,           0,           0,           0,           0,           0,           0,           0,\n",
              "                  0,           0,           0,           0,           0,           0,           0,           0,           0,           0,           0,           0,           0,           0,           0,           0,           0,           0,           0,           0,           0,           0,           0,\n",
              "                  0,           0,           0,           0,           0,           0,           0,           0,           0,           0,           0,           0,           0,           0,           0,           0,           0,           0,           0,           0,           0,           0,           0,\n",
              "                  0,           0,           0,           0,           0,           0,           0,           0,           0,           0,           0,           0,           0,           0,           0,           0,           0,           0,           0,           0,           0,           0,           0,\n",
              "                  0,           0,           0,           0,           0,           0,           0,           0,           0,           0,           0,           0,           0,           0,           0,           0,           0,           0,           0,           0,           0,           0,           0,\n",
              "                  0,           0,           0,           0,           0,           0,           0,           0,           0,           0,           0,           0,           0,           0,           0,           0,           0,           0,           0,           0,           0,           0,           0,\n",
              "                  0,           0,           0,           0,           0,           0,           0,           0,           0,           0,           0,           0,           0,           0,           0,           0,           0,           0,           0,           0,           0,           0,           0,\n",
              "                  0,           0,           0,           0,           0,           0,           0,           0,           0,           0,           0,           0,           0,           0,           0,           0,           0,           0,           0,           0,           0,           0,           0,\n",
              "                  0,           0,           0,           0,           0,           0,           0,           0,           0,           0,           0,           0,           0,           0,           0,           0,           0,           0,           0,           0,           0,           0,           0,\n",
              "                  0,           0,           0,           0,           0,           0,           0,           0,           0,           0,           0,           0,           0,           0,           0,           0,           0,           0,           0,           0,           0,           0,           0,\n",
              "                  0,           0,           0,           0,           0,           0,           0,           0,           0,           0,           0,           0,           0,           0,           0,           0,           0,           0,           0,           0,           0,           0,           0,\n",
              "                  0,           0,           0,           0,           0,           0,           0,           0,           0,           0,           0,           0,           0,           0,           0,           0,           0,           0,           0,           0,           0,           0,           0,\n",
              "                  0,           0,           0,           0,           0,           0,           0,           0,           0,           0,           0,           0,           0,           0,           0,           0,           0,           0,           0,           0,           0,           0,           0,\n",
              "                  0,           0,           0,           0,           0,           0,           0,           0,           0,           0,           0,           0,           0,           0,           0,           0,           0,           0,           0,           0,           0,           0,           0,\n",
              "                  0,           0,           0,           0,           0,           0,           0,           0,           0,           0,           0,           0,           0,           0,           0,           0,           0,           0,           0,           0,           0,           0,           0,\n",
              "                  0,           0,           0,           0,           0,           0,           0,           0,           0,           0,           0,           0,           0,           0,           0,           0,           0,           0,           0,           0,           0,           0,           0,\n",
              "                  0,           0,           0,           0,           0,           0,           0,           0,           0,           0,           0,           0,           0,           0,           0,           0,           0,           0,           0,           0,           0,           0,           0,\n",
              "                  0,           0,           0,           0,           0,           0,           0,           0,           0,           0,           0,           0,           0,           0,           0,           0,           0,           0,           0,           0,           0,           0,           0,\n",
              "                  0,           0,           0,           0,           0,           0,           0,           0,           0,           0,           0,           0,           0,           0,           0,           0,           0,           0,           0,           0,           0,           0,           0,\n",
              "                  0,           0,           0,           0,           0,           0,           0,           0,           0,           0,           0,           0,           0,           0,           0,           0,           0,           0,           0,           0,           0,           0,           0,\n",
              "                  0,           0,           0,           0,           0,           0,           0,           0,           0,           0,           0,           0,           0,           0,           0,           0,           0,           0,           0,           0,           0,           0,           0,\n",
              "                  0,           0,           0,           0,           0,           0,           0,           0,           0,           0,           0,           0,           0,           0,           0,           0,           0,           0,           0,           0,           0,           0,           0,\n",
              "                  0,           0,           0,           0,           0,           0,           0,           0,           0,           0,           0,           0,           0,           0,           0,           0,           0,           0,           0,           0,           0,           0,           0,\n",
              "                  0,           0,           0,           0,           0,           0,           0,           0,           0,           0,           0,           0,           0,           0,           0,           0,           0,           0,           0,           0,           0,           0,           0,\n",
              "                  0,           0,           0,           0,           0,           0,           0,           0,           0,           0,           0,           0,           0,           0,           0,           0,           0,           0,           0,           0,           0,           0,           0,\n",
              "                  0,           0,           0,           0,           0,           0,           0,           0,           0,           0,           0]]), 'Confidence', 'Recall']]\n",
              "fitness: 0.2459384899208869\n",
              "keys: ['metrics/precision(B)', 'metrics/recall(B)', 'metrics/mAP50(B)', 'metrics/mAP50-95(B)']\n",
              "maps: array([    0.22847,     0.22847,     0.22847,     0.22847,     0.22847,     0.22847,     0.22847,     0.22847,     0.22847,     0.22847,     0.22847,     0.22847,     0.22847,     0.22847,     0.22847,     0.22847,     0.22847,     0.22847,     0.22847,     0.22847,     0.22847,     0.22847,     0.22847,     0.22847,\n",
              "           0.22847,     0.22847,     0.22847,     0.22847,     0.22847,     0.22847])\n",
              "names: {0: 'Apple Scab Leaf', 1: 'Apple leaf', 2: 'Apple rust leaf', 3: 'Bell_pepper leaf spot', 4: 'Bell_pepper leaf', 5: 'Blueberry leaf', 6: 'Cherry leaf', 7: 'Corn Gray leaf spot', 8: 'Corn leaf blight', 9: 'Corn rust leaf', 10: 'Peach leaf', 11: 'Potato leaf early blight', 12: 'Potato leaf late blight', 13: 'Potato leaf', 14: 'Raspberry leaf', 15: 'Soyabean leaf', 16: 'Soybean leaf', 17: 'Squash Powdery mildew leaf', 18: 'Strawberry leaf', 19: 'Tomato Early blight leaf', 20: 'Tomato Septoria leaf spot', 21: 'Tomato leaf bacterial spot', 22: 'Tomato leaf late blight', 23: 'Tomato leaf mosaic virus', 24: 'Tomato leaf yellow virus', 25: 'Tomato leaf', 26: 'Tomato mold leaf', 27: 'Tomato two spotted spider mites leaf', 28: 'grape leaf black rot', 29: 'grape leaf'}\n",
              "plot: True\n",
              "results_dict: {'metrics/precision(B)': 0.16279069767441862, 'metrics/recall(B)': 0.5833333333333334, 'metrics/mAP50(B)': 0.4031142057425779, 'metrics/mAP50-95(B)': 0.22847452149625455, 'fitness': 0.2459384899208869}\n",
              "save_dir: PosixPath('/content/yolov10/ultralytics/ultralytics/runs/detect/plantdec_yolov10c')\n",
              "speed: {'preprocess': 0.24327085712424637, 'inference': 15.729420428572537, 'loss': 0.0009345714196180259, 'postprocess': 1.5205481428373397}\n",
              "task: 'detect'"
            ]
          },
          "metadata": {},
          "execution_count": 15
        }
      ]
    },
    {
      "cell_type": "code",
      "source": [
        "!find /content -type f -name \"best.pt\"\n"
      ],
      "metadata": {
        "colab": {
          "base_uri": "https://localhost:8080/"
        },
        "id": "clC-su8jvK21",
        "outputId": "295c0d9e-d06e-4dfa-d2d2-030521ad4c66"
      },
      "execution_count": 20,
      "outputs": [
        {
          "output_type": "stream",
          "name": "stdout",
          "text": [
            "/content/yolov10/ultralytics/ultralytics/runs/detect/plantdec_yolov10c/weights/best.pt\n"
          ]
        }
      ]
    },
    {
      "cell_type": "code",
      "source": [
        "from ultralytics import YOLO\n",
        "\n",
        "# Load trained YOLOv10 model\n",
        "model = YOLO(\"/content/yolov10/ultralytics/ultralytics/runs/detect/plantdec_yolov10c/weights/best.pt\")\n",
        "\n",
        "# Run prediction\n",
        "results = model.predict(\n",
        "    source=\"/content/drive/MyDrive/PlantDec/images/test\",\n",
        "    save=True,\n",
        "    save_txt=True,\n",
        "    save_conf=True,\n",
        "    project=\"runs/test_results\",\n",
        "    name=\"yolov10_test\",\n",
        "    exist_ok=True,\n",
        "    verbose=False\n",
        ")\n",
        "\n",
        "# Write summary to classify.txt\n",
        "with open(\"classify.txt\", \"w\") as f:\n",
        "    f.write(\"print(\\\"✅ YOLOv10 Inference complete!\\\")\\n\")\n",
        "    f.write(\"print(\\\"Results saved to: runs/test_results/yolov10_test\\\")\\n\")\n",
        "    f.write(f\"print(\\\"{len(results)} test images processed.\\\")\\n\")\n"
      ],
      "metadata": {
        "colab": {
          "base_uri": "https://localhost:8080/",
          "height": 121
        },
        "id": "8g2i8jD_vY3w",
        "outputId": "bc33065d-c31b-4bef-fcbd-7c3773fbde1f"
      },
      "execution_count": 21,
      "outputs": [
        {
          "output_type": "stream",
          "name": "stdout",
          "text": [
            "Results saved to \u001b[1mruns/test_results/yolov10_test\u001b[0m\n",
            "41 labels saved to runs/test_results/yolov10_test/labels\n",
            "✅ YOLOv10 Inference complete!\n",
            "Results saved to: runs/test_results/yolov10_test\n",
            "239 test images processed.\n"
          ]
        },
        {
          "output_type": "display_data",
          "data": {
            "text/plain": [
              "<Figure size 640x480 with 0 Axes>"
            ]
          },
          "metadata": {}
        }
      ]
    },
    {
      "cell_type": "code",
      "source": [
        "!cat classify.txt"
      ],
      "metadata": {
        "colab": {
          "base_uri": "https://localhost:8080/"
        },
        "id": "Atw0GRXmvejP",
        "outputId": "8e78438c-1b19-4569-d1a8-d5532ed56175"
      },
      "execution_count": 24,
      "outputs": [
        {
          "output_type": "stream",
          "name": "stdout",
          "text": [
            "✅ YOLOv10 Inference complete!\n",
            "Results saved to: runs/test_results/yolov10_test\n",
            "239 test images processed.\n",
            "\n",
            "    175 layers, 10840920 parameters, 0 gradients, 23.1 GFLOPs\n",
            "                   Class     Images  Instances          P          R      mAP50   mAP50-95\n",
            "                      all        349          7     0.605      0.755     0.649     0.362\n",
            "          Apple Scab Leaf        349          1     0.520      0.650     0.550     0.290\n",
            "        Apple rust leaf        349          6     0.810      0.860     0.820     0.435\n",
            " "
          ]
        }
      ]
    }
  ]
}